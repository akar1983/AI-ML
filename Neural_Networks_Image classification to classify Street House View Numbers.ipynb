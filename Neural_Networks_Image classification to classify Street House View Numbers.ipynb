{
  "nbformat": 4,
  "nbformat_minor": 0,
  "metadata": {
    "colab": {
      "name": "Aug 10 2020 - Neural Networks Project.ipynb",
      "provenance": [],
      "collapsed_sections": []
    },
    "kernelspec": {
      "name": "python3",
      "display_name": "Python 3"
    },
    "accelerator": "GPU"
  },
  "cells": [
    {
      "cell_type": "markdown",
      "metadata": {
        "id": "1xdRC1ARs-Ul",
        "colab_type": "text"
      },
      "source": [
        "# Project - Neural Network"
      ]
    },
    {
      "cell_type": "markdown",
      "metadata": {
        "id": "yVTlq8O8QiqB",
        "colab_type": "text"
      },
      "source": [
        "### Submitted by - Abhik Kar\n",
        "\n",
        "##### Dated - 09-Aug-2020"
      ]
    },
    {
      "cell_type": "markdown",
      "metadata": {
        "id": "NKrMNoD7Q-4H",
        "colab_type": "text"
      },
      "source": [
        "##### Description:\n",
        "The Street View House Numbers (SVHN) Dataset is a real-world image dataset for developing machine learning and object recognition algorithms with minimal requirement on data formatting but comes from a significantly harder, unsolved, real world problem (recognizing digits and numbers in natural scene images). SVHN is obtained from house numbers in Google Street View images.\n",
        "\n",
        "##### Objective:\n",
        "The objective of the project is to learn how to implement a simple image classification pipeline based on a deep neural network."
      ]
    },
    {
      "cell_type": "code",
      "metadata": {
        "id": "N99JBbPVqQvQ",
        "colab_type": "code",
        "colab": {
          "base_uri": "https://localhost:8080/",
          "height": 35
        },
        "outputId": "76430543-0d94-4512-b87a-e53d9c9b268c"
      },
      "source": [
        "%tensorflow_version 2.x\n",
        "import tensorflow\n",
        "tensorflow.__version__"
      ],
      "execution_count": 1,
      "outputs": [
        {
          "output_type": "execute_result",
          "data": {
            "application/vnd.google.colaboratory.intrinsic+json": {
              "type": "string"
            },
            "text/plain": [
              "'2.3.0'"
            ]
          },
          "metadata": {
            "tags": []
          },
          "execution_count": 1
        }
      ]
    },
    {
      "cell_type": "markdown",
      "metadata": {
        "id": "DCzXdTrvS43e",
        "colab_type": "text"
      },
      "source": [
        "#### Importing libraries"
      ]
    },
    {
      "cell_type": "code",
      "metadata": {
        "id": "GQ9d3QhGq3e7",
        "colab_type": "code",
        "colab": {}
      },
      "source": [
        "import pandas as pd\n",
        "import sklearn\n",
        "import matplotlib.pyplot as plt\n",
        "%matplotlib inline\n",
        "from tensorflow.keras.models import Sequential\n",
        "from tensorflow.keras.layers import Dense, Activation\n",
        "from tensorflow.keras.layers import Dropout, BatchNormalization\n",
        "from tensorflow.keras import optimizers\n",
        "from tensorflow.keras.utils import to_categorical\n",
        "from sklearn.preprocessing import StandardScaler\n",
        "from sklearn.metrics import classification_report\n",
        "\n",
        "# Ignore the warnings\n",
        "import warnings\n",
        "warnings.filterwarnings(\"ignore\")"
      ],
      "execution_count": 2,
      "outputs": []
    },
    {
      "cell_type": "markdown",
      "metadata": {
        "id": "oYGbYvOlGayr",
        "colab_type": "text"
      },
      "source": [
        "## Load Dataset"
      ]
    },
    {
      "cell_type": "code",
      "metadata": {
        "id": "O5pVMXg0q6dg",
        "colab_type": "code",
        "colab": {
          "base_uri": "https://localhost:8080/",
          "height": 122
        },
        "outputId": "da944fe4-00e3-43d4-a515-a2547ab28a53"
      },
      "source": [
        "from google.colab import drive\n",
        "drive.mount('/content/drive')"
      ],
      "execution_count": 3,
      "outputs": [
        {
          "output_type": "stream",
          "text": [
            "Go to this URL in a browser: https://accounts.google.com/o/oauth2/auth?client_id=947318989803-6bn6qk8qdgf4n4g3pfee6491hc0brc4i.apps.googleusercontent.com&redirect_uri=urn%3aietf%3awg%3aoauth%3a2.0%3aoob&response_type=code&scope=email%20https%3a%2f%2fwww.googleapis.com%2fauth%2fdocs.test%20https%3a%2f%2fwww.googleapis.com%2fauth%2fdrive%20https%3a%2f%2fwww.googleapis.com%2fauth%2fdrive.photos.readonly%20https%3a%2f%2fwww.googleapis.com%2fauth%2fpeopleapi.readonly\n",
            "\n",
            "Enter your authorization code:\n",
            "··········\n",
            "Mounted at /content/drive\n"
          ],
          "name": "stdout"
        }
      ]
    },
    {
      "cell_type": "code",
      "metadata": {
        "id": "7YG8lANStNHn",
        "colab_type": "code",
        "colab": {}
      },
      "source": [
        "import h5py\n",
        "import numpy as np\n",
        "#Open the file as read only\n",
        "h5f = h5py.File('/content/drive/My Drive/Colab Notebooks/SVHN_single_grey1.h5','r')"
      ],
      "execution_count": 4,
      "outputs": []
    },
    {
      "cell_type": "markdown",
      "metadata": {
        "id": "RucAux66I5GZ",
        "colab_type": "text"
      },
      "source": [
        "## Data fetching and understand the training, validation and testing data splits"
      ]
    },
    {
      "cell_type": "code",
      "metadata": {
        "id": "qCg7lgc5NOFi",
        "colab_type": "code",
        "colab": {
          "base_uri": "https://localhost:8080/",
          "height": 34
        },
        "outputId": "66d77ebc-56f4-433b-fd41-38419d36c881"
      },
      "source": [
        "h5f.keys()"
      ],
      "execution_count": 5,
      "outputs": [
        {
          "output_type": "execute_result",
          "data": {
            "text/plain": [
              "<KeysViewHDF5 ['X_test', 'X_train', 'X_val', 'y_test', 'y_train', 'y_val']>"
            ]
          },
          "metadata": {
            "tags": []
          },
          "execution_count": 5
        }
      ]
    },
    {
      "cell_type": "code",
      "metadata": {
        "id": "AesyfpxDNh3A",
        "colab_type": "code",
        "colab": {}
      },
      "source": [
        "#load the training, test and validation set\n",
        "X_train = h5f['X_train'][:]\n",
        "y_train = h5f['y_train'][:]\n",
        "X_val = h5f['X_val'][:]\n",
        "y_val = h5f['y_val'][:]\n",
        "X_test = h5f['X_test'][:]\n",
        "y_test = h5f['y_test'][:]\n"
      ],
      "execution_count": 6,
      "outputs": []
    },
    {
      "cell_type": "markdown",
      "metadata": {
        "id": "9fiQyi_iQSXi",
        "colab_type": "text"
      },
      "source": [
        "### Check the data shape"
      ]
    },
    {
      "cell_type": "code",
      "metadata": {
        "id": "JIXJYwbECmg2",
        "colab_type": "code",
        "colab": {
          "base_uri": "https://localhost:8080/",
          "height": 119
        },
        "outputId": "1f8dfe1e-7940-442f-c127-516b30a71481"
      },
      "source": [
        "print(\"Shape of X_train:\",X_train.shape)\n",
        "print(\"Shape of y_train:\",y_train.shape)\n",
        "print(\"Shape of X_val:\",X_val.shape)\n",
        "print(\"Shape of y_val:\",y_val.shape)\n",
        "print(\"Shape of X_test:\",X_test.shape)\n",
        "print(\"Shape of y_test:\",y_test.shape)"
      ],
      "execution_count": 7,
      "outputs": [
        {
          "output_type": "stream",
          "text": [
            "Shape of X_train: (42000, 32, 32)\n",
            "Shape of y_train: (42000,)\n",
            "Shape of X_val: (60000, 32, 32)\n",
            "Shape of y_val: (60000,)\n",
            "Shape of X_test: (18000, 32, 32)\n",
            "Shape of y_test: (18000,)\n"
          ],
          "name": "stdout"
        }
      ]
    },
    {
      "cell_type": "markdown",
      "metadata": {
        "id": "yqMLvkVXJHmu",
        "colab_type": "text"
      },
      "source": [
        "## Basic Image Classification pipeline and the data-driven approach"
      ]
    },
    {
      "cell_type": "code",
      "metadata": {
        "id": "9PSt0045SNsS",
        "colab_type": "code",
        "colab": {
          "base_uri": "https://localhost:8080/",
          "height": 68
        },
        "outputId": "a31c27c1-dbb0-492e-9426-7fcf62ce1039"
      },
      "source": [
        "print('First 5 examples training set are: ', y_train[0:5])\n",
        "print('First 5 examples validation set are: ', y_val[0:5])\n",
        "print('First 5 examples testing set are: ', y_test[0:5])"
      ],
      "execution_count": 8,
      "outputs": [
        {
          "output_type": "stream",
          "text": [
            "First 5 examples training set are:  [2 6 7 4 4]\n",
            "First 5 examples validation set are:  [0 0 0 0 0]\n",
            "First 5 examples testing set are:  [1 7 2 9 0]\n"
          ],
          "name": "stdout"
        }
      ]
    },
    {
      "cell_type": "code",
      "metadata": {
        "id": "OgAY9xMQHLcb",
        "colab_type": "code",
        "colab": {
          "base_uri": "https://localhost:8080/",
          "height": 300
        },
        "outputId": "2ec0d985-4190-429b-e525-43e79023a18a"
      },
      "source": [
        "# show first number in the train dataset\n",
        "print(\"Label: {}\".format(y_train[0]))\n",
        "plt.imshow(X_train[0], cmap='gray')"
      ],
      "execution_count": 9,
      "outputs": [
        {
          "output_type": "stream",
          "text": [
            "Label: 2\n"
          ],
          "name": "stdout"
        },
        {
          "output_type": "execute_result",
          "data": {
            "text/plain": [
              "<matplotlib.image.AxesImage at 0x7fc9ce7cb8d0>"
            ]
          },
          "metadata": {
            "tags": []
          },
          "execution_count": 9
        },
        {
          "output_type": "display_data",
          "data": {
            "image/png": "[encoded data removed]",
            "text/plain": [
              "<Figure size 432x288 with 1 Axes>"
            ]
          },
          "metadata": {
            "tags": [],
            "needs_background": "light"
          }
        }
      ]
    },
    {
      "cell_type": "code",
      "metadata": {
        "id": "TN5a8_SxO3sV",
        "colab_type": "code",
        "colab": {
          "base_uri": "https://localhost:8080/",
          "height": 300
        },
        "outputId": "9e1ec39a-d388-4ad1-d45f-84e839653101"
      },
      "source": [
        "# show first number in the validation dataset\n",
        "print(\"Label: {}\".format(y_val[0]))\n",
        "plt.imshow(X_val[0], cmap='gray')"
      ],
      "execution_count": 10,
      "outputs": [
        {
          "output_type": "stream",
          "text": [
            "Label: 0\n"
          ],
          "name": "stdout"
        },
        {
          "output_type": "execute_result",
          "data": {
            "text/plain": [
              "<matplotlib.image.AxesImage at 0x7fc9ce2ad080>"
            ]
          },
          "metadata": {
            "tags": []
          },
          "execution_count": 10
        },
        {
          "output_type": "display_data",
          "data": {
            "image/png": "[encoded data removed]",
            "text/plain": [
              "<Figure size 432x288 with 1 Axes>"
            ]
          },
          "metadata": {
            "tags": [],
            "needs_background": "light"
          }
        }
      ]
    },
    {
      "cell_type": "code",
      "metadata": {
        "id": "ZwSzTJzxOjXu",
        "colab_type": "code",
        "colab": {
          "base_uri": "https://localhost:8080/",
          "height": 300
        },
        "outputId": "15b52221-db32-4c88-f0eb-446b3dd68102"
      },
      "source": [
        "# show first number in the test dataset\n",
        "print(\"Label: {}\".format(y_test[0]))\n",
        "plt.imshow(X_test[0], cmap='gray')"
      ],
      "execution_count": 11,
      "outputs": [
        {
          "output_type": "stream",
          "text": [
            "Label: 1\n"
          ],
          "name": "stdout"
        },
        {
          "output_type": "execute_result",
          "data": {
            "text/plain": [
              "<matplotlib.image.AxesImage at 0x7fc9ce2962b0>"
            ]
          },
          "metadata": {
            "tags": []
          },
          "execution_count": 11
        },
        {
          "output_type": "display_data",
          "data": {
            "image/png": "[encoded data removed]",
            "text/plain": [
              "<Figure size 432x288 with 1 Axes>"
            ]
          },
          "metadata": {
            "tags": [],
            "needs_background": "light"
          }
        }
      ]
    },
    {
      "cell_type": "markdown",
      "metadata": {
        "id": "gGAVCpaqRViq",
        "colab_type": "text"
      },
      "source": [
        "### Data Pre-processing"
      ]
    },
    {
      "cell_type": "markdown",
      "metadata": {
        "id": "nordI9qdt5B-",
        "colab_type": "text"
      },
      "source": [
        "##### Normalize features"
      ]
    },
    {
      "cell_type": "code",
      "metadata": {
        "id": "mytv2W0tJSDS",
        "colab_type": "code",
        "colab": {}
      },
      "source": [
        "X_train = X_train.astype('float32')\n",
        "X_val = X_val.astype('float32')\n",
        "X_test = X_test.astype('float32')\n",
        "\n",
        "X_train /= 255\n",
        "X_val /= 255\n",
        "X_test /= 255"
      ],
      "execution_count": 12,
      "outputs": []
    },
    {
      "cell_type": "markdown",
      "metadata": {
        "id": "vCEJciLzuCH5",
        "colab_type": "text"
      },
      "source": [
        "##### Reshape features"
      ]
    },
    {
      "cell_type": "code",
      "metadata": {
        "id": "bBPwcljzRWLO",
        "colab_type": "code",
        "colab": {}
      },
      "source": [
        "# reshaping X data: (n, 32, 32) => (n, 1024)\n",
        "X_train = X_train.reshape((X_train.shape[0], -1))\n",
        "X_val = X_val.reshape((X_val.shape[0], -1))\n",
        "X_test = X_test.reshape((X_test.shape[0], -1))"
      ],
      "execution_count": 13,
      "outputs": []
    },
    {
      "cell_type": "code",
      "metadata": {
        "id": "R8Rrca0K2KCk",
        "colab_type": "code",
        "colab": {
          "base_uri": "https://localhost:8080/",
          "height": 187
        },
        "outputId": "74dffab1-c4af-4aa1-fd9d-d5335bab4c7e"
      },
      "source": [
        "print(X_train.shape, X_val.shape, X_test.shape, y_train.shape, y_val.shape, y_test.shape)\n",
        "\n",
        "print(\"Images in X_train:\", X_train.shape[0])\n",
        "print(\"Images in X_val:\", X_val.shape[0])\n",
        "print(\"Images in X_test:\", X_test.shape[0])\n",
        "\n",
        "print(\"Max value in X_train:\", X_train.max())\n",
        "print(\"Min value in X_train:\", X_train.min())\n",
        "print(\"Max value in X_val:\", X_val.max())\n",
        "print(\"Min value in X_val:\", X_val.min())\n",
        "print(\"Max value in X_test:\", X_test.max())\n",
        "print(\"Min value in X_test:\", X_test.min())"
      ],
      "execution_count": 14,
      "outputs": [
        {
          "output_type": "stream",
          "text": [
            "(42000, 1024) (60000, 1024) (18000, 1024) (42000,) (60000,) (18000,)\n",
            "Images in X_train: 42000\n",
            "Images in X_val: 60000\n",
            "Images in X_test: 18000\n",
            "Max value in X_train: 0.9999\n",
            "Min value in X_train: 0.0\n",
            "Max value in X_val: 0.9999\n",
            "Min value in X_val: 0.0\n",
            "Max value in X_test: 0.9999\n",
            "Min value in X_test: 0.0\n"
          ],
          "name": "stdout"
        }
      ]
    },
    {
      "cell_type": "markdown",
      "metadata": {
        "id": "IkK_Vo-2U4Qe",
        "colab_type": "text"
      },
      "source": [
        "## One-hot encode the class vector"
      ]
    },
    {
      "cell_type": "code",
      "metadata": {
        "id": "Iol_TFtZRmQX",
        "colab_type": "code",
        "colab": {
          "base_uri": "https://localhost:8080/",
          "height": 170
        },
        "outputId": "558370c7-b5d1-4f6d-a85f-84a0dfa26dd2"
      },
      "source": [
        "print(\"Value of first number in training set before encoding :\", y_train[10])\n",
        "print(\"Value of first number in validation set before encoding:\", y_val[10])\n",
        "print(\"Value of first number in testing set before encoding:\", y_test[10])\n",
        "y_train = to_categorical(y_train, num_classes=10)\n",
        "y_val = to_categorical(y_val, num_classes=10)\n",
        "y_test = to_categorical(y_test, num_classes=10)\n",
        "\n",
        "print(\"Shape of y_train:\", y_train.shape)\n",
        "print(\"One hot encoded value of y_train first number:\", y_train[10])\n",
        "print(\"Shape of y_val:\", y_val.shape)\n",
        "print(\"One hot encoded value of y_val first number:\", y_val[10])\n",
        "print(\"Shape of y_test:\", y_test.shape)\n",
        "print(\"One hot encoded value of y_test first number:\", y_test[10])"
      ],
      "execution_count": 15,
      "outputs": [
        {
          "output_type": "stream",
          "text": [
            "Value of first number in training set before encoding : 1\n",
            "Value of first number in validation set before encoding: 0\n",
            "Value of first number in testing set before encoding: 8\n",
            "Shape of y_train: (42000, 10)\n",
            "One hot encoded value of y_train first number: [0. 1. 0. 0. 0. 0. 0. 0. 0. 0.]\n",
            "Shape of y_val: (60000, 10)\n",
            "One hot encoded value of y_val first number: [1. 0. 0. 0. 0. 0. 0. 0. 0. 0.]\n",
            "Shape of y_test: (18000, 10)\n",
            "One hot encoded value of y_test first number: [0. 0. 0. 0. 0. 0. 0. 0. 1. 0.]\n"
          ],
          "name": "stdout"
        }
      ]
    },
    {
      "cell_type": "markdown",
      "metadata": {
        "id": "8lzt3w3Lz6mr",
        "colab_type": "text"
      },
      "source": [
        "## Scaling data for better performance"
      ]
    },
    {
      "cell_type": "code",
      "metadata": {
        "id": "H_jLOnGRz586",
        "colab_type": "code",
        "colab": {}
      },
      "source": [
        "# Scalaing\n",
        "sc=StandardScaler()\n",
        "X_train = sc.fit_transform(X_train)\n",
        "X_val = sc.fit_transform(X_val)\n",
        "X_test = sc.fit_transform(X_test)"
      ],
      "execution_count": 16,
      "outputs": []
    },
    {
      "cell_type": "code",
      "metadata": {
        "id": "emHJI_Cmrxih",
        "colab_type": "code",
        "colab": {
          "base_uri": "https://localhost:8080/",
          "height": 248
        },
        "outputId": "c545b26d-2d0e-4326-ab7e-b15e2ed27fc5"
      },
      "source": [
        "# visualizing the first 10 images in the dataset and their labels\n",
        "plt.figure(figsize=(10, 1))\n",
        "for i in range(10):\n",
        "    plt.subplot(1, 10, i+1)\n",
        "    plt.imshow(X_train[i].reshape(32, 32), cmap=\"gray\")\n",
        "    plt.axis('off')\n",
        "    print('label for each of the below image: %s' % (np.argmax(y_train[0:10][i])))\n",
        "plt.show()"
      ],
      "execution_count": 17,
      "outputs": [
        {
          "output_type": "stream",
          "text": [
            "label for each of the below image: 2\n",
            "label for each of the below image: 6\n",
            "label for each of the below image: 7\n",
            "label for each of the below image: 4\n",
            "label for each of the below image: 4\n",
            "label for each of the below image: 0\n",
            "label for each of the below image: 3\n",
            "label for each of the below image: 0\n",
            "label for each of the below image: 7\n",
            "label for each of the below image: 3\n"
          ],
          "name": "stdout"
        },
        {
          "output_type": "display_data",
          "data": {
            "image/png": "[encoded data removed]",
            "text/plain": [
              "<Figure size 720x72 with 10 Axes>"
            ]
          },
          "metadata": {
            "tags": [],
            "needs_background": "light"
          }
        }
      ]
    },
    {
      "cell_type": "markdown",
      "metadata": {
        "id": "THtMV5zjFcQv",
        "colab_type": "text"
      },
      "source": [
        ""
      ]
    },
    {
      "cell_type": "markdown",
      "metadata": {
        "id": "5tL7d0fq2i1h",
        "colab_type": "text"
      },
      "source": [
        "## Implement and apply a deep neural network classifier"
      ]
    },
    {
      "cell_type": "markdown",
      "metadata": {
        "id": "Q0oEYB1g2zYE",
        "colab_type": "text"
      },
      "source": [
        "#### Feedforward Neural Network"
      ]
    },
    {
      "cell_type": "code",
      "metadata": {
        "id": "qvKGcWJb2-_p",
        "colab_type": "code",
        "colab": {}
      },
      "source": [
        "  model = Sequential()\n",
        "  model.add(Dense(128, input_shape = (1024, )))\n",
        "  model.add(Activation('sigmoid'))\n",
        "  model.add(Dense(128, activation=\"sigmoid\"))\n",
        "  model.add(Dense(10, activation=\"softmax\"))"
      ],
      "execution_count": 18,
      "outputs": []
    },
    {
      "cell_type": "code",
      "metadata": {
        "id": "ZVJXbghX3RiB",
        "colab_type": "code",
        "colab": {}
      },
      "source": [
        "sgd = optimizers.SGD(lr = 0.001)\n",
        "model.compile(optimizer = sgd, loss = 'categorical_crossentropy', metrics = ['accuracy'])"
      ],
      "execution_count": 19,
      "outputs": []
    },
    {
      "cell_type": "code",
      "metadata": {
        "id": "TGRst5F8JRyJ",
        "colab_type": "code",
        "colab": {
          "base_uri": "https://localhost:8080/",
          "height": 289
        },
        "outputId": "620bb1b2-18c7-4eff-b227-9ad72d1ac3ca"
      },
      "source": [
        "model.summary()"
      ],
      "execution_count": 20,
      "outputs": [
        {
          "output_type": "stream",
          "text": [
            "Model: \"sequential\"\n",
            "_________________________________________________________________\n",
            "Layer (type)                 Output Shape              Param #   \n",
            "=================================================================\n",
            "dense (Dense)                (None, 128)               131200    \n",
            "_________________________________________________________________\n",
            "activation (Activation)      (None, 128)               0         \n",
            "_________________________________________________________________\n",
            "dense_1 (Dense)              (None, 128)               16512     \n",
            "_________________________________________________________________\n",
            "dense_2 (Dense)              (None, 10)                1290      \n",
            "=================================================================\n",
            "Total params: 149,002\n",
            "Trainable params: 149,002\n",
            "Non-trainable params: 0\n",
            "_________________________________________________________________\n"
          ],
          "name": "stdout"
        }
      ]
    },
    {
      "cell_type": "code",
      "metadata": {
        "id": "xQR8PIqw3k8F",
        "colab_type": "code",
        "colab": {
          "base_uri": "https://localhost:8080/",
          "height": 697
        },
        "outputId": "2a6014e9-6693-4d37-d7b0-73f5f41703cc"
      },
      "source": [
        "model_fit = model.fit(X_train, y_train, batch_size=200, epochs = 20, verbose = 1)"
      ],
      "execution_count": 21,
      "outputs": [
        {
          "output_type": "stream",
          "text": [
            "Epoch 1/20\n",
            "210/210 [==============================] - 1s 3ms/step - loss: 2.4001 - accuracy: 0.1008\n",
            "Epoch 2/20\n",
            "210/210 [==============================] - 1s 3ms/step - loss: 2.3223 - accuracy: 0.1001\n",
            "Epoch 3/20\n",
            "210/210 [==============================] - 1s 3ms/step - loss: 2.3081 - accuracy: 0.0978\n",
            "Epoch 4/20\n",
            "210/210 [==============================] - 1s 3ms/step - loss: 2.3051 - accuracy: 0.0965\n",
            "Epoch 5/20\n",
            "210/210 [==============================] - 1s 3ms/step - loss: 2.3045 - accuracy: 0.0976\n",
            "Epoch 6/20\n",
            "210/210 [==============================] - 1s 3ms/step - loss: 2.3042 - accuracy: 0.1006\n",
            "Epoch 7/20\n",
            "210/210 [==============================] - 1s 3ms/step - loss: 2.3041 - accuracy: 0.1015\n",
            "Epoch 8/20\n",
            "210/210 [==============================] - 1s 3ms/step - loss: 2.3040 - accuracy: 0.1015\n",
            "Epoch 9/20\n",
            "210/210 [==============================] - 1s 3ms/step - loss: 2.3039 - accuracy: 0.1017\n",
            "Epoch 10/20\n",
            "210/210 [==============================] - 1s 3ms/step - loss: 2.3039 - accuracy: 0.1017\n",
            "Epoch 11/20\n",
            "210/210 [==============================] - 1s 3ms/step - loss: 2.3038 - accuracy: 0.1043\n",
            "Epoch 12/20\n",
            "210/210 [==============================] - 1s 3ms/step - loss: 2.3037 - accuracy: 0.1035\n",
            "Epoch 13/20\n",
            "210/210 [==============================] - 1s 3ms/step - loss: 2.3036 - accuracy: 0.1014\n",
            "Epoch 14/20\n",
            "210/210 [==============================] - 1s 3ms/step - loss: 2.3035 - accuracy: 0.1049\n",
            "Epoch 15/20\n",
            "210/210 [==============================] - 1s 3ms/step - loss: 2.3035 - accuracy: 0.1034\n",
            "Epoch 16/20\n",
            "210/210 [==============================] - 1s 3ms/step - loss: 2.3034 - accuracy: 0.1040\n",
            "Epoch 17/20\n",
            "210/210 [==============================] - 1s 3ms/step - loss: 2.3033 - accuracy: 0.1065\n",
            "Epoch 18/20\n",
            "210/210 [==============================] - 1s 3ms/step - loss: 2.3033 - accuracy: 0.1059\n",
            "Epoch 19/20\n",
            "210/210 [==============================] - 1s 3ms/step - loss: 2.3032 - accuracy: 0.1044\n",
            "Epoch 20/20\n",
            "210/210 [==============================] - 1s 3ms/step - loss: 2.3031 - accuracy: 0.1055\n"
          ],
          "name": "stdout"
        }
      ]
    },
    {
      "cell_type": "code",
      "metadata": {
        "id": "64dGTj464oaG",
        "colab_type": "code",
        "colab": {
          "base_uri": "https://localhost:8080/",
          "height": 51
        },
        "outputId": "fd80c0fd-b0a5-473f-ff4f-85925b8a64f0"
      },
      "source": [
        "model.evaluate(X_val, y_val)"
      ],
      "execution_count": 22,
      "outputs": [
        {
          "output_type": "stream",
          "text": [
            "1875/1875 [==============================] - 4s 2ms/step - loss: 2.3032 - accuracy: 0.1049\n"
          ],
          "name": "stdout"
        },
        {
          "output_type": "execute_result",
          "data": {
            "text/plain": [
              "[2.3032259941101074, 0.10490000247955322]"
            ]
          },
          "metadata": {
            "tags": []
          },
          "execution_count": 22
        }
      ]
    },
    {
      "cell_type": "markdown",
      "metadata": {
        "id": "XCOfbg8A366Q",
        "colab_type": "text"
      },
      "source": [
        "With just Feedforward Neural Network and having Activation function as Sigmoid with Learning Rate 0.01 accuracy is very low 10% only and loss is also high 2.3\n"
      ]
    },
    {
      "cell_type": "markdown",
      "metadata": {
        "id": "4uqd8_e3xYVP",
        "colab_type": "text"
      },
      "source": [
        "### Weight Initialization"
      ]
    },
    {
      "cell_type": "code",
      "metadata": {
        "id": "TP15mAIA5hjc",
        "colab_type": "code",
        "colab": {}
      },
      "source": [
        "def mlp_model():\n",
        "    model = Sequential()\n",
        "    \n",
        "    model.add(Dense(128, input_shape = (1024, ), kernel_initializer='he_normal'))     # use he_normal initializer\n",
        "    model.add(Activation('sigmoid'))    \n",
        "    model.add(Dense(128, kernel_initializer='he_normal'))                            # use he_normal initializer\n",
        "    model.add(Activation('sigmoid'))    \n",
        "    model.add(Dense(10, kernel_initializer='he_normal'))                            # use he_normal initializer\n",
        "    model.add(Activation('softmax'))\n",
        "\n",
        "    sgd = optimizers.SGD(lr = 0.001)\n",
        "    model.compile(optimizer = sgd, loss = 'categorical_crossentropy', metrics = ['accuracy'])\n",
        "    \n",
        "    return model"
      ],
      "execution_count": 23,
      "outputs": []
    },
    {
      "cell_type": "code",
      "metadata": {
        "id": "DgjkmofQ6aCg",
        "colab_type": "code",
        "colab": {
          "base_uri": "https://localhost:8080/",
          "height": 697
        },
        "outputId": "a41979ea-b809-4191-e080-adf9aabd5b4e"
      },
      "source": [
        "model = mlp_model()\n",
        "model_fit = model.fit(X_train, y_train, batch_size=200, epochs = 20, verbose = 1)"
      ],
      "execution_count": 24,
      "outputs": [
        {
          "output_type": "stream",
          "text": [
            "Epoch 1/20\n",
            "210/210 [==============================] - 1s 3ms/step - loss: 2.4440 - accuracy: 0.1019\n",
            "Epoch 2/20\n",
            "210/210 [==============================] - 1s 3ms/step - loss: 2.3465 - accuracy: 0.1055\n",
            "Epoch 3/20\n",
            "210/210 [==============================] - 1s 3ms/step - loss: 2.3176 - accuracy: 0.1091\n",
            "Epoch 4/20\n",
            "210/210 [==============================] - 1s 3ms/step - loss: 2.3094 - accuracy: 0.1120\n",
            "Epoch 5/20\n",
            "210/210 [==============================] - 1s 3ms/step - loss: 2.3072 - accuracy: 0.1085\n",
            "Epoch 6/20\n",
            "210/210 [==============================] - 1s 3ms/step - loss: 2.3063 - accuracy: 0.1078\n",
            "Epoch 7/20\n",
            "210/210 [==============================] - 1s 3ms/step - loss: 2.3058 - accuracy: 0.1082\n",
            "Epoch 8/20\n",
            "210/210 [==============================] - 1s 3ms/step - loss: 2.3054 - accuracy: 0.1081\n",
            "Epoch 9/20\n",
            "210/210 [==============================] - 1s 3ms/step - loss: 2.3050 - accuracy: 0.1078\n",
            "Epoch 10/20\n",
            "210/210 [==============================] - 1s 3ms/step - loss: 2.3047 - accuracy: 0.1093\n",
            "Epoch 11/20\n",
            "210/210 [==============================] - 1s 3ms/step - loss: 2.3044 - accuracy: 0.1081\n",
            "Epoch 12/20\n",
            "210/210 [==============================] - 1s 3ms/step - loss: 2.3042 - accuracy: 0.1090\n",
            "Epoch 13/20\n",
            "210/210 [==============================] - 1s 3ms/step - loss: 2.3039 - accuracy: 0.1091\n",
            "Epoch 14/20\n",
            "210/210 [==============================] - 1s 3ms/step - loss: 2.3037 - accuracy: 0.1090\n",
            "Epoch 15/20\n",
            "210/210 [==============================] - 1s 3ms/step - loss: 2.3035 - accuracy: 0.1096\n",
            "Epoch 16/20\n",
            "210/210 [==============================] - 1s 3ms/step - loss: 2.3033 - accuracy: 0.1100\n",
            "Epoch 17/20\n",
            "210/210 [==============================] - 1s 3ms/step - loss: 2.3031 - accuracy: 0.1103\n",
            "Epoch 18/20\n",
            "210/210 [==============================] - 1s 3ms/step - loss: 2.3029 - accuracy: 0.1103\n",
            "Epoch 19/20\n",
            "210/210 [==============================] - 1s 3ms/step - loss: 2.3027 - accuracy: 0.1102\n",
            "Epoch 20/20\n",
            "210/210 [==============================] - 1s 3ms/step - loss: 2.3026 - accuracy: 0.1116\n"
          ],
          "name": "stdout"
        }
      ]
    },
    {
      "cell_type": "code",
      "metadata": {
        "id": "2AZ2Vt097qiZ",
        "colab_type": "code",
        "colab": {
          "base_uri": "https://localhost:8080/",
          "height": 51
        },
        "outputId": "7acc43d6-b14d-4a42-bc73-20539305bb70"
      },
      "source": [
        "model.evaluate(X_val, y_val)"
      ],
      "execution_count": 25,
      "outputs": [
        {
          "output_type": "stream",
          "text": [
            "1875/1875 [==============================] - 4s 2ms/step - loss: 2.3027 - accuracy: 0.1110\n"
          ],
          "name": "stdout"
        },
        {
          "output_type": "execute_result",
          "data": {
            "text/plain": [
              "[2.302651882171631, 0.11103333532810211]"
            ]
          },
          "metadata": {
            "tags": []
          },
          "execution_count": 25
        }
      ]
    },
    {
      "cell_type": "markdown",
      "metadata": {
        "id": "gl0YwMCb7vKv",
        "colab_type": "text"
      },
      "source": [
        "With just Feedforward Neural Network and having Activation function as Sigmoid with Learning Rate 0.01 accuracy is very low 11% only and loss is also high 2.3. This is because Sigmoid function suffers from gradient vanishing problem, making training slower."
      ]
    },
    {
      "cell_type": "markdown",
      "metadata": {
        "id": "2uFU16FqZ_RQ",
        "colab_type": "text"
      },
      "source": [
        "## Apply ReLU (Rectified Linear Unit)"
      ]
    },
    {
      "cell_type": "code",
      "metadata": {
        "id": "Okanjx2Q8JZe",
        "colab_type": "code",
        "colab": {}
      },
      "source": [
        "def mlp_model():\n",
        "    model = Sequential()\n",
        "    \n",
        "    model.add(Dense(128, input_shape = (1024, ), kernel_initializer='he_normal'))     # use he_normal initializer\n",
        "    model.add(Activation('relu'))    \n",
        "    model.add(Dense(128, kernel_initializer='he_normal'))                            # use he_normal initializer\n",
        "    model.add(Activation('relu'))    \n",
        "    model.add(Dense(10, kernel_initializer='he_normal'))                            # use he_normal initializer\n",
        "    model.add(Activation('softmax'))\n",
        "\n",
        "    sgd = optimizers.SGD(lr = 0.001)\n",
        "    model.compile(optimizer = sgd, loss = 'categorical_crossentropy', metrics = ['accuracy'])\n",
        "    \n",
        "    return model"
      ],
      "execution_count": 26,
      "outputs": []
    },
    {
      "cell_type": "code",
      "metadata": {
        "id": "vSmfMrU68kqw",
        "colab_type": "code",
        "colab": {
          "base_uri": "https://localhost:8080/",
          "height": 1000
        },
        "outputId": "c21ada2c-0cd0-4171-e910-7dead86a1cfd"
      },
      "source": [
        "model = mlp_model()\n",
        "\n",
        "model_fit = model.fit(X_train, y_train, batch_size=200, epochs = 100, verbose = 1)"
      ],
      "execution_count": 27,
      "outputs": [
        {
          "output_type": "stream",
          "text": [
            "Epoch 1/100\n",
            "210/210 [==============================] - 1s 3ms/step - loss: 2.5495 - accuracy: 0.1121\n",
            "Epoch 2/100\n",
            "210/210 [==============================] - 1s 3ms/step - loss: 2.3641 - accuracy: 0.1379\n",
            "Epoch 3/100\n",
            "210/210 [==============================] - 1s 3ms/step - loss: 2.2904 - accuracy: 0.1662\n",
            "Epoch 4/100\n",
            "210/210 [==============================] - 1s 3ms/step - loss: 2.2341 - accuracy: 0.1927\n",
            "Epoch 5/100\n",
            "210/210 [==============================] - 1s 3ms/step - loss: 2.1848 - accuracy: 0.2201\n",
            "Epoch 6/100\n",
            "210/210 [==============================] - 1s 3ms/step - loss: 2.1392 - accuracy: 0.2458\n",
            "Epoch 7/100\n",
            "210/210 [==============================] - 1s 3ms/step - loss: 2.0949 - accuracy: 0.2712\n",
            "Epoch 8/100\n",
            "210/210 [==============================] - 1s 3ms/step - loss: 2.0509 - accuracy: 0.2962\n",
            "Epoch 9/100\n",
            "210/210 [==============================] - 1s 3ms/step - loss: 2.0072 - accuracy: 0.3202\n",
            "Epoch 10/100\n",
            "210/210 [==============================] - 1s 3ms/step - loss: 1.9634 - accuracy: 0.3440\n",
            "Epoch 11/100\n",
            "210/210 [==============================] - 1s 3ms/step - loss: 1.9198 - accuracy: 0.3657\n",
            "Epoch 12/100\n",
            "210/210 [==============================] - 1s 3ms/step - loss: 1.8762 - accuracy: 0.3869\n",
            "Epoch 13/100\n",
            "210/210 [==============================] - 1s 3ms/step - loss: 1.8333 - accuracy: 0.4097\n",
            "Epoch 14/100\n",
            "210/210 [==============================] - 1s 3ms/step - loss: 1.7913 - accuracy: 0.4295\n",
            "Epoch 15/100\n",
            "210/210 [==============================] - 1s 3ms/step - loss: 1.7501 - accuracy: 0.4480\n",
            "Epoch 16/100\n",
            "210/210 [==============================] - 1s 3ms/step - loss: 1.7103 - accuracy: 0.4652\n",
            "Epoch 17/100\n",
            "210/210 [==============================] - 1s 3ms/step - loss: 1.6721 - accuracy: 0.4814\n",
            "Epoch 18/100\n",
            "210/210 [==============================] - 1s 3ms/step - loss: 1.6353 - accuracy: 0.4964\n",
            "Epoch 19/100\n",
            "210/210 [==============================] - 1s 3ms/step - loss: 1.6003 - accuracy: 0.5120\n",
            "Epoch 20/100\n",
            "210/210 [==============================] - 1s 3ms/step - loss: 1.5671 - accuracy: 0.5246\n",
            "Epoch 21/100\n",
            "210/210 [==============================] - 1s 3ms/step - loss: 1.5354 - accuracy: 0.5368\n",
            "Epoch 22/100\n",
            "210/210 [==============================] - 1s 4ms/step - loss: 1.5058 - accuracy: 0.5471\n",
            "Epoch 23/100\n",
            "210/210 [==============================] - 1s 4ms/step - loss: 1.4775 - accuracy: 0.5587\n",
            "Epoch 24/100\n",
            "210/210 [==============================] - 1s 4ms/step - loss: 1.4508 - accuracy: 0.5685\n",
            "Epoch 25/100\n",
            "210/210 [==============================] - 1s 4ms/step - loss: 1.4254 - accuracy: 0.5775\n",
            "Epoch 26/100\n",
            "210/210 [==============================] - 1s 4ms/step - loss: 1.4014 - accuracy: 0.5860\n",
            "Epoch 27/100\n",
            "210/210 [==============================] - 1s 3ms/step - loss: 1.3786 - accuracy: 0.5953\n",
            "Epoch 28/100\n",
            "210/210 [==============================] - 1s 3ms/step - loss: 1.3569 - accuracy: 0.6029\n",
            "Epoch 29/100\n",
            "210/210 [==============================] - 1s 3ms/step - loss: 1.3365 - accuracy: 0.6094\n",
            "Epoch 30/100\n",
            "210/210 [==============================] - 1s 3ms/step - loss: 1.3169 - accuracy: 0.6154\n",
            "Epoch 31/100\n",
            "210/210 [==============================] - 1s 3ms/step - loss: 1.2986 - accuracy: 0.6216\n",
            "Epoch 32/100\n",
            "210/210 [==============================] - 1s 3ms/step - loss: 1.2811 - accuracy: 0.6263\n",
            "Epoch 33/100\n",
            "210/210 [==============================] - 1s 3ms/step - loss: 1.2645 - accuracy: 0.6319\n",
            "Epoch 34/100\n",
            "210/210 [==============================] - 1s 3ms/step - loss: 1.2487 - accuracy: 0.6371\n",
            "Epoch 35/100\n",
            "210/210 [==============================] - 1s 3ms/step - loss: 1.2337 - accuracy: 0.6417\n",
            "Epoch 36/100\n",
            "210/210 [==============================] - 1s 3ms/step - loss: 1.2193 - accuracy: 0.6463\n",
            "Epoch 37/100\n",
            "210/210 [==============================] - 1s 3ms/step - loss: 1.2057 - accuracy: 0.6508\n",
            "Epoch 38/100\n",
            "210/210 [==============================] - 1s 3ms/step - loss: 1.1927 - accuracy: 0.6543\n",
            "Epoch 39/100\n",
            "210/210 [==============================] - 1s 3ms/step - loss: 1.1802 - accuracy: 0.6576\n",
            "Epoch 40/100\n",
            "210/210 [==============================] - 1s 3ms/step - loss: 1.1682 - accuracy: 0.6620\n",
            "Epoch 41/100\n",
            "210/210 [==============================] - 1s 3ms/step - loss: 1.1568 - accuracy: 0.6660\n",
            "Epoch 42/100\n",
            "210/210 [==============================] - 1s 3ms/step - loss: 1.1458 - accuracy: 0.6693\n",
            "Epoch 43/100\n",
            "210/210 [==============================] - 1s 3ms/step - loss: 1.1351 - accuracy: 0.6720\n",
            "Epoch 44/100\n",
            "210/210 [==============================] - 1s 3ms/step - loss: 1.1250 - accuracy: 0.6745\n",
            "Epoch 45/100\n",
            "210/210 [==============================] - 1s 3ms/step - loss: 1.1151 - accuracy: 0.6780\n",
            "Epoch 46/100\n",
            "210/210 [==============================] - 1s 3ms/step - loss: 1.1057 - accuracy: 0.6805\n",
            "Epoch 47/100\n",
            "210/210 [==============================] - 1s 3ms/step - loss: 1.0965 - accuracy: 0.6832\n",
            "Epoch 48/100\n",
            "210/210 [==============================] - 1s 3ms/step - loss: 1.0877 - accuracy: 0.6850\n",
            "Epoch 49/100\n",
            "210/210 [==============================] - 1s 3ms/step - loss: 1.0791 - accuracy: 0.6885\n",
            "Epoch 50/100\n",
            "210/210 [==============================] - 1s 3ms/step - loss: 1.0706 - accuracy: 0.6915\n",
            "Epoch 51/100\n",
            "210/210 [==============================] - 1s 3ms/step - loss: 1.0626 - accuracy: 0.6936\n",
            "Epoch 52/100\n",
            "210/210 [==============================] - 1s 3ms/step - loss: 1.0549 - accuracy: 0.6956\n",
            "Epoch 53/100\n",
            "210/210 [==============================] - 1s 3ms/step - loss: 1.0471 - accuracy: 0.6980\n",
            "Epoch 54/100\n",
            "210/210 [==============================] - 1s 3ms/step - loss: 1.0398 - accuracy: 0.7002\n",
            "Epoch 55/100\n",
            "210/210 [==============================] - 1s 3ms/step - loss: 1.0325 - accuracy: 0.7030\n",
            "Epoch 56/100\n",
            "210/210 [==============================] - 1s 3ms/step - loss: 1.0257 - accuracy: 0.7049\n",
            "Epoch 57/100\n",
            "210/210 [==============================] - 1s 3ms/step - loss: 1.0188 - accuracy: 0.7064\n",
            "Epoch 58/100\n",
            "210/210 [==============================] - 1s 3ms/step - loss: 1.0122 - accuracy: 0.7085\n",
            "Epoch 59/100\n",
            "210/210 [==============================] - 1s 3ms/step - loss: 1.0058 - accuracy: 0.7107\n",
            "Epoch 60/100\n",
            "210/210 [==============================] - 1s 3ms/step - loss: 0.9995 - accuracy: 0.7122\n",
            "Epoch 61/100\n",
            "210/210 [==============================] - 1s 3ms/step - loss: 0.9933 - accuracy: 0.7141\n",
            "Epoch 62/100\n",
            "210/210 [==============================] - 1s 3ms/step - loss: 0.9874 - accuracy: 0.7162\n",
            "Epoch 63/100\n",
            "210/210 [==============================] - 1s 3ms/step - loss: 0.9815 - accuracy: 0.7176\n",
            "Epoch 64/100\n",
            "210/210 [==============================] - 1s 3ms/step - loss: 0.9758 - accuracy: 0.7188\n",
            "Epoch 65/100\n",
            "210/210 [==============================] - 1s 3ms/step - loss: 0.9700 - accuracy: 0.7196\n",
            "Epoch 66/100\n",
            "210/210 [==============================] - 1s 3ms/step - loss: 0.9647 - accuracy: 0.7220\n",
            "Epoch 67/100\n",
            "210/210 [==============================] - 1s 3ms/step - loss: 0.9592 - accuracy: 0.7240\n",
            "Epoch 68/100\n",
            "210/210 [==============================] - 1s 3ms/step - loss: 0.9539 - accuracy: 0.7247\n",
            "Epoch 69/100\n",
            "210/210 [==============================] - 1s 3ms/step - loss: 0.9488 - accuracy: 0.7260\n",
            "Epoch 70/100\n",
            "210/210 [==============================] - 1s 3ms/step - loss: 0.9436 - accuracy: 0.7281\n",
            "Epoch 71/100\n",
            "210/210 [==============================] - 1s 3ms/step - loss: 0.9386 - accuracy: 0.7298\n",
            "Epoch 72/100\n",
            "210/210 [==============================] - 1s 3ms/step - loss: 0.9337 - accuracy: 0.7308\n",
            "Epoch 73/100\n",
            "210/210 [==============================] - 1s 3ms/step - loss: 0.9289 - accuracy: 0.7327\n",
            "Epoch 74/100\n",
            "210/210 [==============================] - 1s 3ms/step - loss: 0.9241 - accuracy: 0.7337\n",
            "Epoch 75/100\n",
            "210/210 [==============================] - 1s 3ms/step - loss: 0.9195 - accuracy: 0.7342\n",
            "Epoch 76/100\n",
            "210/210 [==============================] - 1s 3ms/step - loss: 0.9149 - accuracy: 0.7359\n",
            "Epoch 77/100\n",
            "210/210 [==============================] - 1s 3ms/step - loss: 0.9105 - accuracy: 0.7374\n",
            "Epoch 78/100\n",
            "210/210 [==============================] - 1s 3ms/step - loss: 0.9061 - accuracy: 0.7380\n",
            "Epoch 79/100\n",
            "210/210 [==============================] - 1s 3ms/step - loss: 0.9017 - accuracy: 0.7393\n",
            "Epoch 80/100\n",
            "210/210 [==============================] - 1s 3ms/step - loss: 0.8975 - accuracy: 0.7400\n",
            "Epoch 81/100\n",
            "210/210 [==============================] - 1s 3ms/step - loss: 0.8932 - accuracy: 0.7420\n",
            "Epoch 82/100\n",
            "210/210 [==============================] - 1s 3ms/step - loss: 0.8890 - accuracy: 0.7425\n",
            "Epoch 83/100\n",
            "210/210 [==============================] - 1s 3ms/step - loss: 0.8849 - accuracy: 0.7440\n",
            "Epoch 84/100\n",
            "210/210 [==============================] - 1s 3ms/step - loss: 0.8809 - accuracy: 0.7449\n",
            "Epoch 85/100\n",
            "210/210 [==============================] - 1s 3ms/step - loss: 0.8770 - accuracy: 0.7467\n",
            "Epoch 86/100\n",
            "210/210 [==============================] - 1s 3ms/step - loss: 0.8731 - accuracy: 0.7470\n",
            "Epoch 87/100\n",
            "210/210 [==============================] - 1s 3ms/step - loss: 0.8692 - accuracy: 0.7485\n",
            "Epoch 88/100\n",
            "210/210 [==============================] - 1s 3ms/step - loss: 0.8654 - accuracy: 0.7496\n",
            "Epoch 89/100\n",
            "210/210 [==============================] - 1s 3ms/step - loss: 0.8617 - accuracy: 0.7508\n",
            "Epoch 90/100\n",
            "210/210 [==============================] - 1s 3ms/step - loss: 0.8580 - accuracy: 0.7517\n",
            "Epoch 91/100\n",
            "210/210 [==============================] - 1s 3ms/step - loss: 0.8544 - accuracy: 0.7528\n",
            "Epoch 92/100\n",
            "210/210 [==============================] - 1s 3ms/step - loss: 0.8508 - accuracy: 0.7541\n",
            "Epoch 93/100\n",
            "210/210 [==============================] - 1s 3ms/step - loss: 0.8472 - accuracy: 0.7542\n",
            "Epoch 94/100\n",
            "210/210 [==============================] - 1s 3ms/step - loss: 0.8437 - accuracy: 0.7560\n",
            "Epoch 95/100\n",
            "210/210 [==============================] - 1s 3ms/step - loss: 0.8403 - accuracy: 0.7564\n",
            "Epoch 96/100\n",
            "210/210 [==============================] - 1s 3ms/step - loss: 0.8371 - accuracy: 0.7574\n",
            "Epoch 97/100\n",
            "210/210 [==============================] - 1s 3ms/step - loss: 0.8336 - accuracy: 0.7588\n",
            "Epoch 98/100\n",
            "210/210 [==============================] - 1s 3ms/step - loss: 0.8304 - accuracy: 0.7593\n",
            "Epoch 99/100\n",
            "210/210 [==============================] - 1s 3ms/step - loss: 0.8271 - accuracy: 0.7607\n",
            "Epoch 100/100\n",
            "210/210 [==============================] - 1s 3ms/step - loss: 0.8238 - accuracy: 0.7616\n"
          ],
          "name": "stdout"
        }
      ]
    },
    {
      "cell_type": "code",
      "metadata": {
        "id": "rniszyDI-gYg",
        "colab_type": "code",
        "colab": {
          "base_uri": "https://localhost:8080/",
          "height": 51
        },
        "outputId": "ddcb8433-d6b1-402d-b82e-35de839fb7aa"
      },
      "source": [
        "results = model.evaluate(X_val, y_val)\n",
        "print('Val_acc using simple NN SGD : ', results[1])"
      ],
      "execution_count": 28,
      "outputs": [
        {
          "output_type": "stream",
          "text": [
            "1875/1875 [==============================] - 4s 2ms/step - loss: 0.8385 - accuracy: 0.7570\n",
            "Val_acc using simple NN SGD :  0.7569500207901001\n"
          ],
          "name": "stdout"
        }
      ]
    },
    {
      "cell_type": "code",
      "metadata": {
        "id": "_9UQpSlpZZj5",
        "colab_type": "code",
        "colab": {
          "base_uri": "https://localhost:8080/",
          "height": 80
        },
        "outputId": "0d107c25-81a3-4f5e-b8c4-5fe7b3b34645"
      },
      "source": [
        "#Store the accuracy results for each model in a dataframe for final comparison\n",
        "results_on_val = pd.DataFrame({'Method':['NN SDG'], 'accuracy': results[1]},index={'1'})\n",
        "results_on_val = results_on_val[['Method', 'accuracy']]\n",
        "results_on_val"
      ],
      "execution_count": 29,
      "outputs": [
        {
          "output_type": "execute_result",
          "data": {
            "text/html": [
              "<div>\n",
              "<style scoped>\n",
              "    .dataframe tbody tr th:only-of-type {\n",
              "        vertical-align: middle;\n",
              "    }\n",
              "\n",
              "    .dataframe tbody tr th {\n",
              "        vertical-align: top;\n",
              "    }\n",
              "\n",
              "    .dataframe thead th {\n",
              "        text-align: right;\n",
              "    }\n",
              "</style>\n",
              "<table border=\"1\" class=\"dataframe\">\n",
              "  <thead>\n",
              "    <tr style=\"text-align: right;\">\n",
              "      <th></th>\n",
              "      <th>Method</th>\n",
              "      <th>accuracy</th>\n",
              "    </tr>\n",
              "  </thead>\n",
              "  <tbody>\n",
              "    <tr>\n",
              "      <th>1</th>\n",
              "      <td>NN SDG</td>\n",
              "      <td>0.75695</td>\n",
              "    </tr>\n",
              "  </tbody>\n",
              "</table>\n",
              "</div>"
            ],
            "text/plain": [
              "   Method  accuracy\n",
              "1  NN SDG   0.75695"
            ]
          },
          "metadata": {
            "tags": []
          },
          "execution_count": 29
        }
      ]
    },
    {
      "cell_type": "markdown",
      "metadata": {
        "id": "17jXDn6a-D_s",
        "colab_type": "text"
      },
      "source": [
        "Great improvement in training the model with Nonlinearity Activation function ReLU. Even though we didn't change the Learning Rate 0.001. The accuracy bumped up significantly and loss is also reduced derastically using ReLU."
      ]
    },
    {
      "cell_type": "markdown",
      "metadata": {
        "id": "fv2c6W6Y-8W3",
        "colab_type": "text"
      },
      "source": [
        "## Implement Batch Normalization for training the neural network"
      ]
    },
    {
      "cell_type": "code",
      "metadata": {
        "id": "fDmaIPoK--NA",
        "colab_type": "code",
        "colab": {}
      },
      "source": [
        "#Batch normalization layer is inserted after dense/convolution and before nonlinearity\n",
        "def mlp_model():\n",
        "    model = Sequential()\n",
        "    \n",
        "    model.add(Dense(128, input_shape = (1024, ), kernel_initializer='he_normal'))     # use he_normal initializer\n",
        "    model.add(BatchNormalization()) \n",
        "    model.add(Activation('relu'))    \n",
        "    model.add(Dense(128, kernel_initializer='he_normal'))                            # use he_normal initializer\n",
        "    model.add(BatchNormalization()) \n",
        "    model.add(Activation('relu'))    \n",
        "    model.add(Dense(10, kernel_initializer='he_normal'))                            # use he_normal initializer\n",
        "    model.add(Activation('softmax'))\n",
        "\n",
        "    sgd = optimizers.SGD(lr = 0.001)\n",
        "    model.compile(optimizer = sgd, loss = 'categorical_crossentropy', metrics = ['accuracy'])\n",
        "    \n",
        "    return model"
      ],
      "execution_count": 30,
      "outputs": []
    },
    {
      "cell_type": "code",
      "metadata": {
        "id": "mLh71doH_mar",
        "colab_type": "code",
        "colab": {
          "base_uri": "https://localhost:8080/",
          "height": 1000
        },
        "outputId": "baad5b49-664d-4dac-af26-bf5bb30f0eee"
      },
      "source": [
        "model = mlp_model()\n",
        "model_fit = model.fit(X_train, y_train, batch_size=200, epochs = 100, verbose = 1)"
      ],
      "execution_count": 31,
      "outputs": [
        {
          "output_type": "stream",
          "text": [
            "Epoch 1/100\n",
            "210/210 [==============================] - 1s 4ms/step - loss: 2.5678 - accuracy: 0.1159\n",
            "Epoch 2/100\n",
            "210/210 [==============================] - 1s 4ms/step - loss: 2.4154 - accuracy: 0.1400\n",
            "Epoch 3/100\n",
            "210/210 [==============================] - 1s 4ms/step - loss: 2.3295 - accuracy: 0.1625\n",
            "Epoch 4/100\n",
            "210/210 [==============================] - 1s 4ms/step - loss: 2.2664 - accuracy: 0.1853\n",
            "Epoch 5/100\n",
            "210/210 [==============================] - 1s 4ms/step - loss: 2.2148 - accuracy: 0.2065\n",
            "Epoch 6/100\n",
            "210/210 [==============================] - 1s 4ms/step - loss: 2.1705 - accuracy: 0.2291\n",
            "Epoch 7/100\n",
            "210/210 [==============================] - 1s 4ms/step - loss: 2.1295 - accuracy: 0.2479\n",
            "Epoch 8/100\n",
            "210/210 [==============================] - 1s 4ms/step - loss: 2.0893 - accuracy: 0.2698\n",
            "Epoch 9/100\n",
            "210/210 [==============================] - 1s 4ms/step - loss: 2.0519 - accuracy: 0.2905\n",
            "Epoch 10/100\n",
            "210/210 [==============================] - 1s 4ms/step - loss: 2.0162 - accuracy: 0.3105\n",
            "Epoch 11/100\n",
            "210/210 [==============================] - 1s 4ms/step - loss: 1.9807 - accuracy: 0.3290\n",
            "Epoch 12/100\n",
            "210/210 [==============================] - 1s 4ms/step - loss: 1.9473 - accuracy: 0.3476\n",
            "Epoch 13/100\n",
            "210/210 [==============================] - 1s 4ms/step - loss: 1.9135 - accuracy: 0.3661\n",
            "Epoch 14/100\n",
            "210/210 [==============================] - 1s 5ms/step - loss: 1.8802 - accuracy: 0.3827\n",
            "Epoch 15/100\n",
            "210/210 [==============================] - 1s 5ms/step - loss: 1.8511 - accuracy: 0.3971\n",
            "Epoch 16/100\n",
            "210/210 [==============================] - 1s 5ms/step - loss: 1.8200 - accuracy: 0.4151\n",
            "Epoch 17/100\n",
            "210/210 [==============================] - 1s 5ms/step - loss: 1.7911 - accuracy: 0.4295\n",
            "Epoch 18/100\n",
            "210/210 [==============================] - 1s 5ms/step - loss: 1.7617 - accuracy: 0.4448\n",
            "Epoch 19/100\n",
            "210/210 [==============================] - 1s 5ms/step - loss: 1.7348 - accuracy: 0.4575\n",
            "Epoch 20/100\n",
            "210/210 [==============================] - 1s 5ms/step - loss: 1.7086 - accuracy: 0.4693\n",
            "Epoch 21/100\n",
            "210/210 [==============================] - 1s 5ms/step - loss: 1.6837 - accuracy: 0.4830\n",
            "Epoch 22/100\n",
            "210/210 [==============================] - 1s 5ms/step - loss: 1.6592 - accuracy: 0.4939\n",
            "Epoch 23/100\n",
            "210/210 [==============================] - 1s 5ms/step - loss: 1.6344 - accuracy: 0.5057\n",
            "Epoch 24/100\n",
            "210/210 [==============================] - 1s 4ms/step - loss: 1.6102 - accuracy: 0.5157\n",
            "Epoch 25/100\n",
            "210/210 [==============================] - 1s 4ms/step - loss: 1.5879 - accuracy: 0.5265\n",
            "Epoch 26/100\n",
            "210/210 [==============================] - 1s 4ms/step - loss: 1.5657 - accuracy: 0.5381\n",
            "Epoch 27/100\n",
            "210/210 [==============================] - 1s 4ms/step - loss: 1.5438 - accuracy: 0.5437\n",
            "Epoch 28/100\n",
            "210/210 [==============================] - 1s 4ms/step - loss: 1.5217 - accuracy: 0.5537\n",
            "Epoch 29/100\n",
            "210/210 [==============================] - 1s 4ms/step - loss: 1.5032 - accuracy: 0.5640\n",
            "Epoch 30/100\n",
            "210/210 [==============================] - 1s 4ms/step - loss: 1.4827 - accuracy: 0.5688\n",
            "Epoch 31/100\n",
            "210/210 [==============================] - 1s 4ms/step - loss: 1.4645 - accuracy: 0.5773\n",
            "Epoch 32/100\n",
            "210/210 [==============================] - 1s 4ms/step - loss: 1.4447 - accuracy: 0.5869\n",
            "Epoch 33/100\n",
            "210/210 [==============================] - 1s 4ms/step - loss: 1.4292 - accuracy: 0.5904\n",
            "Epoch 34/100\n",
            "210/210 [==============================] - 1s 4ms/step - loss: 1.4100 - accuracy: 0.5989\n",
            "Epoch 35/100\n",
            "210/210 [==============================] - 1s 4ms/step - loss: 1.3920 - accuracy: 0.6025\n",
            "Epoch 36/100\n",
            "210/210 [==============================] - 1s 4ms/step - loss: 1.3779 - accuracy: 0.6102\n",
            "Epoch 37/100\n",
            "210/210 [==============================] - 1s 4ms/step - loss: 1.3620 - accuracy: 0.6145\n",
            "Epoch 38/100\n",
            "210/210 [==============================] - 1s 4ms/step - loss: 1.3462 - accuracy: 0.6205\n",
            "Epoch 39/100\n",
            "210/210 [==============================] - 1s 4ms/step - loss: 1.3309 - accuracy: 0.6242\n",
            "Epoch 40/100\n",
            "210/210 [==============================] - 1s 4ms/step - loss: 1.3152 - accuracy: 0.6305\n",
            "Epoch 41/100\n",
            "210/210 [==============================] - 1s 4ms/step - loss: 1.3014 - accuracy: 0.6354\n",
            "Epoch 42/100\n",
            "210/210 [==============================] - 1s 4ms/step - loss: 1.2895 - accuracy: 0.6379\n",
            "Epoch 43/100\n",
            "210/210 [==============================] - 1s 4ms/step - loss: 1.2759 - accuracy: 0.6420\n",
            "Epoch 44/100\n",
            "210/210 [==============================] - 1s 4ms/step - loss: 1.2613 - accuracy: 0.6479\n",
            "Epoch 45/100\n",
            "210/210 [==============================] - 1s 4ms/step - loss: 1.2503 - accuracy: 0.6495\n",
            "Epoch 46/100\n",
            "210/210 [==============================] - 1s 4ms/step - loss: 1.2381 - accuracy: 0.6529\n",
            "Epoch 47/100\n",
            "210/210 [==============================] - 1s 4ms/step - loss: 1.2270 - accuracy: 0.6567\n",
            "Epoch 48/100\n",
            "210/210 [==============================] - 1s 4ms/step - loss: 1.2137 - accuracy: 0.6624\n",
            "Epoch 49/100\n",
            "210/210 [==============================] - 1s 4ms/step - loss: 1.2047 - accuracy: 0.6638\n",
            "Epoch 50/100\n",
            "210/210 [==============================] - 1s 4ms/step - loss: 1.1937 - accuracy: 0.6663\n",
            "Epoch 51/100\n",
            "210/210 [==============================] - 1s 4ms/step - loss: 1.1813 - accuracy: 0.6712\n",
            "Epoch 52/100\n",
            "210/210 [==============================] - 1s 4ms/step - loss: 1.1732 - accuracy: 0.6713\n",
            "Epoch 53/100\n",
            "210/210 [==============================] - 1s 4ms/step - loss: 1.1633 - accuracy: 0.6755\n",
            "Epoch 54/100\n",
            "210/210 [==============================] - 1s 4ms/step - loss: 1.1530 - accuracy: 0.6799\n",
            "Epoch 55/100\n",
            "210/210 [==============================] - 1s 4ms/step - loss: 1.1448 - accuracy: 0.6788\n",
            "Epoch 56/100\n",
            "210/210 [==============================] - 1s 4ms/step - loss: 1.1336 - accuracy: 0.6825\n",
            "Epoch 57/100\n",
            "210/210 [==============================] - 1s 4ms/step - loss: 1.1246 - accuracy: 0.6850\n",
            "Epoch 58/100\n",
            "210/210 [==============================] - 1s 4ms/step - loss: 1.1165 - accuracy: 0.6878\n",
            "Epoch 59/100\n",
            "210/210 [==============================] - 1s 4ms/step - loss: 1.1078 - accuracy: 0.6937\n",
            "Epoch 60/100\n",
            "210/210 [==============================] - 1s 4ms/step - loss: 1.1006 - accuracy: 0.6925\n",
            "Epoch 61/100\n",
            "210/210 [==============================] - 1s 4ms/step - loss: 1.0906 - accuracy: 0.6948\n",
            "Epoch 62/100\n",
            "210/210 [==============================] - 1s 4ms/step - loss: 1.0842 - accuracy: 0.6965\n",
            "Epoch 63/100\n",
            "210/210 [==============================] - 1s 4ms/step - loss: 1.0772 - accuracy: 0.6985\n",
            "Epoch 64/100\n",
            "210/210 [==============================] - 1s 4ms/step - loss: 1.0696 - accuracy: 0.6983\n",
            "Epoch 65/100\n",
            "210/210 [==============================] - 1s 4ms/step - loss: 1.0614 - accuracy: 0.7035\n",
            "Epoch 66/100\n",
            "210/210 [==============================] - 1s 4ms/step - loss: 1.0557 - accuracy: 0.7047\n",
            "Epoch 67/100\n",
            "210/210 [==============================] - 1s 4ms/step - loss: 1.0456 - accuracy: 0.7080\n",
            "Epoch 68/100\n",
            "210/210 [==============================] - 1s 4ms/step - loss: 1.0395 - accuracy: 0.7079\n",
            "Epoch 69/100\n",
            "210/210 [==============================] - 1s 4ms/step - loss: 1.0322 - accuracy: 0.7107\n",
            "Epoch 70/100\n",
            "210/210 [==============================] - 1s 4ms/step - loss: 1.0266 - accuracy: 0.7108\n",
            "Epoch 71/100\n",
            "210/210 [==============================] - 1s 4ms/step - loss: 1.0191 - accuracy: 0.7132\n",
            "Epoch 72/100\n",
            "210/210 [==============================] - 1s 4ms/step - loss: 1.0149 - accuracy: 0.7144\n",
            "Epoch 73/100\n",
            "210/210 [==============================] - 1s 4ms/step - loss: 1.0065 - accuracy: 0.7167\n",
            "Epoch 74/100\n",
            "210/210 [==============================] - 1s 4ms/step - loss: 1.0011 - accuracy: 0.7183\n",
            "Epoch 75/100\n",
            "210/210 [==============================] - 1s 4ms/step - loss: 0.9961 - accuracy: 0.7195\n",
            "Epoch 76/100\n",
            "210/210 [==============================] - 1s 4ms/step - loss: 0.9888 - accuracy: 0.7219\n",
            "Epoch 77/100\n",
            "210/210 [==============================] - 1s 4ms/step - loss: 0.9824 - accuracy: 0.7232\n",
            "Epoch 78/100\n",
            "210/210 [==============================] - 1s 4ms/step - loss: 0.9774 - accuracy: 0.7248\n",
            "Epoch 79/100\n",
            "210/210 [==============================] - 1s 4ms/step - loss: 0.9715 - accuracy: 0.7252\n",
            "Epoch 80/100\n",
            "210/210 [==============================] - 1s 4ms/step - loss: 0.9659 - accuracy: 0.7266\n",
            "Epoch 81/100\n",
            "210/210 [==============================] - 1s 4ms/step - loss: 0.9604 - accuracy: 0.7292\n",
            "Epoch 82/100\n",
            "210/210 [==============================] - 1s 4ms/step - loss: 0.9535 - accuracy: 0.7298\n",
            "Epoch 83/100\n",
            "210/210 [==============================] - 1s 4ms/step - loss: 0.9507 - accuracy: 0.7305\n",
            "Epoch 84/100\n",
            "210/210 [==============================] - 1s 4ms/step - loss: 0.9429 - accuracy: 0.7320\n",
            "Epoch 85/100\n",
            "210/210 [==============================] - 1s 4ms/step - loss: 0.9400 - accuracy: 0.7333\n",
            "Epoch 86/100\n",
            "210/210 [==============================] - 1s 4ms/step - loss: 0.9340 - accuracy: 0.7346\n",
            "Epoch 87/100\n",
            "210/210 [==============================] - 1s 4ms/step - loss: 0.9310 - accuracy: 0.7354\n",
            "Epoch 88/100\n",
            "210/210 [==============================] - 1s 4ms/step - loss: 0.9238 - accuracy: 0.7369\n",
            "Epoch 89/100\n",
            "210/210 [==============================] - 1s 4ms/step - loss: 0.9188 - accuracy: 0.7400\n",
            "Epoch 90/100\n",
            "210/210 [==============================] - 1s 4ms/step - loss: 0.9146 - accuracy: 0.7389\n",
            "Epoch 91/100\n",
            "210/210 [==============================] - 1s 4ms/step - loss: 0.9117 - accuracy: 0.7422\n",
            "Epoch 92/100\n",
            "210/210 [==============================] - 1s 4ms/step - loss: 0.9057 - accuracy: 0.7426\n",
            "Epoch 93/100\n",
            "210/210 [==============================] - 1s 4ms/step - loss: 0.9008 - accuracy: 0.7438\n",
            "Epoch 94/100\n",
            "210/210 [==============================] - 1s 4ms/step - loss: 0.8967 - accuracy: 0.7463\n",
            "Epoch 95/100\n",
            "210/210 [==============================] - 1s 4ms/step - loss: 0.8907 - accuracy: 0.7467\n",
            "Epoch 96/100\n",
            "210/210 [==============================] - 1s 4ms/step - loss: 0.8876 - accuracy: 0.7458\n",
            "Epoch 97/100\n",
            "210/210 [==============================] - 1s 4ms/step - loss: 0.8829 - accuracy: 0.7477\n",
            "Epoch 98/100\n",
            "210/210 [==============================] - 1s 4ms/step - loss: 0.8778 - accuracy: 0.7490\n",
            "Epoch 99/100\n",
            "210/210 [==============================] - 1s 4ms/step - loss: 0.8740 - accuracy: 0.7505\n",
            "Epoch 100/100\n",
            "210/210 [==============================] - 1s 4ms/step - loss: 0.8700 - accuracy: 0.7515\n"
          ],
          "name": "stdout"
        }
      ]
    },
    {
      "cell_type": "code",
      "metadata": {
        "id": "j-OKIEO3DkWa",
        "colab_type": "code",
        "colab": {
          "base_uri": "https://localhost:8080/",
          "height": 51
        },
        "outputId": "f5925e52-4477-4e85-e7c9-421f3b6ae871"
      },
      "source": [
        "results = model.evaluate(X_val, y_val)\n",
        "print('Val_acc using NN SGD (Batch Normalization) : ', results[1])"
      ],
      "execution_count": 32,
      "outputs": [
        {
          "output_type": "stream",
          "text": [
            "1875/1875 [==============================] - 5s 3ms/step - loss: 0.8615 - accuracy: 0.7570\n",
            "Val_acc using NN SGD (Batch Normalization) :  0.7569666504859924\n"
          ],
          "name": "stdout"
        }
      ]
    },
    {
      "cell_type": "code",
      "metadata": {
        "id": "a-RLQp72ghDm",
        "colab_type": "code",
        "colab": {
          "base_uri": "https://localhost:8080/",
          "height": 111
        },
        "outputId": "765f90a0-03be-4370-ae42-b9eda2203a2d"
      },
      "source": [
        "#Store the accuracy results for each model in a dataframe for final comparison\n",
        "tempResultsDf = pd.DataFrame({'Method':['NN SGD (Batch Normalization)'], 'accuracy': [results[1]]},index={'2'})\n",
        "results_on_val= pd.concat([results_on_val, tempResultsDf])\n",
        "results_on_val = results_on_val[['Method', 'accuracy']]\n",
        "results_on_val"
      ],
      "execution_count": 33,
      "outputs": [
        {
          "output_type": "execute_result",
          "data": {
            "text/html": [
              "<div>\n",
              "<style scoped>\n",
              "    .dataframe tbody tr th:only-of-type {\n",
              "        vertical-align: middle;\n",
              "    }\n",
              "\n",
              "    .dataframe tbody tr th {\n",
              "        vertical-align: top;\n",
              "    }\n",
              "\n",
              "    .dataframe thead th {\n",
              "        text-align: right;\n",
              "    }\n",
              "</style>\n",
              "<table border=\"1\" class=\"dataframe\">\n",
              "  <thead>\n",
              "    <tr style=\"text-align: right;\">\n",
              "      <th></th>\n",
              "      <th>Method</th>\n",
              "      <th>accuracy</th>\n",
              "    </tr>\n",
              "  </thead>\n",
              "  <tbody>\n",
              "    <tr>\n",
              "      <th>1</th>\n",
              "      <td>NN SDG</td>\n",
              "      <td>0.756950</td>\n",
              "    </tr>\n",
              "    <tr>\n",
              "      <th>2</th>\n",
              "      <td>NN SGD (Batch Normalization)</td>\n",
              "      <td>0.756967</td>\n",
              "    </tr>\n",
              "  </tbody>\n",
              "</table>\n",
              "</div>"
            ],
            "text/plain": [
              "                         Method  accuracy\n",
              "1                        NN SDG  0.756950\n",
              "2  NN SGD (Batch Normalization)  0.756967"
            ]
          },
          "metadata": {
            "tags": []
          },
          "execution_count": 33
        }
      ]
    },
    {
      "cell_type": "markdown",
      "metadata": {
        "id": "6KpPsGSNHeor",
        "colab_type": "text"
      },
      "source": [
        "#### Using ADAM Optimizer inplace of SGD"
      ]
    },
    {
      "cell_type": "code",
      "metadata": {
        "id": "yxekVc4nHlJ3",
        "colab_type": "code",
        "colab": {}
      },
      "source": [
        "#Batch normalization layer is inserted after dense/convolution and before nonlinearity\n",
        "def mlp_model():\n",
        "    model = Sequential()\n",
        "    \n",
        "    model.add(Dense(128, input_shape = (1024, ), kernel_initializer='he_normal'))     # use he_normal initializer\n",
        "    model.add(BatchNormalization()) \n",
        "    model.add(Activation('relu'))    \n",
        "    model.add(Dense(128, kernel_initializer='he_normal'))                            # use he_normal initializer\n",
        "    model.add(BatchNormalization()) \n",
        "    model.add(Activation('relu'))    \n",
        "    model.add(Dense(10, kernel_initializer='he_normal'))                            # use he_normal initializer\n",
        "    model.add(Activation('softmax'))\n",
        "    \n",
        "    adam = optimizers.Adam(lr = 0.001)\n",
        "    model.compile(optimizer = adam, loss = 'categorical_crossentropy', metrics = ['accuracy'])\n",
        "    \n",
        "    return model"
      ],
      "execution_count": 34,
      "outputs": []
    },
    {
      "cell_type": "code",
      "metadata": {
        "id": "uO7W4U7IHj1R",
        "colab_type": "code",
        "colab": {
          "base_uri": "https://localhost:8080/",
          "height": 1000
        },
        "outputId": "7133e826-5c17-4412-901d-fc7df410df8d"
      },
      "source": [
        "model = mlp_model()\n",
        "model_fit = model.fit(X_train, y_train, batch_size=200, epochs = 100, verbose = 1)"
      ],
      "execution_count": 35,
      "outputs": [
        {
          "output_type": "stream",
          "text": [
            "Epoch 1/100\n",
            "210/210 [==============================] - 1s 4ms/step - loss: 1.3926 - accuracy: 0.5661\n",
            "Epoch 2/100\n",
            "210/210 [==============================] - 1s 4ms/step - loss: 0.8859 - accuracy: 0.7315\n",
            "Epoch 3/100\n",
            "210/210 [==============================] - 1s 4ms/step - loss: 0.7505 - accuracy: 0.7697\n",
            "Epoch 4/100\n",
            "210/210 [==============================] - 1s 4ms/step - loss: 0.6674 - accuracy: 0.7965\n",
            "Epoch 5/100\n",
            "210/210 [==============================] - 1s 4ms/step - loss: 0.6158 - accuracy: 0.8100\n",
            "Epoch 6/100\n",
            "210/210 [==============================] - 1s 4ms/step - loss: 0.5712 - accuracy: 0.8253\n",
            "Epoch 7/100\n",
            "210/210 [==============================] - 1s 4ms/step - loss: 0.5384 - accuracy: 0.8325\n",
            "Epoch 8/100\n",
            "210/210 [==============================] - 1s 4ms/step - loss: 0.5133 - accuracy: 0.8393\n",
            "Epoch 9/100\n",
            "210/210 [==============================] - 1s 4ms/step - loss: 0.4943 - accuracy: 0.8463\n",
            "Epoch 10/100\n",
            "210/210 [==============================] - 1s 4ms/step - loss: 0.4764 - accuracy: 0.8515\n",
            "Epoch 11/100\n",
            "210/210 [==============================] - 1s 4ms/step - loss: 0.4447 - accuracy: 0.8620\n",
            "Epoch 12/100\n",
            "210/210 [==============================] - 1s 4ms/step - loss: 0.4362 - accuracy: 0.8640\n",
            "Epoch 13/100\n",
            "210/210 [==============================] - 1s 4ms/step - loss: 0.4206 - accuracy: 0.8693\n",
            "Epoch 14/100\n",
            "210/210 [==============================] - 1s 4ms/step - loss: 0.4093 - accuracy: 0.8721\n",
            "Epoch 15/100\n",
            "210/210 [==============================] - 1s 4ms/step - loss: 0.3985 - accuracy: 0.8740\n",
            "Epoch 16/100\n",
            "210/210 [==============================] - 1s 4ms/step - loss: 0.3841 - accuracy: 0.8795\n",
            "Epoch 17/100\n",
            "210/210 [==============================] - 1s 4ms/step - loss: 0.3754 - accuracy: 0.8816\n",
            "Epoch 18/100\n",
            "210/210 [==============================] - 1s 4ms/step - loss: 0.3729 - accuracy: 0.8810\n",
            "Epoch 19/100\n",
            "210/210 [==============================] - 1s 4ms/step - loss: 0.3481 - accuracy: 0.8911\n",
            "Epoch 20/100\n",
            "210/210 [==============================] - 1s 4ms/step - loss: 0.3519 - accuracy: 0.8886\n",
            "Epoch 21/100\n",
            "210/210 [==============================] - 1s 4ms/step - loss: 0.3306 - accuracy: 0.8976\n",
            "Epoch 22/100\n",
            "210/210 [==============================] - 1s 4ms/step - loss: 0.3260 - accuracy: 0.8971\n",
            "Epoch 23/100\n",
            "210/210 [==============================] - 1s 4ms/step - loss: 0.3256 - accuracy: 0.8970\n",
            "Epoch 24/100\n",
            "210/210 [==============================] - 1s 4ms/step - loss: 0.3160 - accuracy: 0.9003\n",
            "Epoch 25/100\n",
            "210/210 [==============================] - 1s 4ms/step - loss: 0.3072 - accuracy: 0.9033\n",
            "Epoch 26/100\n",
            "210/210 [==============================] - 1s 4ms/step - loss: 0.3019 - accuracy: 0.9026\n",
            "Epoch 27/100\n",
            "210/210 [==============================] - 1s 4ms/step - loss: 0.2977 - accuracy: 0.9053\n",
            "Epoch 28/100\n",
            "210/210 [==============================] - 1s 4ms/step - loss: 0.2933 - accuracy: 0.9056\n",
            "Epoch 29/100\n",
            "210/210 [==============================] - 1s 4ms/step - loss: 0.2789 - accuracy: 0.9122\n",
            "Epoch 30/100\n",
            "210/210 [==============================] - 1s 4ms/step - loss: 0.2807 - accuracy: 0.9098\n",
            "Epoch 31/100\n",
            "210/210 [==============================] - 1s 4ms/step - loss: 0.2718 - accuracy: 0.9135\n",
            "Epoch 32/100\n",
            "210/210 [==============================] - 1s 4ms/step - loss: 0.2705 - accuracy: 0.9139\n",
            "Epoch 33/100\n",
            "210/210 [==============================] - 1s 4ms/step - loss: 0.2614 - accuracy: 0.9171\n",
            "Epoch 34/100\n",
            "210/210 [==============================] - 1s 4ms/step - loss: 0.2512 - accuracy: 0.9212\n",
            "Epoch 35/100\n",
            "210/210 [==============================] - 1s 4ms/step - loss: 0.2621 - accuracy: 0.9149\n",
            "Epoch 36/100\n",
            "210/210 [==============================] - 1s 4ms/step - loss: 0.2443 - accuracy: 0.9204\n",
            "Epoch 37/100\n",
            "210/210 [==============================] - 1s 4ms/step - loss: 0.2368 - accuracy: 0.9232\n",
            "Epoch 38/100\n",
            "210/210 [==============================] - 1s 4ms/step - loss: 0.2372 - accuracy: 0.9251\n",
            "Epoch 39/100\n",
            "210/210 [==============================] - 1s 4ms/step - loss: 0.2379 - accuracy: 0.9242\n",
            "Epoch 40/100\n",
            "210/210 [==============================] - 1s 4ms/step - loss: 0.2378 - accuracy: 0.9245\n",
            "Epoch 41/100\n",
            "210/210 [==============================] - 1s 4ms/step - loss: 0.2251 - accuracy: 0.9284\n",
            "Epoch 42/100\n",
            "210/210 [==============================] - 1s 4ms/step - loss: 0.2262 - accuracy: 0.9267\n",
            "Epoch 43/100\n",
            "210/210 [==============================] - 1s 4ms/step - loss: 0.2211 - accuracy: 0.9297\n",
            "Epoch 44/100\n",
            "210/210 [==============================] - 1s 4ms/step - loss: 0.2125 - accuracy: 0.9310\n",
            "Epoch 45/100\n",
            "210/210 [==============================] - 1s 4ms/step - loss: 0.2126 - accuracy: 0.9295\n",
            "Epoch 46/100\n",
            "210/210 [==============================] - 1s 4ms/step - loss: 0.2051 - accuracy: 0.9348\n",
            "Epoch 47/100\n",
            "210/210 [==============================] - 1s 4ms/step - loss: 0.2072 - accuracy: 0.9324\n",
            "Epoch 48/100\n",
            "210/210 [==============================] - 1s 4ms/step - loss: 0.1993 - accuracy: 0.9344\n",
            "Epoch 49/100\n",
            "210/210 [==============================] - 1s 4ms/step - loss: 0.1980 - accuracy: 0.9358\n",
            "Epoch 50/100\n",
            "210/210 [==============================] - 1s 4ms/step - loss: 0.1983 - accuracy: 0.9355\n",
            "Epoch 51/100\n",
            "210/210 [==============================] - 1s 4ms/step - loss: 0.1943 - accuracy: 0.9361\n",
            "Epoch 52/100\n",
            "210/210 [==============================] - 1s 4ms/step - loss: 0.1857 - accuracy: 0.9403\n",
            "Epoch 53/100\n",
            "210/210 [==============================] - 1s 4ms/step - loss: 0.1868 - accuracy: 0.9389\n",
            "Epoch 54/100\n",
            "210/210 [==============================] - 1s 4ms/step - loss: 0.1890 - accuracy: 0.9392\n",
            "Epoch 55/100\n",
            "210/210 [==============================] - 1s 4ms/step - loss: 0.1746 - accuracy: 0.9437\n",
            "Epoch 56/100\n",
            "210/210 [==============================] - 1s 4ms/step - loss: 0.1784 - accuracy: 0.9418\n",
            "Epoch 57/100\n",
            "210/210 [==============================] - 1s 4ms/step - loss: 0.1783 - accuracy: 0.9406\n",
            "Epoch 58/100\n",
            "210/210 [==============================] - 1s 4ms/step - loss: 0.1823 - accuracy: 0.9412\n",
            "Epoch 59/100\n",
            "210/210 [==============================] - 1s 4ms/step - loss: 0.1666 - accuracy: 0.9462\n",
            "Epoch 60/100\n",
            "210/210 [==============================] - 1s 4ms/step - loss: 0.1735 - accuracy: 0.9430\n",
            "Epoch 61/100\n",
            "210/210 [==============================] - 1s 4ms/step - loss: 0.1630 - accuracy: 0.9471\n",
            "Epoch 62/100\n",
            "210/210 [==============================] - 1s 4ms/step - loss: 0.1739 - accuracy: 0.9430\n",
            "Epoch 63/100\n",
            "210/210 [==============================] - 1s 4ms/step - loss: 0.1659 - accuracy: 0.9449\n",
            "Epoch 64/100\n",
            "210/210 [==============================] - 1s 4ms/step - loss: 0.1663 - accuracy: 0.9445\n",
            "Epoch 65/100\n",
            "210/210 [==============================] - 1s 4ms/step - loss: 0.1666 - accuracy: 0.9458\n",
            "Epoch 66/100\n",
            "210/210 [==============================] - 1s 4ms/step - loss: 0.1553 - accuracy: 0.9506\n",
            "Epoch 67/100\n",
            "210/210 [==============================] - 1s 4ms/step - loss: 0.1516 - accuracy: 0.9500\n",
            "Epoch 68/100\n",
            "210/210 [==============================] - 1s 4ms/step - loss: 0.1586 - accuracy: 0.9474\n",
            "Epoch 69/100\n",
            "210/210 [==============================] - 1s 4ms/step - loss: 0.1500 - accuracy: 0.9495\n",
            "Epoch 70/100\n",
            "210/210 [==============================] - 1s 4ms/step - loss: 0.1445 - accuracy: 0.9526\n",
            "Epoch 71/100\n",
            "210/210 [==============================] - 1s 4ms/step - loss: 0.1521 - accuracy: 0.9505\n",
            "Epoch 72/100\n",
            "210/210 [==============================] - 1s 4ms/step - loss: 0.1460 - accuracy: 0.9527\n",
            "Epoch 73/100\n",
            "210/210 [==============================] - 1s 4ms/step - loss: 0.1524 - accuracy: 0.9510\n",
            "Epoch 74/100\n",
            "210/210 [==============================] - 1s 4ms/step - loss: 0.1379 - accuracy: 0.9551\n",
            "Epoch 75/100\n",
            "210/210 [==============================] - 1s 4ms/step - loss: 0.1465 - accuracy: 0.9516\n",
            "Epoch 76/100\n",
            "210/210 [==============================] - 1s 4ms/step - loss: 0.1381 - accuracy: 0.9545\n",
            "Epoch 77/100\n",
            "210/210 [==============================] - 1s 4ms/step - loss: 0.1347 - accuracy: 0.9568\n",
            "Epoch 78/100\n",
            "210/210 [==============================] - 1s 4ms/step - loss: 0.1398 - accuracy: 0.9541\n",
            "Epoch 79/100\n",
            "210/210 [==============================] - 1s 4ms/step - loss: 0.1383 - accuracy: 0.9539\n",
            "Epoch 80/100\n",
            "210/210 [==============================] - 1s 4ms/step - loss: 0.1310 - accuracy: 0.9571\n",
            "Epoch 81/100\n",
            "210/210 [==============================] - 1s 4ms/step - loss: 0.1343 - accuracy: 0.9553\n",
            "Epoch 82/100\n",
            "210/210 [==============================] - 1s 4ms/step - loss: 0.1363 - accuracy: 0.9557\n",
            "Epoch 83/100\n",
            "210/210 [==============================] - 1s 5ms/step - loss: 0.1329 - accuracy: 0.9566\n",
            "Epoch 84/100\n",
            "210/210 [==============================] - 1s 4ms/step - loss: 0.1291 - accuracy: 0.9569\n",
            "Epoch 85/100\n",
            "210/210 [==============================] - 1s 4ms/step - loss: 0.1341 - accuracy: 0.9545\n",
            "Epoch 86/100\n",
            "210/210 [==============================] - 1s 4ms/step - loss: 0.1210 - accuracy: 0.9609\n",
            "Epoch 87/100\n",
            "210/210 [==============================] - 1s 4ms/step - loss: 0.1212 - accuracy: 0.9594\n",
            "Epoch 88/100\n",
            "210/210 [==============================] - 1s 4ms/step - loss: 0.1230 - accuracy: 0.9589\n",
            "Epoch 89/100\n",
            "210/210 [==============================] - 1s 4ms/step - loss: 0.1261 - accuracy: 0.9575\n",
            "Epoch 90/100\n",
            "210/210 [==============================] - 1s 4ms/step - loss: 0.1183 - accuracy: 0.9607\n",
            "Epoch 91/100\n",
            "210/210 [==============================] - 1s 4ms/step - loss: 0.1283 - accuracy: 0.9566\n",
            "Epoch 92/100\n",
            "210/210 [==============================] - 1s 4ms/step - loss: 0.1136 - accuracy: 0.9619\n",
            "Epoch 93/100\n",
            "210/210 [==============================] - 1s 4ms/step - loss: 0.1190 - accuracy: 0.9606\n",
            "Epoch 94/100\n",
            "210/210 [==============================] - 1s 4ms/step - loss: 0.1237 - accuracy: 0.9598\n",
            "Epoch 95/100\n",
            "210/210 [==============================] - 1s 4ms/step - loss: 0.1242 - accuracy: 0.9581\n",
            "Epoch 96/100\n",
            "210/210 [==============================] - 1s 4ms/step - loss: 0.1230 - accuracy: 0.9594\n",
            "Epoch 97/100\n",
            "210/210 [==============================] - 1s 4ms/step - loss: 0.1169 - accuracy: 0.9610\n",
            "Epoch 98/100\n",
            "210/210 [==============================] - 1s 4ms/step - loss: 0.1154 - accuracy: 0.9618\n",
            "Epoch 99/100\n",
            "210/210 [==============================] - 1s 4ms/step - loss: 0.1198 - accuracy: 0.9597\n",
            "Epoch 100/100\n",
            "210/210 [==============================] - 1s 4ms/step - loss: 0.1151 - accuracy: 0.9628\n"
          ],
          "name": "stdout"
        }
      ]
    },
    {
      "cell_type": "code",
      "metadata": {
        "id": "RqPYCseYKRy_",
        "colab_type": "code",
        "colab": {
          "base_uri": "https://localhost:8080/",
          "height": 51
        },
        "outputId": "de5caa09-eef4-4825-d716-a3e7c68ecdca"
      },
      "source": [
        "results = model.evaluate(X_val, y_val)\n",
        "print('Val_acc using NN ADAM (Batch Normalization) : ', results[1])"
      ],
      "execution_count": 36,
      "outputs": [
        {
          "output_type": "stream",
          "text": [
            "1875/1875 [==============================] - 5s 3ms/step - loss: 0.2905 - accuracy: 0.9395\n",
            "Val_acc using NN ADAM (Batch Normalization) :  0.9394999742507935\n"
          ],
          "name": "stdout"
        }
      ]
    },
    {
      "cell_type": "code",
      "metadata": {
        "id": "28_uhtXDxoZP",
        "colab_type": "code",
        "colab": {
          "base_uri": "https://localhost:8080/",
          "height": 142
        },
        "outputId": "93a5ef34-ed9a-4ede-bc68-78f28cc78252"
      },
      "source": [
        "#Store the accuracy results for each model in a dataframe for final comparison\n",
        "tempResultsDf = pd.DataFrame({'Method':['NN ADAM (Batch Normalization)'], 'accuracy': [results[1]]},index={'3'})\n",
        "results_on_val= pd.concat([results_on_val, tempResultsDf])\n",
        "results_on_val = results_on_val[['Method', 'accuracy']]\n",
        "results_on_val"
      ],
      "execution_count": 37,
      "outputs": [
        {
          "output_type": "execute_result",
          "data": {
            "text/html": [
              "<div>\n",
              "<style scoped>\n",
              "    .dataframe tbody tr th:only-of-type {\n",
              "        vertical-align: middle;\n",
              "    }\n",
              "\n",
              "    .dataframe tbody tr th {\n",
              "        vertical-align: top;\n",
              "    }\n",
              "\n",
              "    .dataframe thead th {\n",
              "        text-align: right;\n",
              "    }\n",
              "</style>\n",
              "<table border=\"1\" class=\"dataframe\">\n",
              "  <thead>\n",
              "    <tr style=\"text-align: right;\">\n",
              "      <th></th>\n",
              "      <th>Method</th>\n",
              "      <th>accuracy</th>\n",
              "    </tr>\n",
              "  </thead>\n",
              "  <tbody>\n",
              "    <tr>\n",
              "      <th>1</th>\n",
              "      <td>NN SDG</td>\n",
              "      <td>0.756950</td>\n",
              "    </tr>\n",
              "    <tr>\n",
              "      <th>2</th>\n",
              "      <td>NN SGD (Batch Normalization)</td>\n",
              "      <td>0.756967</td>\n",
              "    </tr>\n",
              "    <tr>\n",
              "      <th>3</th>\n",
              "      <td>NN ADAM (Batch Normalization)</td>\n",
              "      <td>0.939500</td>\n",
              "    </tr>\n",
              "  </tbody>\n",
              "</table>\n",
              "</div>"
            ],
            "text/plain": [
              "                          Method  accuracy\n",
              "1                         NN SDG  0.756950\n",
              "2   NN SGD (Batch Normalization)  0.756967\n",
              "3  NN ADAM (Batch Normalization)  0.939500"
            ]
          },
          "metadata": {
            "tags": []
          },
          "execution_count": 37
        }
      ]
    },
    {
      "cell_type": "markdown",
      "metadata": {
        "id": "1vfQJ95mueTw",
        "colab_type": "text"
      },
      "source": [
        "## Hyper parameter tuning"
      ]
    },
    {
      "cell_type": "code",
      "metadata": {
        "id": "Y1KVsbcFunHz",
        "colab_type": "code",
        "colab": {}
      },
      "source": [
        "#Create Model\n",
        "def train_and_test_loop(ir, lr, Lambda, verb=True):\n",
        "\n",
        "    ## hyperparameters\n",
        "    iterations = ir\n",
        "    learning_rate = lr\n",
        "    hidden_nodes = 128\n",
        "    output_nodes = 10\n",
        "\n",
        "    model = Sequential()\n",
        "    \n",
        "    model.add(Dense(hidden_nodes, input_shape = (1024, ), kernel_initializer='he_normal'))     # use he_normal initializer\n",
        "    model.add(BatchNormalization()) \n",
        "    model.add(Activation('relu'))    \n",
        "    model.add(Dense(hidden_nodes, kernel_initializer='he_normal'))                            # use he_normal initializer\n",
        "    model.add(BatchNormalization()) \n",
        "    model.add(Activation('relu'))    \n",
        "    model.add(Dense(output_nodes, kernel_initializer='he_normal'))                            # use he_normal initializer\n",
        "    model.add(Activation('softmax'))\n",
        "    \n",
        "    # Compile model\n",
        "    adam = optimizers.Adam(lr=learning_rate, decay=1e-6)\n",
        "    model.compile(optimizer = adam, loss = 'categorical_crossentropy', metrics = ['accuracy'])\n",
        "    \n",
        "    # Fit the model\n",
        "    model.fit(X_train, y_train, epochs=iterations, batch_size=200, verbose= 1)\n",
        "    score = model.evaluate(X_val, y_val)\n",
        "    \n",
        "    return score"
      ],
      "execution_count": 38,
      "outputs": []
    },
    {
      "cell_type": "code",
      "metadata": {
        "id": "F34SKaOX4F3P",
        "colab_type": "code",
        "colab": {
          "base_uri": "https://localhost:8080/",
          "height": 1000
        },
        "outputId": "30cd5454-3d06-4865-9849-6cedc53050bf"
      },
      "source": [
        "import math\n",
        "for k in range(1,5):\n",
        "    ir = 100\n",
        "    lr = math.pow(10, np.random.uniform(-4.0, -2.0))\n",
        "    Lambda = math.pow(10, np.random.uniform(-6,-4))\n",
        "    best_acc = train_and_test_loop(ir, lr, Lambda, False)\n",
        "    print(\"Try {0}/{1}: Best_Training_acc: {2}, lr: {3}, Lambda: {4}\\n\".format(k, ir, best_acc, lr, Lambda))"
      ],
      "execution_count": 39,
      "outputs": [
        {
          "output_type": "stream",
          "text": [
            "Epoch 1/100\n",
            "210/210 [==============================] - 1s 5ms/step - loss: 2.0664 - accuracy: 0.2912\n",
            "Epoch 2/100\n",
            "210/210 [==============================] - 1s 4ms/step - loss: 1.4984 - accuracy: 0.5589\n",
            "Epoch 3/100\n",
            "210/210 [==============================] - 1s 4ms/step - loss: 1.2287 - accuracy: 0.6572\n",
            "Epoch 4/100\n",
            "210/210 [==============================] - 1s 4ms/step - loss: 1.0775 - accuracy: 0.6959\n",
            "Epoch 5/100\n",
            "210/210 [==============================] - 1s 4ms/step - loss: 0.9769 - accuracy: 0.7229\n",
            "Epoch 6/100\n",
            "210/210 [==============================] - 1s 4ms/step - loss: 0.9051 - accuracy: 0.7415\n",
            "Epoch 7/100\n",
            "210/210 [==============================] - 1s 4ms/step - loss: 0.8475 - accuracy: 0.7559\n",
            "Epoch 8/100\n",
            "210/210 [==============================] - 1s 4ms/step - loss: 0.7974 - accuracy: 0.7674\n",
            "Epoch 9/100\n",
            "210/210 [==============================] - 1s 5ms/step - loss: 0.7576 - accuracy: 0.7776\n",
            "Epoch 10/100\n",
            "210/210 [==============================] - 1s 4ms/step - loss: 0.7203 - accuracy: 0.7876\n",
            "Epoch 11/100\n",
            "210/210 [==============================] - 1s 4ms/step - loss: 0.6858 - accuracy: 0.7985\n",
            "Epoch 12/100\n",
            "210/210 [==============================] - 1s 4ms/step - loss: 0.6590 - accuracy: 0.8038\n",
            "Epoch 13/100\n",
            "210/210 [==============================] - 1s 4ms/step - loss: 0.6358 - accuracy: 0.8110\n",
            "Epoch 14/100\n",
            "210/210 [==============================] - 1s 4ms/step - loss: 0.6116 - accuracy: 0.8178\n",
            "Epoch 15/100\n",
            "210/210 [==============================] - 1s 4ms/step - loss: 0.5904 - accuracy: 0.8242\n",
            "Epoch 16/100\n",
            "210/210 [==============================] - 1s 4ms/step - loss: 0.5732 - accuracy: 0.8296\n",
            "Epoch 17/100\n",
            "210/210 [==============================] - 1s 4ms/step - loss: 0.5570 - accuracy: 0.8330\n",
            "Epoch 18/100\n",
            "210/210 [==============================] - 1s 4ms/step - loss: 0.5443 - accuracy: 0.8355\n",
            "Epoch 19/100\n",
            "210/210 [==============================] - 1s 4ms/step - loss: 0.5278 - accuracy: 0.8413\n",
            "Epoch 20/100\n",
            "210/210 [==============================] - 1s 4ms/step - loss: 0.5163 - accuracy: 0.8449\n",
            "Epoch 21/100\n",
            "210/210 [==============================] - 1s 4ms/step - loss: 0.5040 - accuracy: 0.8489\n",
            "Epoch 22/100\n",
            "210/210 [==============================] - 1s 4ms/step - loss: 0.4913 - accuracy: 0.8506\n",
            "Epoch 23/100\n",
            "210/210 [==============================] - 1s 4ms/step - loss: 0.4814 - accuracy: 0.8545\n",
            "Epoch 24/100\n",
            "210/210 [==============================] - 1s 4ms/step - loss: 0.4740 - accuracy: 0.8564\n",
            "Epoch 25/100\n",
            "210/210 [==============================] - 1s 4ms/step - loss: 0.4630 - accuracy: 0.8609\n",
            "Epoch 26/100\n",
            "210/210 [==============================] - 1s 4ms/step - loss: 0.4515 - accuracy: 0.8649\n",
            "Epoch 27/100\n",
            "210/210 [==============================] - 1s 4ms/step - loss: 0.4424 - accuracy: 0.8656\n",
            "Epoch 28/100\n",
            "210/210 [==============================] - 1s 4ms/step - loss: 0.4392 - accuracy: 0.8660\n",
            "Epoch 29/100\n",
            "210/210 [==============================] - 1s 4ms/step - loss: 0.4267 - accuracy: 0.8718\n",
            "Epoch 30/100\n",
            "210/210 [==============================] - 1s 4ms/step - loss: 0.4245 - accuracy: 0.8703\n",
            "Epoch 31/100\n",
            "210/210 [==============================] - 1s 4ms/step - loss: 0.4134 - accuracy: 0.8745\n",
            "Epoch 32/100\n",
            "210/210 [==============================] - 1s 4ms/step - loss: 0.4090 - accuracy: 0.8774\n",
            "Epoch 33/100\n",
            "210/210 [==============================] - 1s 5ms/step - loss: 0.4013 - accuracy: 0.8788\n",
            "Epoch 34/100\n",
            "210/210 [==============================] - 1s 4ms/step - loss: 0.3979 - accuracy: 0.8798\n",
            "Epoch 35/100\n",
            "210/210 [==============================] - 1s 4ms/step - loss: 0.3904 - accuracy: 0.8815\n",
            "Epoch 36/100\n",
            "210/210 [==============================] - 1s 4ms/step - loss: 0.3848 - accuracy: 0.8827\n",
            "Epoch 37/100\n",
            "210/210 [==============================] - 1s 4ms/step - loss: 0.3804 - accuracy: 0.8848\n",
            "Epoch 38/100\n",
            "210/210 [==============================] - 1s 4ms/step - loss: 0.3750 - accuracy: 0.8869\n",
            "Epoch 39/100\n",
            "210/210 [==============================] - 1s 4ms/step - loss: 0.3714 - accuracy: 0.8874\n",
            "Epoch 40/100\n",
            "210/210 [==============================] - 1s 4ms/step - loss: 0.3666 - accuracy: 0.8883\n",
            "Epoch 41/100\n",
            "210/210 [==============================] - 1s 4ms/step - loss: 0.3611 - accuracy: 0.8892\n",
            "Epoch 42/100\n",
            "210/210 [==============================] - 1s 4ms/step - loss: 0.3542 - accuracy: 0.8923\n",
            "Epoch 43/100\n",
            "210/210 [==============================] - 1s 4ms/step - loss: 0.3493 - accuracy: 0.8938\n",
            "Epoch 44/100\n",
            "210/210 [==============================] - 1s 4ms/step - loss: 0.3423 - accuracy: 0.8953\n",
            "Epoch 45/100\n",
            "210/210 [==============================] - 1s 4ms/step - loss: 0.3419 - accuracy: 0.8956\n",
            "Epoch 46/100\n",
            "210/210 [==============================] - 1s 4ms/step - loss: 0.3386 - accuracy: 0.8970\n",
            "Epoch 47/100\n",
            "210/210 [==============================] - 1s 4ms/step - loss: 0.3350 - accuracy: 0.8976\n",
            "Epoch 48/100\n",
            "210/210 [==============================] - 1s 4ms/step - loss: 0.3280 - accuracy: 0.9005\n",
            "Epoch 49/100\n",
            "210/210 [==============================] - 1s 4ms/step - loss: 0.3285 - accuracy: 0.8992\n",
            "Epoch 50/100\n",
            "210/210 [==============================] - 1s 4ms/step - loss: 0.3291 - accuracy: 0.8981\n",
            "Epoch 51/100\n",
            "210/210 [==============================] - 1s 4ms/step - loss: 0.3198 - accuracy: 0.9015\n",
            "Epoch 52/100\n",
            "210/210 [==============================] - 1s 5ms/step - loss: 0.3147 - accuracy: 0.9051\n",
            "Epoch 53/100\n",
            "210/210 [==============================] - 1s 4ms/step - loss: 0.3108 - accuracy: 0.9050\n",
            "Epoch 54/100\n",
            "210/210 [==============================] - 1s 5ms/step - loss: 0.3105 - accuracy: 0.9051\n",
            "Epoch 55/100\n",
            "210/210 [==============================] - 1s 5ms/step - loss: 0.3085 - accuracy: 0.9060\n",
            "Epoch 56/100\n",
            "210/210 [==============================] - 1s 5ms/step - loss: 0.3004 - accuracy: 0.9090\n",
            "Epoch 57/100\n",
            "210/210 [==============================] - 1s 5ms/step - loss: 0.2980 - accuracy: 0.9091\n",
            "Epoch 58/100\n",
            "210/210 [==============================] - 1s 5ms/step - loss: 0.2946 - accuracy: 0.9092\n",
            "Epoch 59/100\n",
            "210/210 [==============================] - 1s 4ms/step - loss: 0.3018 - accuracy: 0.9079\n",
            "Epoch 60/100\n",
            "210/210 [==============================] - 1s 4ms/step - loss: 0.2953 - accuracy: 0.9103\n",
            "Epoch 61/100\n",
            "210/210 [==============================] - 1s 4ms/step - loss: 0.2864 - accuracy: 0.9119\n",
            "Epoch 62/100\n",
            "210/210 [==============================] - 1s 4ms/step - loss: 0.2880 - accuracy: 0.9129\n",
            "Epoch 63/100\n",
            "210/210 [==============================] - 1s 4ms/step - loss: 0.2845 - accuracy: 0.9129\n",
            "Epoch 64/100\n",
            "210/210 [==============================] - 1s 4ms/step - loss: 0.2807 - accuracy: 0.9146\n",
            "Epoch 65/100\n",
            "210/210 [==============================] - 1s 4ms/step - loss: 0.2800 - accuracy: 0.9130\n",
            "Epoch 66/100\n",
            "210/210 [==============================] - 1s 4ms/step - loss: 0.2794 - accuracy: 0.9137\n",
            "Epoch 67/100\n",
            "210/210 [==============================] - 1s 4ms/step - loss: 0.2725 - accuracy: 0.9173\n",
            "Epoch 68/100\n",
            "210/210 [==============================] - 1s 4ms/step - loss: 0.2737 - accuracy: 0.9165\n",
            "Epoch 69/100\n",
            "210/210 [==============================] - 1s 4ms/step - loss: 0.2690 - accuracy: 0.9178\n",
            "Epoch 70/100\n",
            "210/210 [==============================] - 1s 4ms/step - loss: 0.2677 - accuracy: 0.9180\n",
            "Epoch 71/100\n",
            "210/210 [==============================] - 1s 4ms/step - loss: 0.2620 - accuracy: 0.9200\n",
            "Epoch 72/100\n",
            "210/210 [==============================] - 1s 4ms/step - loss: 0.2605 - accuracy: 0.9203\n",
            "Epoch 73/100\n",
            "210/210 [==============================] - 1s 4ms/step - loss: 0.2638 - accuracy: 0.9204\n",
            "Epoch 74/100\n",
            "210/210 [==============================] - 1s 4ms/step - loss: 0.2568 - accuracy: 0.9220\n",
            "Epoch 75/100\n",
            "210/210 [==============================] - 1s 4ms/step - loss: 0.2589 - accuracy: 0.9215\n",
            "Epoch 76/100\n",
            "210/210 [==============================] - 1s 4ms/step - loss: 0.2534 - accuracy: 0.9223\n",
            "Epoch 77/100\n",
            "210/210 [==============================] - 1s 4ms/step - loss: 0.2515 - accuracy: 0.9237\n",
            "Epoch 78/100\n",
            "210/210 [==============================] - 1s 5ms/step - loss: 0.2508 - accuracy: 0.9244\n",
            "Epoch 79/100\n",
            "210/210 [==============================] - 1s 4ms/step - loss: 0.2483 - accuracy: 0.9255\n",
            "Epoch 80/100\n",
            "210/210 [==============================] - 1s 4ms/step - loss: 0.2454 - accuracy: 0.9246\n",
            "Epoch 81/100\n",
            "210/210 [==============================] - 1s 4ms/step - loss: 0.2454 - accuracy: 0.9259\n",
            "Epoch 82/100\n",
            "210/210 [==============================] - 1s 4ms/step - loss: 0.2411 - accuracy: 0.9268\n",
            "Epoch 83/100\n",
            "210/210 [==============================] - 1s 4ms/step - loss: 0.2379 - accuracy: 0.9282\n",
            "Epoch 84/100\n",
            "210/210 [==============================] - 1s 4ms/step - loss: 0.2386 - accuracy: 0.9271\n",
            "Epoch 85/100\n",
            "210/210 [==============================] - 1s 4ms/step - loss: 0.2340 - accuracy: 0.9279\n",
            "Epoch 86/100\n",
            "210/210 [==============================] - 1s 4ms/step - loss: 0.2379 - accuracy: 0.9269\n",
            "Epoch 87/100\n",
            "210/210 [==============================] - 1s 4ms/step - loss: 0.2375 - accuracy: 0.9276\n",
            "Epoch 88/100\n",
            "210/210 [==============================] - 1s 4ms/step - loss: 0.2288 - accuracy: 0.9307\n",
            "Epoch 89/100\n",
            "210/210 [==============================] - 1s 4ms/step - loss: 0.2312 - accuracy: 0.9292\n",
            "Epoch 90/100\n",
            "210/210 [==============================] - 1s 4ms/step - loss: 0.2283 - accuracy: 0.9299\n",
            "Epoch 91/100\n",
            "210/210 [==============================] - 1s 4ms/step - loss: 0.2242 - accuracy: 0.9338\n",
            "Epoch 92/100\n",
            "210/210 [==============================] - 1s 4ms/step - loss: 0.2201 - accuracy: 0.9332\n",
            "Epoch 93/100\n",
            "210/210 [==============================] - 1s 4ms/step - loss: 0.2251 - accuracy: 0.9310\n",
            "Epoch 94/100\n",
            "210/210 [==============================] - 1s 4ms/step - loss: 0.2194 - accuracy: 0.9331\n",
            "Epoch 95/100\n",
            "210/210 [==============================] - 1s 4ms/step - loss: 0.2198 - accuracy: 0.9322\n",
            "Epoch 96/100\n",
            "210/210 [==============================] - 1s 4ms/step - loss: 0.2213 - accuracy: 0.9333\n",
            "Epoch 97/100\n",
            "210/210 [==============================] - 1s 4ms/step - loss: 0.2201 - accuracy: 0.9328\n",
            "Epoch 98/100\n",
            "210/210 [==============================] - 1s 4ms/step - loss: 0.2101 - accuracy: 0.9367\n",
            "Epoch 99/100\n",
            "210/210 [==============================] - 1s 4ms/step - loss: 0.2139 - accuracy: 0.9352\n",
            "Epoch 100/100\n",
            "210/210 [==============================] - 1s 4ms/step - loss: 0.2141 - accuracy: 0.9347\n",
            "1875/1875 [==============================] - 5s 2ms/step - loss: 0.3002 - accuracy: 0.9220\n",
            "Try 1/100: Best_Training_acc: [0.3001948595046997, 0.9219833612442017], lr: 0.00011531761485516592, Lambda: 1.3514691856290533e-05\n",
            "\n",
            "Epoch 1/100\n",
            "210/210 [==============================] - 1s 4ms/step - loss: 2.0327 - accuracy: 0.3083\n",
            "Epoch 2/100\n",
            "210/210 [==============================] - 1s 4ms/step - loss: 1.4732 - accuracy: 0.5729\n",
            "Epoch 3/100\n",
            "210/210 [==============================] - 1s 4ms/step - loss: 1.2087 - accuracy: 0.6644\n",
            "Epoch 4/100\n",
            "210/210 [==============================] - 1s 4ms/step - loss: 1.0612 - accuracy: 0.7044\n",
            "Epoch 5/100\n",
            "210/210 [==============================] - 1s 4ms/step - loss: 0.9576 - accuracy: 0.7299\n",
            "Epoch 6/100\n",
            "210/210 [==============================] - 1s 4ms/step - loss: 0.8859 - accuracy: 0.7471\n",
            "Epoch 7/100\n",
            "210/210 [==============================] - 1s 4ms/step - loss: 0.8235 - accuracy: 0.7623\n",
            "Epoch 8/100\n",
            "210/210 [==============================] - 1s 4ms/step - loss: 0.7750 - accuracy: 0.7770\n",
            "Epoch 9/100\n",
            "210/210 [==============================] - 1s 4ms/step - loss: 0.7319 - accuracy: 0.7865\n",
            "Epoch 10/100\n",
            "210/210 [==============================] - 1s 4ms/step - loss: 0.6935 - accuracy: 0.7973\n",
            "Epoch 11/100\n",
            "210/210 [==============================] - 1s 4ms/step - loss: 0.6656 - accuracy: 0.8048\n",
            "Epoch 12/100\n",
            "210/210 [==============================] - 1s 4ms/step - loss: 0.6379 - accuracy: 0.8130\n",
            "Epoch 13/100\n",
            "210/210 [==============================] - 1s 4ms/step - loss: 0.6124 - accuracy: 0.8205\n",
            "Epoch 14/100\n",
            "210/210 [==============================] - 1s 4ms/step - loss: 0.5884 - accuracy: 0.8267\n",
            "Epoch 15/100\n",
            "210/210 [==============================] - 1s 4ms/step - loss: 0.5727 - accuracy: 0.8305\n",
            "Epoch 16/100\n",
            "210/210 [==============================] - 1s 4ms/step - loss: 0.5527 - accuracy: 0.8350\n",
            "Epoch 17/100\n",
            "210/210 [==============================] - 1s 5ms/step - loss: 0.5426 - accuracy: 0.8397\n",
            "Epoch 18/100\n",
            "210/210 [==============================] - 1s 4ms/step - loss: 0.5253 - accuracy: 0.8426\n",
            "Epoch 19/100\n",
            "210/210 [==============================] - 1s 4ms/step - loss: 0.5130 - accuracy: 0.8451\n",
            "Epoch 20/100\n",
            "210/210 [==============================] - 1s 4ms/step - loss: 0.5025 - accuracy: 0.8495\n",
            "Epoch 21/100\n",
            "210/210 [==============================] - 1s 4ms/step - loss: 0.4892 - accuracy: 0.8544\n",
            "Epoch 22/100\n",
            "210/210 [==============================] - 1s 4ms/step - loss: 0.4793 - accuracy: 0.8542\n",
            "Epoch 23/100\n",
            "210/210 [==============================] - 1s 4ms/step - loss: 0.4713 - accuracy: 0.8592\n",
            "Epoch 24/100\n",
            "210/210 [==============================] - 1s 4ms/step - loss: 0.4605 - accuracy: 0.8610\n",
            "Epoch 25/100\n",
            "210/210 [==============================] - 1s 4ms/step - loss: 0.4511 - accuracy: 0.8638\n",
            "Epoch 26/100\n",
            "210/210 [==============================] - 1s 4ms/step - loss: 0.4411 - accuracy: 0.8680\n",
            "Epoch 27/100\n",
            "210/210 [==============================] - 1s 4ms/step - loss: 0.4359 - accuracy: 0.8677\n",
            "Epoch 28/100\n",
            "210/210 [==============================] - 1s 4ms/step - loss: 0.4295 - accuracy: 0.8701\n",
            "Epoch 29/100\n",
            "210/210 [==============================] - 1s 5ms/step - loss: 0.4198 - accuracy: 0.8726\n",
            "Epoch 30/100\n",
            "210/210 [==============================] - 1s 4ms/step - loss: 0.4135 - accuracy: 0.8744\n",
            "Epoch 31/100\n",
            "210/210 [==============================] - 1s 5ms/step - loss: 0.4067 - accuracy: 0.8766\n",
            "Epoch 32/100\n",
            "210/210 [==============================] - 1s 5ms/step - loss: 0.4020 - accuracy: 0.8786\n",
            "Epoch 33/100\n",
            "210/210 [==============================] - 1s 5ms/step - loss: 0.3963 - accuracy: 0.8793\n",
            "Epoch 34/100\n",
            "210/210 [==============================] - 1s 5ms/step - loss: 0.3914 - accuracy: 0.8814\n",
            "Epoch 35/100\n",
            "210/210 [==============================] - 1s 5ms/step - loss: 0.3846 - accuracy: 0.8834\n",
            "Epoch 36/100\n",
            "210/210 [==============================] - 1s 5ms/step - loss: 0.3799 - accuracy: 0.8858\n",
            "Epoch 37/100\n",
            "210/210 [==============================] - 1s 5ms/step - loss: 0.3749 - accuracy: 0.8872\n",
            "Epoch 38/100\n",
            "210/210 [==============================] - 1s 5ms/step - loss: 0.3717 - accuracy: 0.8886\n",
            "Epoch 39/100\n",
            "210/210 [==============================] - 1s 5ms/step - loss: 0.3633 - accuracy: 0.8905\n",
            "Epoch 40/100\n",
            "210/210 [==============================] - 1s 5ms/step - loss: 0.3610 - accuracy: 0.8900\n",
            "Epoch 41/100\n",
            "210/210 [==============================] - 1s 4ms/step - loss: 0.3551 - accuracy: 0.8934\n",
            "Epoch 42/100\n",
            "210/210 [==============================] - 1s 4ms/step - loss: 0.3514 - accuracy: 0.8946\n",
            "Epoch 43/100\n",
            "210/210 [==============================] - 1s 4ms/step - loss: 0.3508 - accuracy: 0.8929\n",
            "Epoch 44/100\n",
            "210/210 [==============================] - 1s 4ms/step - loss: 0.3482 - accuracy: 0.8944\n",
            "Epoch 45/100\n",
            "210/210 [==============================] - 1s 4ms/step - loss: 0.3399 - accuracy: 0.8963\n",
            "Epoch 46/100\n",
            "210/210 [==============================] - 1s 4ms/step - loss: 0.3324 - accuracy: 0.8996\n",
            "Epoch 47/100\n",
            "210/210 [==============================] - 1s 4ms/step - loss: 0.3333 - accuracy: 0.8992\n",
            "Epoch 48/100\n",
            "210/210 [==============================] - 1s 4ms/step - loss: 0.3244 - accuracy: 0.9020\n",
            "Epoch 49/100\n",
            "210/210 [==============================] - 1s 4ms/step - loss: 0.3242 - accuracy: 0.9031\n",
            "Epoch 50/100\n",
            "210/210 [==============================] - 1s 4ms/step - loss: 0.3184 - accuracy: 0.9032\n",
            "Epoch 51/100\n",
            "210/210 [==============================] - 1s 4ms/step - loss: 0.3210 - accuracy: 0.9032\n",
            "Epoch 52/100\n",
            "210/210 [==============================] - 1s 4ms/step - loss: 0.3144 - accuracy: 0.9040\n",
            "Epoch 53/100\n",
            "210/210 [==============================] - 1s 4ms/step - loss: 0.3116 - accuracy: 0.9062\n",
            "Epoch 54/100\n",
            "210/210 [==============================] - 1s 4ms/step - loss: 0.3109 - accuracy: 0.9064\n",
            "Epoch 55/100\n",
            "210/210 [==============================] - 1s 4ms/step - loss: 0.3036 - accuracy: 0.9089\n",
            "Epoch 56/100\n",
            "210/210 [==============================] - 1s 4ms/step - loss: 0.3038 - accuracy: 0.9078\n",
            "Epoch 57/100\n",
            "210/210 [==============================] - 1s 4ms/step - loss: 0.3012 - accuracy: 0.9088\n",
            "Epoch 58/100\n",
            "210/210 [==============================] - 1s 4ms/step - loss: 0.2999 - accuracy: 0.9095\n",
            "Epoch 59/100\n",
            "210/210 [==============================] - 1s 4ms/step - loss: 0.2918 - accuracy: 0.9103\n",
            "Epoch 60/100\n",
            "210/210 [==============================] - 1s 4ms/step - loss: 0.2955 - accuracy: 0.9101\n",
            "Epoch 61/100\n",
            "210/210 [==============================] - 1s 4ms/step - loss: 0.2916 - accuracy: 0.9117\n",
            "Epoch 62/100\n",
            "210/210 [==============================] - 1s 4ms/step - loss: 0.2842 - accuracy: 0.9131\n",
            "Epoch 63/100\n",
            "210/210 [==============================] - 1s 4ms/step - loss: 0.2848 - accuracy: 0.9149\n",
            "Epoch 64/100\n",
            "210/210 [==============================] - 1s 4ms/step - loss: 0.2781 - accuracy: 0.9152\n",
            "Epoch 65/100\n",
            "210/210 [==============================] - 1s 4ms/step - loss: 0.2758 - accuracy: 0.9167\n",
            "Epoch 66/100\n",
            "210/210 [==============================] - 1s 4ms/step - loss: 0.2731 - accuracy: 0.9170\n",
            "Epoch 67/100\n",
            "210/210 [==============================] - 1s 4ms/step - loss: 0.2724 - accuracy: 0.9188\n",
            "Epoch 68/100\n",
            "210/210 [==============================] - 1s 4ms/step - loss: 0.2693 - accuracy: 0.9192\n",
            "Epoch 69/100\n",
            "210/210 [==============================] - 1s 4ms/step - loss: 0.2662 - accuracy: 0.9196\n",
            "Epoch 70/100\n",
            "210/210 [==============================] - 1s 4ms/step - loss: 0.2647 - accuracy: 0.9205\n",
            "Epoch 71/100\n",
            "210/210 [==============================] - 1s 4ms/step - loss: 0.2601 - accuracy: 0.9215\n",
            "Epoch 72/100\n",
            "210/210 [==============================] - 1s 4ms/step - loss: 0.2624 - accuracy: 0.9206\n",
            "Epoch 73/100\n",
            "210/210 [==============================] - 1s 4ms/step - loss: 0.2617 - accuracy: 0.9209\n",
            "Epoch 74/100\n",
            "210/210 [==============================] - 1s 4ms/step - loss: 0.2560 - accuracy: 0.9233\n",
            "Epoch 75/100\n",
            "210/210 [==============================] - 1s 4ms/step - loss: 0.2508 - accuracy: 0.9249\n",
            "Epoch 76/100\n",
            "210/210 [==============================] - 1s 4ms/step - loss: 0.2496 - accuracy: 0.9245\n",
            "Epoch 77/100\n",
            "210/210 [==============================] - 1s 4ms/step - loss: 0.2586 - accuracy: 0.9209\n",
            "Epoch 78/100\n",
            "210/210 [==============================] - 1s 4ms/step - loss: 0.2511 - accuracy: 0.9250\n",
            "Epoch 79/100\n",
            "210/210 [==============================] - 1s 4ms/step - loss: 0.2472 - accuracy: 0.9244\n",
            "Epoch 80/100\n",
            "210/210 [==============================] - 1s 4ms/step - loss: 0.2429 - accuracy: 0.9270\n",
            "Epoch 81/100\n",
            "210/210 [==============================] - 1s 4ms/step - loss: 0.2395 - accuracy: 0.9274\n",
            "Epoch 82/100\n",
            "210/210 [==============================] - 1s 4ms/step - loss: 0.2403 - accuracy: 0.9270\n",
            "Epoch 83/100\n",
            "210/210 [==============================] - 1s 4ms/step - loss: 0.2422 - accuracy: 0.9272\n",
            "Epoch 84/100\n",
            "210/210 [==============================] - 1s 4ms/step - loss: 0.2391 - accuracy: 0.9280\n",
            "Epoch 85/100\n",
            "210/210 [==============================] - 1s 4ms/step - loss: 0.2363 - accuracy: 0.9287\n",
            "Epoch 86/100\n",
            "210/210 [==============================] - 1s 4ms/step - loss: 0.2353 - accuracy: 0.9287\n",
            "Epoch 87/100\n",
            "210/210 [==============================] - 1s 4ms/step - loss: 0.2260 - accuracy: 0.9322\n",
            "Epoch 88/100\n",
            "210/210 [==============================] - 1s 4ms/step - loss: 0.2366 - accuracy: 0.9275\n",
            "Epoch 89/100\n",
            "210/210 [==============================] - 1s 4ms/step - loss: 0.2311 - accuracy: 0.9299\n",
            "Epoch 90/100\n",
            "210/210 [==============================] - 1s 4ms/step - loss: 0.2255 - accuracy: 0.9326\n",
            "Epoch 91/100\n",
            "210/210 [==============================] - 1s 4ms/step - loss: 0.2235 - accuracy: 0.9321\n",
            "Epoch 92/100\n",
            "210/210 [==============================] - 1s 4ms/step - loss: 0.2256 - accuracy: 0.9316\n",
            "Epoch 93/100\n",
            "210/210 [==============================] - 1s 4ms/step - loss: 0.2234 - accuracy: 0.9323\n",
            "Epoch 94/100\n",
            "210/210 [==============================] - 1s 4ms/step - loss: 0.2188 - accuracy: 0.9340\n",
            "Epoch 95/100\n",
            "210/210 [==============================] - 1s 5ms/step - loss: 0.2189 - accuracy: 0.9340\n",
            "Epoch 96/100\n",
            "210/210 [==============================] - 1s 4ms/step - loss: 0.2158 - accuracy: 0.9346\n",
            "Epoch 97/100\n",
            "210/210 [==============================] - 1s 4ms/step - loss: 0.2176 - accuracy: 0.9340\n",
            "Epoch 98/100\n",
            "210/210 [==============================] - 1s 4ms/step - loss: 0.2106 - accuracy: 0.9367\n",
            "Epoch 99/100\n",
            "210/210 [==============================] - 1s 5ms/step - loss: 0.2077 - accuracy: 0.9375\n",
            "Epoch 100/100\n",
            "210/210 [==============================] - 1s 4ms/step - loss: 0.2081 - accuracy: 0.9380\n",
            "1875/1875 [==============================] - 5s 3ms/step - loss: 0.2887 - accuracy: 0.9244\n",
            "Try 2/100: Best_Training_acc: [0.2887425422668457, 0.9244166612625122], lr: 0.000115770129038501, Lambda: 4.702154169856192e-06\n",
            "\n",
            "Epoch 1/100\n",
            "210/210 [==============================] - 1s 4ms/step - loss: 1.9501 - accuracy: 0.3612\n",
            "Epoch 2/100\n",
            "210/210 [==============================] - 1s 4ms/step - loss: 1.2709 - accuracy: 0.6417\n",
            "Epoch 3/100\n",
            "210/210 [==============================] - 1s 4ms/step - loss: 1.0425 - accuracy: 0.7027\n",
            "Epoch 4/100\n",
            "210/210 [==============================] - 1s 4ms/step - loss: 0.9203 - accuracy: 0.7334\n",
            "Epoch 5/100\n",
            "210/210 [==============================] - 1s 4ms/step - loss: 0.8354 - accuracy: 0.7540\n",
            "Epoch 6/100\n",
            "210/210 [==============================] - 1s 4ms/step - loss: 0.7650 - accuracy: 0.7743\n",
            "Epoch 7/100\n",
            "210/210 [==============================] - 1s 4ms/step - loss: 0.7079 - accuracy: 0.7899\n",
            "Epoch 8/100\n",
            "210/210 [==============================] - 1s 4ms/step - loss: 0.6686 - accuracy: 0.8005\n",
            "Epoch 9/100\n",
            "210/210 [==============================] - 1s 5ms/step - loss: 0.6335 - accuracy: 0.8113\n",
            "Epoch 10/100\n",
            "210/210 [==============================] - 1s 4ms/step - loss: 0.6032 - accuracy: 0.8194\n",
            "Epoch 11/100\n",
            "210/210 [==============================] - 1s 4ms/step - loss: 0.5753 - accuracy: 0.8275\n",
            "Epoch 12/100\n",
            "210/210 [==============================] - 1s 4ms/step - loss: 0.5535 - accuracy: 0.8329\n",
            "Epoch 13/100\n",
            "210/210 [==============================] - 1s 4ms/step - loss: 0.5343 - accuracy: 0.8389\n",
            "Epoch 14/100\n",
            "210/210 [==============================] - 1s 4ms/step - loss: 0.5171 - accuracy: 0.8439\n",
            "Epoch 15/100\n",
            "210/210 [==============================] - 1s 4ms/step - loss: 0.5016 - accuracy: 0.8485\n",
            "Epoch 16/100\n",
            "210/210 [==============================] - 1s 4ms/step - loss: 0.4870 - accuracy: 0.8520\n",
            "Epoch 17/100\n",
            "210/210 [==============================] - 1s 4ms/step - loss: 0.4742 - accuracy: 0.8545\n",
            "Epoch 18/100\n",
            "210/210 [==============================] - 1s 4ms/step - loss: 0.4608 - accuracy: 0.8607\n",
            "Epoch 19/100\n",
            "210/210 [==============================] - 1s 4ms/step - loss: 0.4524 - accuracy: 0.8625\n",
            "Epoch 20/100\n",
            "210/210 [==============================] - 1s 4ms/step - loss: 0.4421 - accuracy: 0.8659\n",
            "Epoch 21/100\n",
            "210/210 [==============================] - 1s 4ms/step - loss: 0.4304 - accuracy: 0.8699\n",
            "Epoch 22/100\n",
            "210/210 [==============================] - 1s 5ms/step - loss: 0.4203 - accuracy: 0.8721\n",
            "Epoch 23/100\n",
            "210/210 [==============================] - 1s 4ms/step - loss: 0.4152 - accuracy: 0.8722\n",
            "Epoch 24/100\n",
            "210/210 [==============================] - 1s 4ms/step - loss: 0.4064 - accuracy: 0.8746\n",
            "Epoch 25/100\n",
            "210/210 [==============================] - 1s 4ms/step - loss: 0.3984 - accuracy: 0.8773\n",
            "Epoch 26/100\n",
            "210/210 [==============================] - 1s 4ms/step - loss: 0.3911 - accuracy: 0.8793\n",
            "Epoch 27/100\n",
            "210/210 [==============================] - 1s 4ms/step - loss: 0.3801 - accuracy: 0.8836\n",
            "Epoch 28/100\n",
            "210/210 [==============================] - 1s 4ms/step - loss: 0.3781 - accuracy: 0.8833\n",
            "Epoch 29/100\n",
            "210/210 [==============================] - 1s 4ms/step - loss: 0.3655 - accuracy: 0.8876\n",
            "Epoch 30/100\n",
            "210/210 [==============================] - 1s 4ms/step - loss: 0.3627 - accuracy: 0.8880\n",
            "Epoch 31/100\n",
            "210/210 [==============================] - 1s 4ms/step - loss: 0.3565 - accuracy: 0.8930\n",
            "Epoch 32/100\n",
            "210/210 [==============================] - 1s 4ms/step - loss: 0.3519 - accuracy: 0.8911\n",
            "Epoch 33/100\n",
            "210/210 [==============================] - 1s 4ms/step - loss: 0.3451 - accuracy: 0.8941\n",
            "Epoch 34/100\n",
            "210/210 [==============================] - 1s 4ms/step - loss: 0.3403 - accuracy: 0.8957\n",
            "Epoch 35/100\n",
            "210/210 [==============================] - 1s 4ms/step - loss: 0.3357 - accuracy: 0.8966\n",
            "Epoch 36/100\n",
            "210/210 [==============================] - 1s 4ms/step - loss: 0.3321 - accuracy: 0.8981\n",
            "Epoch 37/100\n",
            "210/210 [==============================] - 1s 4ms/step - loss: 0.3237 - accuracy: 0.9015\n",
            "Epoch 38/100\n",
            "210/210 [==============================] - 1s 4ms/step - loss: 0.3258 - accuracy: 0.8996\n",
            "Epoch 39/100\n",
            "210/210 [==============================] - 1s 4ms/step - loss: 0.3173 - accuracy: 0.9035\n",
            "Epoch 40/100\n",
            "210/210 [==============================] - 1s 4ms/step - loss: 0.3137 - accuracy: 0.9035\n",
            "Epoch 41/100\n",
            "210/210 [==============================] - 1s 5ms/step - loss: 0.3140 - accuracy: 0.9047\n",
            "Epoch 42/100\n",
            "210/210 [==============================] - 1s 4ms/step - loss: 0.3069 - accuracy: 0.9060\n",
            "Epoch 43/100\n",
            "210/210 [==============================] - 1s 4ms/step - loss: 0.3022 - accuracy: 0.9075\n",
            "Epoch 44/100\n",
            "210/210 [==============================] - 1s 4ms/step - loss: 0.2988 - accuracy: 0.9083\n",
            "Epoch 45/100\n",
            "210/210 [==============================] - 1s 4ms/step - loss: 0.2922 - accuracy: 0.9121\n",
            "Epoch 46/100\n",
            "210/210 [==============================] - 1s 4ms/step - loss: 0.2911 - accuracy: 0.9111\n",
            "Epoch 47/100\n",
            "210/210 [==============================] - 1s 4ms/step - loss: 0.2875 - accuracy: 0.9120\n",
            "Epoch 48/100\n",
            "210/210 [==============================] - 1s 4ms/step - loss: 0.2880 - accuracy: 0.9114\n",
            "Epoch 49/100\n",
            "210/210 [==============================] - 1s 4ms/step - loss: 0.2823 - accuracy: 0.9133\n",
            "Epoch 50/100\n",
            "210/210 [==============================] - 1s 4ms/step - loss: 0.2774 - accuracy: 0.9156\n",
            "Epoch 51/100\n",
            "210/210 [==============================] - 1s 4ms/step - loss: 0.2740 - accuracy: 0.9170\n",
            "Epoch 52/100\n",
            "210/210 [==============================] - 1s 4ms/step - loss: 0.2650 - accuracy: 0.9190\n",
            "Epoch 53/100\n",
            "210/210 [==============================] - 1s 4ms/step - loss: 0.2692 - accuracy: 0.9184\n",
            "Epoch 54/100\n",
            "210/210 [==============================] - 1s 4ms/step - loss: 0.2615 - accuracy: 0.9196\n",
            "Epoch 55/100\n",
            "210/210 [==============================] - 1s 4ms/step - loss: 0.2639 - accuracy: 0.9198\n",
            "Epoch 56/100\n",
            "210/210 [==============================] - 1s 4ms/step - loss: 0.2586 - accuracy: 0.9213\n",
            "Epoch 57/100\n",
            "210/210 [==============================] - 1s 4ms/step - loss: 0.2601 - accuracy: 0.9209\n",
            "Epoch 58/100\n",
            "210/210 [==============================] - 1s 4ms/step - loss: 0.2555 - accuracy: 0.9222\n",
            "Epoch 59/100\n",
            "210/210 [==============================] - 1s 4ms/step - loss: 0.2537 - accuracy: 0.9206\n",
            "Epoch 60/100\n",
            "210/210 [==============================] - 1s 4ms/step - loss: 0.2584 - accuracy: 0.9206\n",
            "Epoch 61/100\n",
            "210/210 [==============================] - 1s 4ms/step - loss: 0.2436 - accuracy: 0.9253\n",
            "Epoch 62/100\n",
            "210/210 [==============================] - 1s 4ms/step - loss: 0.2455 - accuracy: 0.9251\n",
            "Epoch 63/100\n",
            "210/210 [==============================] - 1s 4ms/step - loss: 0.2422 - accuracy: 0.9264\n",
            "Epoch 64/100\n",
            "210/210 [==============================] - 1s 5ms/step - loss: 0.2411 - accuracy: 0.9265\n",
            "Epoch 65/100\n",
            "210/210 [==============================] - 1s 4ms/step - loss: 0.2368 - accuracy: 0.9267\n",
            "Epoch 66/100\n",
            "210/210 [==============================] - 1s 4ms/step - loss: 0.2321 - accuracy: 0.9292\n",
            "Epoch 67/100\n",
            "210/210 [==============================] - 1s 4ms/step - loss: 0.2341 - accuracy: 0.9275\n",
            "Epoch 68/100\n",
            "210/210 [==============================] - 1s 4ms/step - loss: 0.2308 - accuracy: 0.9287\n",
            "Epoch 69/100\n",
            "210/210 [==============================] - 1s 4ms/step - loss: 0.2260 - accuracy: 0.9307\n",
            "Epoch 70/100\n",
            "210/210 [==============================] - 1s 4ms/step - loss: 0.2323 - accuracy: 0.9290\n",
            "Epoch 71/100\n",
            "210/210 [==============================] - 1s 4ms/step - loss: 0.2242 - accuracy: 0.9308\n",
            "Epoch 72/100\n",
            "210/210 [==============================] - 1s 4ms/step - loss: 0.2224 - accuracy: 0.9326\n",
            "Epoch 73/100\n",
            "210/210 [==============================] - 1s 4ms/step - loss: 0.2238 - accuracy: 0.9312\n",
            "Epoch 74/100\n",
            "210/210 [==============================] - 1s 4ms/step - loss: 0.2263 - accuracy: 0.9307\n",
            "Epoch 75/100\n",
            "210/210 [==============================] - 1s 4ms/step - loss: 0.2099 - accuracy: 0.9358\n",
            "Epoch 76/100\n",
            "210/210 [==============================] - 1s 4ms/step - loss: 0.2126 - accuracy: 0.9353\n",
            "Epoch 77/100\n",
            "210/210 [==============================] - 1s 4ms/step - loss: 0.2156 - accuracy: 0.9329\n",
            "Epoch 78/100\n",
            "210/210 [==============================] - 1s 4ms/step - loss: 0.2092 - accuracy: 0.9361\n",
            "Epoch 79/100\n",
            "210/210 [==============================] - 1s 4ms/step - loss: 0.2076 - accuracy: 0.9359\n",
            "Epoch 80/100\n",
            "210/210 [==============================] - 1s 4ms/step - loss: 0.2090 - accuracy: 0.9354\n",
            "Epoch 81/100\n",
            "210/210 [==============================] - 1s 4ms/step - loss: 0.2025 - accuracy: 0.9380\n",
            "Epoch 82/100\n",
            "210/210 [==============================] - 1s 4ms/step - loss: 0.2043 - accuracy: 0.9374\n",
            "Epoch 83/100\n",
            "210/210 [==============================] - 1s 4ms/step - loss: 0.1996 - accuracy: 0.9391\n",
            "Epoch 84/100\n",
            "210/210 [==============================] - 1s 4ms/step - loss: 0.1971 - accuracy: 0.9386\n",
            "Epoch 85/100\n",
            "210/210 [==============================] - 1s 4ms/step - loss: 0.2007 - accuracy: 0.9385\n",
            "Epoch 86/100\n",
            "210/210 [==============================] - 1s 4ms/step - loss: 0.2017 - accuracy: 0.9384\n",
            "Epoch 87/100\n",
            "210/210 [==============================] - 1s 4ms/step - loss: 0.1959 - accuracy: 0.9404\n",
            "Epoch 88/100\n",
            "210/210 [==============================] - 1s 4ms/step - loss: 0.1981 - accuracy: 0.9387\n",
            "Epoch 89/100\n",
            "210/210 [==============================] - 1s 4ms/step - loss: 0.1917 - accuracy: 0.9411\n",
            "Epoch 90/100\n",
            "210/210 [==============================] - 1s 5ms/step - loss: 0.1892 - accuracy: 0.9417\n",
            "Epoch 91/100\n",
            "210/210 [==============================] - 1s 4ms/step - loss: 0.1850 - accuracy: 0.9431\n",
            "Epoch 92/100\n",
            "210/210 [==============================] - 1s 4ms/step - loss: 0.1881 - accuracy: 0.9430\n",
            "Epoch 93/100\n",
            "210/210 [==============================] - 1s 4ms/step - loss: 0.1871 - accuracy: 0.9429\n",
            "Epoch 94/100\n",
            "210/210 [==============================] - 1s 5ms/step - loss: 0.1823 - accuracy: 0.9454\n",
            "Epoch 95/100\n",
            "210/210 [==============================] - 1s 4ms/step - loss: 0.1839 - accuracy: 0.9425\n",
            "Epoch 96/100\n",
            "210/210 [==============================] - 1s 4ms/step - loss: 0.1769 - accuracy: 0.9470\n",
            "Epoch 97/100\n",
            "210/210 [==============================] - 1s 4ms/step - loss: 0.1743 - accuracy: 0.9469\n",
            "Epoch 98/100\n",
            "210/210 [==============================] - 1s 4ms/step - loss: 0.1769 - accuracy: 0.9463\n",
            "Epoch 99/100\n",
            "210/210 [==============================] - 1s 4ms/step - loss: 0.1726 - accuracy: 0.9473\n",
            "Epoch 100/100\n",
            "210/210 [==============================] - 1s 4ms/step - loss: 0.1787 - accuracy: 0.9451\n",
            "1875/1875 [==============================] - 5s 3ms/step - loss: 0.2819 - accuracy: 0.9284\n",
            "Try 3/100: Best_Training_acc: [0.28189074993133545, 0.9284499883651733], lr: 0.0001881508510636344, Lambda: 1.8326999810821896e-05\n",
            "\n",
            "Epoch 1/100\n",
            "210/210 [==============================] - 1s 4ms/step - loss: 1.4105 - accuracy: 0.5523\n",
            "Epoch 2/100\n",
            "210/210 [==============================] - 1s 4ms/step - loss: 0.9033 - accuracy: 0.7212\n",
            "Epoch 3/100\n",
            "210/210 [==============================] - 1s 4ms/step - loss: 0.7599 - accuracy: 0.7657\n",
            "Epoch 4/100\n",
            "210/210 [==============================] - 1s 4ms/step - loss: 0.6785 - accuracy: 0.7917\n",
            "Epoch 5/100\n",
            "210/210 [==============================] - 1s 4ms/step - loss: 0.6216 - accuracy: 0.8100\n",
            "Epoch 6/100\n",
            "210/210 [==============================] - 1s 4ms/step - loss: 0.5806 - accuracy: 0.8213\n",
            "Epoch 7/100\n",
            "210/210 [==============================] - 1s 4ms/step - loss: 0.5415 - accuracy: 0.8327\n",
            "Epoch 8/100\n",
            "210/210 [==============================] - 1s 4ms/step - loss: 0.5243 - accuracy: 0.8382\n",
            "Epoch 9/100\n",
            "210/210 [==============================] - 1s 4ms/step - loss: 0.4891 - accuracy: 0.8493\n",
            "Epoch 10/100\n",
            "210/210 [==============================] - 1s 4ms/step - loss: 0.4772 - accuracy: 0.8528\n",
            "Epoch 11/100\n",
            "210/210 [==============================] - 1s 5ms/step - loss: 0.4565 - accuracy: 0.8590\n",
            "Epoch 12/100\n",
            "210/210 [==============================] - 1s 4ms/step - loss: 0.4359 - accuracy: 0.8641\n",
            "Epoch 13/100\n",
            "210/210 [==============================] - 1s 4ms/step - loss: 0.4209 - accuracy: 0.8698\n",
            "Epoch 14/100\n",
            "210/210 [==============================] - 1s 4ms/step - loss: 0.4067 - accuracy: 0.8731\n",
            "Epoch 15/100\n",
            "210/210 [==============================] - 1s 4ms/step - loss: 0.4000 - accuracy: 0.8742\n",
            "Epoch 16/100\n",
            "210/210 [==============================] - 1s 4ms/step - loss: 0.3798 - accuracy: 0.8825\n",
            "Epoch 17/100\n",
            "210/210 [==============================] - 1s 4ms/step - loss: 0.3823 - accuracy: 0.8790\n",
            "Epoch 18/100\n",
            "210/210 [==============================] - 1s 4ms/step - loss: 0.3585 - accuracy: 0.8865\n",
            "Epoch 19/100\n",
            "210/210 [==============================] - 1s 4ms/step - loss: 0.3464 - accuracy: 0.8912\n",
            "Epoch 20/100\n",
            "210/210 [==============================] - 1s 4ms/step - loss: 0.3531 - accuracy: 0.8892\n",
            "Epoch 21/100\n",
            "210/210 [==============================] - 1s 4ms/step - loss: 0.3318 - accuracy: 0.8960\n",
            "Epoch 22/100\n",
            "210/210 [==============================] - 1s 4ms/step - loss: 0.3239 - accuracy: 0.8970\n",
            "Epoch 23/100\n",
            "210/210 [==============================] - 1s 4ms/step - loss: 0.3163 - accuracy: 0.9003\n",
            "Epoch 24/100\n",
            "210/210 [==============================] - 1s 4ms/step - loss: 0.3037 - accuracy: 0.9037\n",
            "Epoch 25/100\n",
            "210/210 [==============================] - 1s 4ms/step - loss: 0.3049 - accuracy: 0.9039\n",
            "Epoch 26/100\n",
            "210/210 [==============================] - 1s 4ms/step - loss: 0.2975 - accuracy: 0.9056\n",
            "Epoch 27/100\n",
            "210/210 [==============================] - 1s 4ms/step - loss: 0.2841 - accuracy: 0.9099\n",
            "Epoch 28/100\n",
            "210/210 [==============================] - 1s 4ms/step - loss: 0.2902 - accuracy: 0.9078\n",
            "Epoch 29/100\n",
            "210/210 [==============================] - 1s 4ms/step - loss: 0.2723 - accuracy: 0.9140\n",
            "Epoch 30/100\n",
            "210/210 [==============================] - 1s 4ms/step - loss: 0.2698 - accuracy: 0.9141\n",
            "Epoch 31/100\n",
            "210/210 [==============================] - 1s 4ms/step - loss: 0.2638 - accuracy: 0.9163\n",
            "Epoch 32/100\n",
            "210/210 [==============================] - 1s 4ms/step - loss: 0.2613 - accuracy: 0.9155\n",
            "Epoch 33/100\n",
            "210/210 [==============================] - 1s 4ms/step - loss: 0.2586 - accuracy: 0.9167\n",
            "Epoch 34/100\n",
            "210/210 [==============================] - 1s 4ms/step - loss: 0.2461 - accuracy: 0.9217\n",
            "Epoch 35/100\n",
            "210/210 [==============================] - 1s 4ms/step - loss: 0.2494 - accuracy: 0.9204\n",
            "Epoch 36/100\n",
            "210/210 [==============================] - 1s 4ms/step - loss: 0.2436 - accuracy: 0.9216\n",
            "Epoch 37/100\n",
            "210/210 [==============================] - 1s 4ms/step - loss: 0.2317 - accuracy: 0.9249\n",
            "Epoch 38/100\n",
            "210/210 [==============================] - 1s 4ms/step - loss: 0.2304 - accuracy: 0.9263\n",
            "Epoch 39/100\n",
            "210/210 [==============================] - 1s 4ms/step - loss: 0.2251 - accuracy: 0.9267\n",
            "Epoch 40/100\n",
            "210/210 [==============================] - 1s 4ms/step - loss: 0.2281 - accuracy: 0.9252\n",
            "Epoch 41/100\n",
            "210/210 [==============================] - 1s 4ms/step - loss: 0.2187 - accuracy: 0.9295\n",
            "Epoch 42/100\n",
            "210/210 [==============================] - 1s 4ms/step - loss: 0.2144 - accuracy: 0.9298\n",
            "Epoch 43/100\n",
            "210/210 [==============================] - 1s 4ms/step - loss: 0.2142 - accuracy: 0.9309\n",
            "Epoch 44/100\n",
            "210/210 [==============================] - 1s 4ms/step - loss: 0.2073 - accuracy: 0.9332\n",
            "Epoch 45/100\n",
            "210/210 [==============================] - 1s 4ms/step - loss: 0.2062 - accuracy: 0.9332\n",
            "Epoch 46/100\n",
            "210/210 [==============================] - 1s 4ms/step - loss: 0.1972 - accuracy: 0.9347\n",
            "Epoch 47/100\n",
            "210/210 [==============================] - 1s 4ms/step - loss: 0.1916 - accuracy: 0.9376\n",
            "Epoch 48/100\n",
            "210/210 [==============================] - 1s 4ms/step - loss: 0.2043 - accuracy: 0.9328\n",
            "Epoch 49/100\n",
            "210/210 [==============================] - 1s 4ms/step - loss: 0.1992 - accuracy: 0.9346\n",
            "Epoch 50/100\n",
            "210/210 [==============================] - 1s 4ms/step - loss: 0.1883 - accuracy: 0.9377\n",
            "Epoch 51/100\n",
            "210/210 [==============================] - 1s 5ms/step - loss: 0.1786 - accuracy: 0.9423\n",
            "Epoch 52/100\n",
            "210/210 [==============================] - 1s 4ms/step - loss: 0.1927 - accuracy: 0.9372\n",
            "Epoch 53/100\n",
            "210/210 [==============================] - 1s 4ms/step - loss: 0.1845 - accuracy: 0.9399\n",
            "Epoch 54/100\n",
            "210/210 [==============================] - 1s 4ms/step - loss: 0.1790 - accuracy: 0.9406\n",
            "Epoch 55/100\n",
            "210/210 [==============================] - 1s 4ms/step - loss: 0.1789 - accuracy: 0.9406\n",
            "Epoch 56/100\n",
            "210/210 [==============================] - 1s 4ms/step - loss: 0.1761 - accuracy: 0.9409\n",
            "Epoch 57/100\n",
            "210/210 [==============================] - 1s 4ms/step - loss: 0.1628 - accuracy: 0.9451\n",
            "Epoch 58/100\n",
            "210/210 [==============================] - 1s 4ms/step - loss: 0.1762 - accuracy: 0.9411\n",
            "Epoch 59/100\n",
            "210/210 [==============================] - 1s 5ms/step - loss: 0.1664 - accuracy: 0.9454\n",
            "Epoch 60/100\n",
            "210/210 [==============================] - 1s 4ms/step - loss: 0.1623 - accuracy: 0.9468\n",
            "Epoch 61/100\n",
            "210/210 [==============================] - 1s 4ms/step - loss: 0.1621 - accuracy: 0.9461\n",
            "Epoch 62/100\n",
            "210/210 [==============================] - 1s 5ms/step - loss: 0.1590 - accuracy: 0.9477\n",
            "Epoch 63/100\n",
            "210/210 [==============================] - 1s 5ms/step - loss: 0.1568 - accuracy: 0.9481\n",
            "Epoch 64/100\n",
            "210/210 [==============================] - 1s 5ms/step - loss: 0.1590 - accuracy: 0.9481\n",
            "Epoch 65/100\n",
            "210/210 [==============================] - 1s 5ms/step - loss: 0.1554 - accuracy: 0.9494\n",
            "Epoch 66/100\n",
            "210/210 [==============================] - 1s 5ms/step - loss: 0.1622 - accuracy: 0.9455\n",
            "Epoch 67/100\n",
            "210/210 [==============================] - 1s 4ms/step - loss: 0.1540 - accuracy: 0.9481\n",
            "Epoch 68/100\n",
            "210/210 [==============================] - 1s 4ms/step - loss: 0.1550 - accuracy: 0.9475\n",
            "Epoch 69/100\n",
            "210/210 [==============================] - 1s 4ms/step - loss: 0.1589 - accuracy: 0.9464\n",
            "Epoch 70/100\n",
            "210/210 [==============================] - 1s 4ms/step - loss: 0.1395 - accuracy: 0.9527\n",
            "Epoch 71/100\n",
            "210/210 [==============================] - 1s 4ms/step - loss: 0.1479 - accuracy: 0.9506\n",
            "Epoch 72/100\n",
            "210/210 [==============================] - 1s 4ms/step - loss: 0.1400 - accuracy: 0.9536\n",
            "Epoch 73/100\n",
            "210/210 [==============================] - 1s 4ms/step - loss: 0.1437 - accuracy: 0.9517\n",
            "Epoch 74/100\n",
            "210/210 [==============================] - 1s 5ms/step - loss: 0.1369 - accuracy: 0.9541\n",
            "Epoch 75/100\n",
            "210/210 [==============================] - 1s 4ms/step - loss: 0.1379 - accuracy: 0.9540\n",
            "Epoch 76/100\n",
            "210/210 [==============================] - 1s 4ms/step - loss: 0.1378 - accuracy: 0.9527\n",
            "Epoch 77/100\n",
            "210/210 [==============================] - 1s 4ms/step - loss: 0.1341 - accuracy: 0.9552\n",
            "Epoch 78/100\n",
            "210/210 [==============================] - 1s 4ms/step - loss: 0.1401 - accuracy: 0.9528\n",
            "Epoch 79/100\n",
            "210/210 [==============================] - 1s 4ms/step - loss: 0.1356 - accuracy: 0.9541\n",
            "Epoch 80/100\n",
            "210/210 [==============================] - 1s 4ms/step - loss: 0.1280 - accuracy: 0.9574\n",
            "Epoch 81/100\n",
            "210/210 [==============================] - 1s 4ms/step - loss: 0.1256 - accuracy: 0.9571\n",
            "Epoch 82/100\n",
            "210/210 [==============================] - 1s 4ms/step - loss: 0.1224 - accuracy: 0.9592\n",
            "Epoch 83/100\n",
            "210/210 [==============================] - 1s 4ms/step - loss: 0.1306 - accuracy: 0.9556\n",
            "Epoch 84/100\n",
            "210/210 [==============================] - 1s 4ms/step - loss: 0.1278 - accuracy: 0.9566\n",
            "Epoch 85/100\n",
            "210/210 [==============================] - 1s 4ms/step - loss: 0.1218 - accuracy: 0.9578\n",
            "Epoch 86/100\n",
            "210/210 [==============================] - 1s 4ms/step - loss: 0.1156 - accuracy: 0.9615\n",
            "Epoch 87/100\n",
            "210/210 [==============================] - 1s 4ms/step - loss: 0.1280 - accuracy: 0.9575\n",
            "Epoch 88/100\n",
            "210/210 [==============================] - 1s 4ms/step - loss: 0.1242 - accuracy: 0.9578\n",
            "Epoch 89/100\n",
            "210/210 [==============================] - 1s 4ms/step - loss: 0.1200 - accuracy: 0.9596\n",
            "Epoch 90/100\n",
            "210/210 [==============================] - 1s 4ms/step - loss: 0.1180 - accuracy: 0.9599\n",
            "Epoch 91/100\n",
            "210/210 [==============================] - 1s 4ms/step - loss: 0.1233 - accuracy: 0.9581\n",
            "Epoch 92/100\n",
            "210/210 [==============================] - 1s 4ms/step - loss: 0.1155 - accuracy: 0.9600\n",
            "Epoch 93/100\n",
            "210/210 [==============================] - 1s 4ms/step - loss: 0.1079 - accuracy: 0.9640\n",
            "Epoch 94/100\n",
            "210/210 [==============================] - 1s 4ms/step - loss: 0.1061 - accuracy: 0.9648\n",
            "Epoch 95/100\n",
            "210/210 [==============================] - 1s 4ms/step - loss: 0.1185 - accuracy: 0.9595\n",
            "Epoch 96/100\n",
            "210/210 [==============================] - 1s 4ms/step - loss: 0.1131 - accuracy: 0.9615\n",
            "Epoch 97/100\n",
            "210/210 [==============================] - 1s 4ms/step - loss: 0.1145 - accuracy: 0.9619\n",
            "Epoch 98/100\n",
            "210/210 [==============================] - 1s 4ms/step - loss: 0.1135 - accuracy: 0.9618\n",
            "Epoch 99/100\n",
            "210/210 [==============================] - 1s 4ms/step - loss: 0.1001 - accuracy: 0.9674\n",
            "Epoch 100/100\n",
            "210/210 [==============================] - 1s 4ms/step - loss: 0.1032 - accuracy: 0.9650\n",
            "1875/1875 [==============================] - 5s 3ms/step - loss: 0.3399 - accuracy: 0.9304\n",
            "Try 4/100: Best_Training_acc: [0.3398961126804352, 0.930400013923645], lr: 0.0013629078871557837, Lambda: 7.254795763233311e-06\n",
            "\n"
          ],
          "name": "stdout"
        }
      ]
    },
    {
      "cell_type": "markdown",
      "metadata": {
        "id": "nZn2KE6xH_lk",
        "colab_type": "text"
      },
      "source": [
        "As from above, Case 4 yields best accuracy when Learning rate = 0.0036 and Lamda = 1.29e-6"
      ]
    },
    {
      "cell_type": "code",
      "metadata": {
        "id": "wsOT281UINLu",
        "colab_type": "code",
        "colab": {
          "base_uri": "https://localhost:8080/",
          "height": 1000
        },
        "outputId": "f77ea5c2-7818-495f-c802-c4a31763e5ed"
      },
      "source": [
        "import math\n",
        "for k in range(1,5):\n",
        "    ir=100\n",
        "    lr = math.pow(10, np.random.uniform(-4.0, -2.0))\n",
        "    Lambda = math.pow(10, np.random.uniform(-4,-2))\n",
        "    best_acc = train_and_test_loop(100, lr, Lambda, False)\n",
        "    print(\"Try {0}/{1}: Best_val_acc: {2}, lr: {3}, Lambda: {4}\\n\".format(k, ir, best_acc, lr, Lambda))"
      ],
      "execution_count": 40,
      "outputs": [
        {
          "output_type": "stream",
          "text": [
            "Epoch 1/100\n",
            "210/210 [==============================] - 1s 4ms/step - loss: 2.1187 - accuracy: 0.2669\n",
            "Epoch 2/100\n",
            "210/210 [==============================] - 1s 4ms/step - loss: 1.5392 - accuracy: 0.5411\n",
            "Epoch 3/100\n",
            "210/210 [==============================] - 1s 4ms/step - loss: 1.2619 - accuracy: 0.6424\n",
            "Epoch 4/100\n",
            "210/210 [==============================] - 1s 4ms/step - loss: 1.1037 - accuracy: 0.6905\n",
            "Epoch 5/100\n",
            "210/210 [==============================] - 1s 4ms/step - loss: 1.0011 - accuracy: 0.7160\n",
            "Epoch 6/100\n",
            "210/210 [==============================] - 1s 4ms/step - loss: 0.9263 - accuracy: 0.7349\n",
            "Epoch 7/100\n",
            "210/210 [==============================] - 1s 4ms/step - loss: 0.8630 - accuracy: 0.7520\n",
            "Epoch 8/100\n",
            "210/210 [==============================] - 1s 5ms/step - loss: 0.8145 - accuracy: 0.7648\n",
            "Epoch 9/100\n",
            "210/210 [==============================] - 1s 4ms/step - loss: 0.7729 - accuracy: 0.7754\n",
            "Epoch 10/100\n",
            "210/210 [==============================] - 1s 4ms/step - loss: 0.7341 - accuracy: 0.7859\n",
            "Epoch 11/100\n",
            "210/210 [==============================] - 1s 4ms/step - loss: 0.7011 - accuracy: 0.7951\n",
            "Epoch 12/100\n",
            "210/210 [==============================] - 1s 4ms/step - loss: 0.6764 - accuracy: 0.8014\n",
            "Epoch 13/100\n",
            "210/210 [==============================] - 1s 4ms/step - loss: 0.6494 - accuracy: 0.8086\n",
            "Epoch 14/100\n",
            "210/210 [==============================] - 1s 4ms/step - loss: 0.6243 - accuracy: 0.8153\n",
            "Epoch 15/100\n",
            "210/210 [==============================] - 1s 4ms/step - loss: 0.6050 - accuracy: 0.8212\n",
            "Epoch 16/100\n",
            "210/210 [==============================] - 1s 4ms/step - loss: 0.5867 - accuracy: 0.8247\n",
            "Epoch 17/100\n",
            "210/210 [==============================] - 1s 4ms/step - loss: 0.5681 - accuracy: 0.8316\n",
            "Epoch 18/100\n",
            "210/210 [==============================] - 1s 4ms/step - loss: 0.5544 - accuracy: 0.8348\n",
            "Epoch 19/100\n",
            "210/210 [==============================] - 1s 4ms/step - loss: 0.5409 - accuracy: 0.8385\n",
            "Epoch 20/100\n",
            "210/210 [==============================] - 1s 4ms/step - loss: 0.5238 - accuracy: 0.8436\n",
            "Epoch 21/100\n",
            "210/210 [==============================] - 1s 4ms/step - loss: 0.5154 - accuracy: 0.8448\n",
            "Epoch 22/100\n",
            "210/210 [==============================] - 1s 5ms/step - loss: 0.5026 - accuracy: 0.8506\n",
            "Epoch 23/100\n",
            "210/210 [==============================] - 1s 5ms/step - loss: 0.4914 - accuracy: 0.8523\n",
            "Epoch 24/100\n",
            "210/210 [==============================] - 1s 5ms/step - loss: 0.4787 - accuracy: 0.8565\n",
            "Epoch 25/100\n",
            "210/210 [==============================] - 1s 4ms/step - loss: 0.4734 - accuracy: 0.8556\n",
            "Epoch 26/100\n",
            "210/210 [==============================] - 1s 4ms/step - loss: 0.4630 - accuracy: 0.8597\n",
            "Epoch 27/100\n",
            "210/210 [==============================] - 1s 4ms/step - loss: 0.4538 - accuracy: 0.8626\n",
            "Epoch 28/100\n",
            "210/210 [==============================] - 1s 4ms/step - loss: 0.4476 - accuracy: 0.8650\n",
            "Epoch 29/100\n",
            "210/210 [==============================] - 1s 4ms/step - loss: 0.4387 - accuracy: 0.8668\n",
            "Epoch 30/100\n",
            "210/210 [==============================] - 1s 4ms/step - loss: 0.4352 - accuracy: 0.8680\n",
            "Epoch 31/100\n",
            "210/210 [==============================] - 1s 4ms/step - loss: 0.4265 - accuracy: 0.8712\n",
            "Epoch 32/100\n",
            "210/210 [==============================] - 1s 4ms/step - loss: 0.4215 - accuracy: 0.8730\n",
            "Epoch 33/100\n",
            "210/210 [==============================] - 1s 4ms/step - loss: 0.4151 - accuracy: 0.8743\n",
            "Epoch 34/100\n",
            "210/210 [==============================] - 1s 4ms/step - loss: 0.4059 - accuracy: 0.8770\n",
            "Epoch 35/100\n",
            "210/210 [==============================] - 1s 4ms/step - loss: 0.4029 - accuracy: 0.8770\n",
            "Epoch 36/100\n",
            "210/210 [==============================] - 1s 4ms/step - loss: 0.3931 - accuracy: 0.8809\n",
            "Epoch 37/100\n",
            "210/210 [==============================] - 1s 5ms/step - loss: 0.3876 - accuracy: 0.8817\n",
            "Epoch 38/100\n",
            "210/210 [==============================] - 1s 4ms/step - loss: 0.3843 - accuracy: 0.8823\n",
            "Epoch 39/100\n",
            "210/210 [==============================] - 1s 4ms/step - loss: 0.3799 - accuracy: 0.8834\n",
            "Epoch 40/100\n",
            "210/210 [==============================] - 1s 4ms/step - loss: 0.3735 - accuracy: 0.8860\n",
            "Epoch 41/100\n",
            "210/210 [==============================] - 1s 4ms/step - loss: 0.3672 - accuracy: 0.8882\n",
            "Epoch 42/100\n",
            "210/210 [==============================] - 1s 4ms/step - loss: 0.3626 - accuracy: 0.8890\n",
            "Epoch 43/100\n",
            "210/210 [==============================] - 1s 4ms/step - loss: 0.3622 - accuracy: 0.8902\n",
            "Epoch 44/100\n",
            "210/210 [==============================] - 1s 5ms/step - loss: 0.3580 - accuracy: 0.8899\n",
            "Epoch 45/100\n",
            "210/210 [==============================] - 1s 5ms/step - loss: 0.3552 - accuracy: 0.8920\n",
            "Epoch 46/100\n",
            "210/210 [==============================] - 1s 5ms/step - loss: 0.3419 - accuracy: 0.8965\n",
            "Epoch 47/100\n",
            "210/210 [==============================] - 1s 5ms/step - loss: 0.3457 - accuracy: 0.8938\n",
            "Epoch 48/100\n",
            "210/210 [==============================] - 1s 5ms/step - loss: 0.3377 - accuracy: 0.8978\n",
            "Epoch 49/100\n",
            "210/210 [==============================] - 1s 5ms/step - loss: 0.3408 - accuracy: 0.8945\n",
            "Epoch 50/100\n",
            "210/210 [==============================] - 1s 5ms/step - loss: 0.3293 - accuracy: 0.9004\n",
            "Epoch 51/100\n",
            "210/210 [==============================] - 1s 5ms/step - loss: 0.3304 - accuracy: 0.8992\n",
            "Epoch 52/100\n",
            "210/210 [==============================] - 1s 5ms/step - loss: 0.3255 - accuracy: 0.9002\n",
            "Epoch 53/100\n",
            "210/210 [==============================] - 1s 5ms/step - loss: 0.3217 - accuracy: 0.9020\n",
            "Epoch 54/100\n",
            "210/210 [==============================] - 1s 5ms/step - loss: 0.3208 - accuracy: 0.9025\n",
            "Epoch 55/100\n",
            "210/210 [==============================] - 1s 4ms/step - loss: 0.3154 - accuracy: 0.9039\n",
            "Epoch 56/100\n",
            "210/210 [==============================] - 1s 4ms/step - loss: 0.3116 - accuracy: 0.9050\n",
            "Epoch 57/100\n",
            "210/210 [==============================] - 1s 4ms/step - loss: 0.3084 - accuracy: 0.9069\n",
            "Epoch 58/100\n",
            "210/210 [==============================] - 1s 4ms/step - loss: 0.3049 - accuracy: 0.9073\n",
            "Epoch 59/100\n",
            "210/210 [==============================] - 1s 4ms/step - loss: 0.3029 - accuracy: 0.9065\n",
            "Epoch 60/100\n",
            "210/210 [==============================] - 1s 4ms/step - loss: 0.2966 - accuracy: 0.9081\n",
            "Epoch 61/100\n",
            "210/210 [==============================] - 1s 4ms/step - loss: 0.2959 - accuracy: 0.9108\n",
            "Epoch 62/100\n",
            "210/210 [==============================] - 1s 4ms/step - loss: 0.2938 - accuracy: 0.9102\n",
            "Epoch 63/100\n",
            "210/210 [==============================] - 1s 4ms/step - loss: 0.2913 - accuracy: 0.9118\n",
            "Epoch 64/100\n",
            "210/210 [==============================] - 1s 4ms/step - loss: 0.2890 - accuracy: 0.9121\n",
            "Epoch 65/100\n",
            "210/210 [==============================] - 1s 4ms/step - loss: 0.2898 - accuracy: 0.9122\n",
            "Epoch 66/100\n",
            "210/210 [==============================] - 1s 4ms/step - loss: 0.2794 - accuracy: 0.9151\n",
            "Epoch 67/100\n",
            "210/210 [==============================] - 1s 4ms/step - loss: 0.2788 - accuracy: 0.9155\n",
            "Epoch 68/100\n",
            "210/210 [==============================] - 1s 4ms/step - loss: 0.2787 - accuracy: 0.9146\n",
            "Epoch 69/100\n",
            "210/210 [==============================] - 1s 4ms/step - loss: 0.2762 - accuracy: 0.9155\n",
            "Epoch 70/100\n",
            "210/210 [==============================] - 1s 4ms/step - loss: 0.2747 - accuracy: 0.9160\n",
            "Epoch 71/100\n",
            "210/210 [==============================] - 1s 4ms/step - loss: 0.2682 - accuracy: 0.9174\n",
            "Epoch 72/100\n",
            "210/210 [==============================] - 1s 4ms/step - loss: 0.2622 - accuracy: 0.9199\n",
            "Epoch 73/100\n",
            "210/210 [==============================] - 1s 4ms/step - loss: 0.2682 - accuracy: 0.9182\n",
            "Epoch 74/100\n",
            "210/210 [==============================] - 1s 4ms/step - loss: 0.2613 - accuracy: 0.9203\n",
            "Epoch 75/100\n",
            "210/210 [==============================] - 1s 4ms/step - loss: 0.2629 - accuracy: 0.9205\n",
            "Epoch 76/100\n",
            "210/210 [==============================] - 1s 4ms/step - loss: 0.2613 - accuracy: 0.9211\n",
            "Epoch 77/100\n",
            "210/210 [==============================] - 1s 4ms/step - loss: 0.2530 - accuracy: 0.9243\n",
            "Epoch 78/100\n",
            "210/210 [==============================] - 1s 4ms/step - loss: 0.2533 - accuracy: 0.9228\n",
            "Epoch 79/100\n",
            "210/210 [==============================] - 1s 4ms/step - loss: 0.2560 - accuracy: 0.9218\n",
            "Epoch 80/100\n",
            "210/210 [==============================] - 1s 4ms/step - loss: 0.2548 - accuracy: 0.9210\n",
            "Epoch 81/100\n",
            "210/210 [==============================] - 1s 4ms/step - loss: 0.2496 - accuracy: 0.9250\n",
            "Epoch 82/100\n",
            "210/210 [==============================] - 1s 4ms/step - loss: 0.2435 - accuracy: 0.9265\n",
            "Epoch 83/100\n",
            "210/210 [==============================] - 1s 4ms/step - loss: 0.2458 - accuracy: 0.9250\n",
            "Epoch 84/100\n",
            "210/210 [==============================] - 1s 4ms/step - loss: 0.2415 - accuracy: 0.9258\n",
            "Epoch 85/100\n",
            "210/210 [==============================] - 1s 4ms/step - loss: 0.2353 - accuracy: 0.9283\n",
            "Epoch 86/100\n",
            "210/210 [==============================] - 1s 4ms/step - loss: 0.2419 - accuracy: 0.9258\n",
            "Epoch 87/100\n",
            "210/210 [==============================] - 1s 4ms/step - loss: 0.2368 - accuracy: 0.9278\n",
            "Epoch 88/100\n",
            "210/210 [==============================] - 1s 4ms/step - loss: 0.2393 - accuracy: 0.9269\n",
            "Epoch 89/100\n",
            "210/210 [==============================] - 1s 4ms/step - loss: 0.2351 - accuracy: 0.9291\n",
            "Epoch 90/100\n",
            "210/210 [==============================] - 1s 4ms/step - loss: 0.2331 - accuracy: 0.9289\n",
            "Epoch 91/100\n",
            "210/210 [==============================] - 1s 4ms/step - loss: 0.2297 - accuracy: 0.9307\n",
            "Epoch 92/100\n",
            "210/210 [==============================] - 1s 4ms/step - loss: 0.2272 - accuracy: 0.9308\n",
            "Epoch 93/100\n",
            "210/210 [==============================] - 1s 4ms/step - loss: 0.2260 - accuracy: 0.9317\n",
            "Epoch 94/100\n",
            "210/210 [==============================] - 1s 4ms/step - loss: 0.2222 - accuracy: 0.9339\n",
            "Epoch 95/100\n",
            "210/210 [==============================] - 1s 4ms/step - loss: 0.2236 - accuracy: 0.9323\n",
            "Epoch 96/100\n",
            "210/210 [==============================] - 1s 4ms/step - loss: 0.2193 - accuracy: 0.9339\n",
            "Epoch 97/100\n",
            "210/210 [==============================] - 1s 5ms/step - loss: 0.2208 - accuracy: 0.9331\n",
            "Epoch 98/100\n",
            "210/210 [==============================] - 1s 4ms/step - loss: 0.2188 - accuracy: 0.9330\n",
            "Epoch 99/100\n",
            "210/210 [==============================] - 1s 4ms/step - loss: 0.2144 - accuracy: 0.9348\n",
            "Epoch 100/100\n",
            "210/210 [==============================] - 1s 5ms/step - loss: 0.2145 - accuracy: 0.9350\n",
            "1875/1875 [==============================] - 5s 2ms/step - loss: 0.2940 - accuracy: 0.9220\n",
            "Try 1/100: Best_val_acc: [0.2940332591533661, 0.9219833612442017], lr: 0.00011110443474374488, Lambda: 0.0005774905689327037\n",
            "\n",
            "Epoch 1/100\n",
            "210/210 [==============================] - 1s 4ms/step - loss: 1.3973 - accuracy: 0.5355\n",
            "Epoch 2/100\n",
            "210/210 [==============================] - 1s 4ms/step - loss: 0.8855 - accuracy: 0.7227\n",
            "Epoch 3/100\n",
            "210/210 [==============================] - 1s 4ms/step - loss: 0.7500 - accuracy: 0.7676\n",
            "Epoch 4/100\n",
            "210/210 [==============================] - 1s 4ms/step - loss: 0.6739 - accuracy: 0.7911\n",
            "Epoch 5/100\n",
            "210/210 [==============================] - 1s 5ms/step - loss: 0.6136 - accuracy: 0.8106\n",
            "Epoch 6/100\n",
            "210/210 [==============================] - 1s 4ms/step - loss: 0.5800 - accuracy: 0.8195\n",
            "Epoch 7/100\n",
            "210/210 [==============================] - 1s 4ms/step - loss: 0.5416 - accuracy: 0.8309\n",
            "Epoch 8/100\n",
            "210/210 [==============================] - 1s 4ms/step - loss: 0.5205 - accuracy: 0.8370\n",
            "Epoch 9/100\n",
            "210/210 [==============================] - 1s 4ms/step - loss: 0.4931 - accuracy: 0.8462\n",
            "Epoch 10/100\n",
            "210/210 [==============================] - 1s 4ms/step - loss: 0.4745 - accuracy: 0.8509\n",
            "Epoch 11/100\n",
            "210/210 [==============================] - 1s 4ms/step - loss: 0.4609 - accuracy: 0.8540\n",
            "Epoch 12/100\n",
            "210/210 [==============================] - 1s 4ms/step - loss: 0.4358 - accuracy: 0.8629\n",
            "Epoch 13/100\n",
            "210/210 [==============================] - 1s 4ms/step - loss: 0.4285 - accuracy: 0.8646\n",
            "Epoch 14/100\n",
            "210/210 [==============================] - 1s 4ms/step - loss: 0.4090 - accuracy: 0.8697\n",
            "Epoch 15/100\n",
            "210/210 [==============================] - 1s 4ms/step - loss: 0.3989 - accuracy: 0.8730\n",
            "Epoch 16/100\n",
            "210/210 [==============================] - 1s 4ms/step - loss: 0.3894 - accuracy: 0.8780\n",
            "Epoch 17/100\n",
            "210/210 [==============================] - 1s 4ms/step - loss: 0.3836 - accuracy: 0.8784\n",
            "Epoch 18/100\n",
            "210/210 [==============================] - 1s 4ms/step - loss: 0.3685 - accuracy: 0.8820\n",
            "Epoch 19/100\n",
            "210/210 [==============================] - 1s 4ms/step - loss: 0.3658 - accuracy: 0.8821\n",
            "Epoch 20/100\n",
            "210/210 [==============================] - 1s 4ms/step - loss: 0.3491 - accuracy: 0.8880\n",
            "Epoch 21/100\n",
            "210/210 [==============================] - 1s 4ms/step - loss: 0.3384 - accuracy: 0.8914\n",
            "Epoch 22/100\n",
            "210/210 [==============================] - 1s 4ms/step - loss: 0.3290 - accuracy: 0.8946\n",
            "Epoch 23/100\n",
            "210/210 [==============================] - 1s 5ms/step - loss: 0.3245 - accuracy: 0.8939\n",
            "Epoch 24/100\n",
            "210/210 [==============================] - 1s 4ms/step - loss: 0.3083 - accuracy: 0.8985\n",
            "Epoch 25/100\n",
            "210/210 [==============================] - 1s 4ms/step - loss: 0.3167 - accuracy: 0.8984\n",
            "Epoch 26/100\n",
            "210/210 [==============================] - 1s 4ms/step - loss: 0.2967 - accuracy: 0.9035\n",
            "Epoch 27/100\n",
            "210/210 [==============================] - 1s 4ms/step - loss: 0.2869 - accuracy: 0.9065\n",
            "Epoch 28/100\n",
            "210/210 [==============================] - 1s 4ms/step - loss: 0.2917 - accuracy: 0.9055\n",
            "Epoch 29/100\n",
            "210/210 [==============================] - 1s 4ms/step - loss: 0.2777 - accuracy: 0.9097\n",
            "Epoch 30/100\n",
            "210/210 [==============================] - 1s 4ms/step - loss: 0.2749 - accuracy: 0.9105\n",
            "Epoch 31/100\n",
            "210/210 [==============================] - 1s 4ms/step - loss: 0.2744 - accuracy: 0.9088\n",
            "Epoch 32/100\n",
            "210/210 [==============================] - 1s 4ms/step - loss: 0.2628 - accuracy: 0.9139\n",
            "Epoch 33/100\n",
            "210/210 [==============================] - 1s 4ms/step - loss: 0.2546 - accuracy: 0.9179\n",
            "Epoch 34/100\n",
            "210/210 [==============================] - 1s 4ms/step - loss: 0.2555 - accuracy: 0.9158\n",
            "Epoch 35/100\n",
            "210/210 [==============================] - 1s 4ms/step - loss: 0.2469 - accuracy: 0.9184\n",
            "Epoch 36/100\n",
            "210/210 [==============================] - 1s 4ms/step - loss: 0.2488 - accuracy: 0.9173\n",
            "Epoch 37/100\n",
            "210/210 [==============================] - 1s 4ms/step - loss: 0.2378 - accuracy: 0.9214\n",
            "Epoch 38/100\n",
            "210/210 [==============================] - 1s 5ms/step - loss: 0.2357 - accuracy: 0.9210\n",
            "Epoch 39/100\n",
            "210/210 [==============================] - 1s 5ms/step - loss: 0.2262 - accuracy: 0.9259\n",
            "Epoch 40/100\n",
            "210/210 [==============================] - 1s 4ms/step - loss: 0.2211 - accuracy: 0.9263\n",
            "Epoch 41/100\n",
            "210/210 [==============================] - 1s 4ms/step - loss: 0.2323 - accuracy: 0.9232\n",
            "Epoch 42/100\n",
            "210/210 [==============================] - 1s 4ms/step - loss: 0.2157 - accuracy: 0.9281\n",
            "Epoch 43/100\n",
            "210/210 [==============================] - 1s 4ms/step - loss: 0.2220 - accuracy: 0.9251\n",
            "Epoch 44/100\n",
            "210/210 [==============================] - 1s 4ms/step - loss: 0.2124 - accuracy: 0.9293\n",
            "Epoch 45/100\n",
            "210/210 [==============================] - 1s 4ms/step - loss: 0.2138 - accuracy: 0.9280\n",
            "Epoch 46/100\n",
            "210/210 [==============================] - 1s 4ms/step - loss: 0.2089 - accuracy: 0.9302\n",
            "Epoch 47/100\n",
            "210/210 [==============================] - 1s 4ms/step - loss: 0.2057 - accuracy: 0.9305\n",
            "Epoch 48/100\n",
            "210/210 [==============================] - 1s 4ms/step - loss: 0.1997 - accuracy: 0.9335\n",
            "Epoch 49/100\n",
            "210/210 [==============================] - 1s 4ms/step - loss: 0.1960 - accuracy: 0.9344\n",
            "Epoch 50/100\n",
            "210/210 [==============================] - 1s 4ms/step - loss: 0.1929 - accuracy: 0.9354\n",
            "Epoch 51/100\n",
            "210/210 [==============================] - 1s 4ms/step - loss: 0.1916 - accuracy: 0.9350\n",
            "Epoch 52/100\n",
            "210/210 [==============================] - 1s 4ms/step - loss: 0.1839 - accuracy: 0.9378\n",
            "Epoch 53/100\n",
            "210/210 [==============================] - 1s 4ms/step - loss: 0.1865 - accuracy: 0.9375\n",
            "Epoch 54/100\n",
            "210/210 [==============================] - 1s 4ms/step - loss: 0.1799 - accuracy: 0.9392\n",
            "Epoch 55/100\n",
            "210/210 [==============================] - 1s 4ms/step - loss: 0.1788 - accuracy: 0.9389\n",
            "Epoch 56/100\n",
            "210/210 [==============================] - 1s 4ms/step - loss: 0.1819 - accuracy: 0.9383\n",
            "Epoch 57/100\n",
            "210/210 [==============================] - 1s 4ms/step - loss: 0.1785 - accuracy: 0.9389\n",
            "Epoch 58/100\n",
            "210/210 [==============================] - 1s 4ms/step - loss: 0.1770 - accuracy: 0.9388\n",
            "Epoch 59/100\n",
            "210/210 [==============================] - 1s 4ms/step - loss: 0.1720 - accuracy: 0.9424\n",
            "Epoch 60/100\n",
            "210/210 [==============================] - 1s 4ms/step - loss: 0.1713 - accuracy: 0.9426\n",
            "Epoch 61/100\n",
            "210/210 [==============================] - 1s 5ms/step - loss: 0.1639 - accuracy: 0.9439\n",
            "Epoch 62/100\n",
            "210/210 [==============================] - 1s 4ms/step - loss: 0.1607 - accuracy: 0.9448\n",
            "Epoch 63/100\n",
            "210/210 [==============================] - 1s 4ms/step - loss: 0.1567 - accuracy: 0.9470\n",
            "Epoch 64/100\n",
            "210/210 [==============================] - 1s 4ms/step - loss: 0.1609 - accuracy: 0.9454\n",
            "Epoch 65/100\n",
            "210/210 [==============================] - 1s 4ms/step - loss: 0.1642 - accuracy: 0.9450\n",
            "Epoch 66/100\n",
            "210/210 [==============================] - 1s 4ms/step - loss: 0.1575 - accuracy: 0.9466\n",
            "Epoch 67/100\n",
            "210/210 [==============================] - 1s 4ms/step - loss: 0.1618 - accuracy: 0.9456\n",
            "Epoch 68/100\n",
            "210/210 [==============================] - 1s 4ms/step - loss: 0.1451 - accuracy: 0.9510\n",
            "Epoch 69/100\n",
            "210/210 [==============================] - 1s 4ms/step - loss: 0.1469 - accuracy: 0.9500\n",
            "Epoch 70/100\n",
            "210/210 [==============================] - 1s 4ms/step - loss: 0.1488 - accuracy: 0.9487\n",
            "Epoch 71/100\n",
            "210/210 [==============================] - 1s 4ms/step - loss: 0.1538 - accuracy: 0.9466\n",
            "Epoch 72/100\n",
            "210/210 [==============================] - 1s 4ms/step - loss: 0.1467 - accuracy: 0.9497\n",
            "Epoch 73/100\n",
            "210/210 [==============================] - 1s 4ms/step - loss: 0.1520 - accuracy: 0.9473\n",
            "Epoch 74/100\n",
            "210/210 [==============================] - 1s 4ms/step - loss: 0.1471 - accuracy: 0.9507\n",
            "Epoch 75/100\n",
            "210/210 [==============================] - 1s 4ms/step - loss: 0.1430 - accuracy: 0.9504\n",
            "Epoch 76/100\n",
            "210/210 [==============================] - 1s 4ms/step - loss: 0.1347 - accuracy: 0.9539\n",
            "Epoch 77/100\n",
            "210/210 [==============================] - 1s 4ms/step - loss: 0.1490 - accuracy: 0.9494\n",
            "Epoch 78/100\n",
            "210/210 [==============================] - 1s 4ms/step - loss: 0.1353 - accuracy: 0.9540\n",
            "Epoch 79/100\n",
            "210/210 [==============================] - 1s 4ms/step - loss: 0.1211 - accuracy: 0.9602\n",
            "Epoch 80/100\n",
            "210/210 [==============================] - 1s 4ms/step - loss: 0.1315 - accuracy: 0.9550\n",
            "Epoch 81/100\n",
            "210/210 [==============================] - 1s 4ms/step - loss: 0.1358 - accuracy: 0.9537\n",
            "Epoch 82/100\n",
            "210/210 [==============================] - 1s 4ms/step - loss: 0.1404 - accuracy: 0.9508\n",
            "Epoch 83/100\n",
            "210/210 [==============================] - 1s 4ms/step - loss: 0.1348 - accuracy: 0.9540\n",
            "Epoch 84/100\n",
            "210/210 [==============================] - 1s 4ms/step - loss: 0.1298 - accuracy: 0.9551\n",
            "Epoch 85/100\n",
            "210/210 [==============================] - 1s 4ms/step - loss: 0.1309 - accuracy: 0.9548\n",
            "Epoch 86/100\n",
            "210/210 [==============================] - 1s 4ms/step - loss: 0.1306 - accuracy: 0.9557\n",
            "Epoch 87/100\n",
            "210/210 [==============================] - 1s 4ms/step - loss: 0.1358 - accuracy: 0.9536\n",
            "Epoch 88/100\n",
            "210/210 [==============================] - 1s 4ms/step - loss: 0.1237 - accuracy: 0.9565\n",
            "Epoch 89/100\n",
            "210/210 [==============================] - 1s 4ms/step - loss: 0.1277 - accuracy: 0.9570\n",
            "Epoch 90/100\n",
            "210/210 [==============================] - 1s 4ms/step - loss: 0.1255 - accuracy: 0.9570\n",
            "Epoch 91/100\n",
            "210/210 [==============================] - 1s 4ms/step - loss: 0.1229 - accuracy: 0.9578\n",
            "Epoch 92/100\n",
            "210/210 [==============================] - 1s 4ms/step - loss: 0.1129 - accuracy: 0.9611\n",
            "Epoch 93/100\n",
            "210/210 [==============================] - 1s 4ms/step - loss: 0.1210 - accuracy: 0.9580\n",
            "Epoch 94/100\n",
            "210/210 [==============================] - 1s 4ms/step - loss: 0.1203 - accuracy: 0.9578\n",
            "Epoch 95/100\n",
            "210/210 [==============================] - 1s 4ms/step - loss: 0.1212 - accuracy: 0.9586\n",
            "Epoch 96/100\n",
            "210/210 [==============================] - 1s 4ms/step - loss: 0.1153 - accuracy: 0.9607\n",
            "Epoch 97/100\n",
            "210/210 [==============================] - 1s 4ms/step - loss: 0.1191 - accuracy: 0.9601\n",
            "Epoch 98/100\n",
            "210/210 [==============================] - 1s 4ms/step - loss: 0.1158 - accuracy: 0.9596\n",
            "Epoch 99/100\n",
            "210/210 [==============================] - 1s 4ms/step - loss: 0.1151 - accuracy: 0.9592\n",
            "Epoch 100/100\n",
            "210/210 [==============================] - 1s 4ms/step - loss: 0.1232 - accuracy: 0.9568\n",
            "1875/1875 [==============================] - 5s 3ms/step - loss: 0.3630 - accuracy: 0.9301\n",
            "Try 2/100: Best_val_acc: [0.3630351126194, 0.9300500154495239], lr: 0.006101938347948367, Lambda: 0.008816378811130848\n",
            "\n",
            "Epoch 1/100\n",
            "210/210 [==============================] - 1s 4ms/step - loss: 1.6376 - accuracy: 0.4824\n",
            "Epoch 2/100\n",
            "210/210 [==============================] - 1s 4ms/step - loss: 1.0106 - accuracy: 0.7060\n",
            "Epoch 3/100\n",
            "210/210 [==============================] - 1s 4ms/step - loss: 0.8347 - accuracy: 0.7523\n",
            "Epoch 4/100\n",
            "210/210 [==============================] - 1s 4ms/step - loss: 0.7399 - accuracy: 0.7784\n",
            "Epoch 5/100\n",
            "210/210 [==============================] - 1s 4ms/step - loss: 0.6720 - accuracy: 0.7966\n",
            "Epoch 6/100\n",
            "210/210 [==============================] - 1s 4ms/step - loss: 0.6215 - accuracy: 0.8131\n",
            "Epoch 7/100\n",
            "210/210 [==============================] - 1s 4ms/step - loss: 0.5854 - accuracy: 0.8237\n",
            "Epoch 8/100\n",
            "210/210 [==============================] - 1s 4ms/step - loss: 0.5506 - accuracy: 0.8330\n",
            "Epoch 9/100\n",
            "210/210 [==============================] - 1s 4ms/step - loss: 0.5298 - accuracy: 0.8400\n",
            "Epoch 10/100\n",
            "210/210 [==============================] - 1s 4ms/step - loss: 0.5087 - accuracy: 0.8441\n",
            "Epoch 11/100\n",
            "210/210 [==============================] - 1s 5ms/step - loss: 0.4878 - accuracy: 0.8519\n",
            "Epoch 12/100\n",
            "210/210 [==============================] - 1s 4ms/step - loss: 0.4689 - accuracy: 0.8564\n",
            "Epoch 13/100\n",
            "210/210 [==============================] - 1s 4ms/step - loss: 0.4577 - accuracy: 0.8598\n",
            "Epoch 14/100\n",
            "210/210 [==============================] - 1s 4ms/step - loss: 0.4464 - accuracy: 0.8619\n",
            "Epoch 15/100\n",
            "210/210 [==============================] - 1s 4ms/step - loss: 0.4237 - accuracy: 0.8701\n",
            "Epoch 16/100\n",
            "210/210 [==============================] - 1s 4ms/step - loss: 0.4133 - accuracy: 0.8733\n",
            "Epoch 17/100\n",
            "210/210 [==============================] - 1s 4ms/step - loss: 0.4096 - accuracy: 0.8745\n",
            "Epoch 18/100\n",
            "210/210 [==============================] - 1s 4ms/step - loss: 0.4040 - accuracy: 0.8758\n",
            "Epoch 19/100\n",
            "210/210 [==============================] - 1s 4ms/step - loss: 0.3932 - accuracy: 0.8772\n",
            "Epoch 20/100\n",
            "210/210 [==============================] - 1s 4ms/step - loss: 0.3761 - accuracy: 0.8841\n",
            "Epoch 21/100\n",
            "210/210 [==============================] - 1s 4ms/step - loss: 0.3757 - accuracy: 0.8831\n",
            "Epoch 22/100\n",
            "210/210 [==============================] - 1s 4ms/step - loss: 0.3703 - accuracy: 0.8845\n",
            "Epoch 23/100\n",
            "210/210 [==============================] - 1s 4ms/step - loss: 0.3491 - accuracy: 0.8922\n",
            "Epoch 24/100\n",
            "210/210 [==============================] - 1s 4ms/step - loss: 0.3438 - accuracy: 0.8944\n",
            "Epoch 25/100\n",
            "210/210 [==============================] - 1s 4ms/step - loss: 0.3394 - accuracy: 0.8946\n",
            "Epoch 26/100\n",
            "210/210 [==============================] - 1s 4ms/step - loss: 0.3363 - accuracy: 0.8944\n",
            "Epoch 27/100\n",
            "210/210 [==============================] - 1s 4ms/step - loss: 0.3239 - accuracy: 0.9002\n",
            "Epoch 28/100\n",
            "210/210 [==============================] - 1s 4ms/step - loss: 0.3190 - accuracy: 0.9012\n",
            "Epoch 29/100\n",
            "210/210 [==============================] - 1s 4ms/step - loss: 0.3184 - accuracy: 0.9006\n",
            "Epoch 30/100\n",
            "210/210 [==============================] - 1s 4ms/step - loss: 0.3087 - accuracy: 0.9050\n",
            "Epoch 31/100\n",
            "210/210 [==============================] - 1s 4ms/step - loss: 0.3000 - accuracy: 0.9070\n",
            "Epoch 32/100\n",
            "210/210 [==============================] - 1s 4ms/step - loss: 0.2978 - accuracy: 0.9077\n",
            "Epoch 33/100\n",
            "210/210 [==============================] - 1s 4ms/step - loss: 0.2962 - accuracy: 0.9073\n",
            "Epoch 34/100\n",
            "210/210 [==============================] - 1s 4ms/step - loss: 0.2903 - accuracy: 0.9090\n",
            "Epoch 35/100\n",
            "210/210 [==============================] - 1s 4ms/step - loss: 0.2872 - accuracy: 0.9100\n",
            "Epoch 36/100\n",
            "210/210 [==============================] - 1s 4ms/step - loss: 0.2788 - accuracy: 0.9135\n",
            "Epoch 37/100\n",
            "210/210 [==============================] - 1s 4ms/step - loss: 0.2741 - accuracy: 0.9165\n",
            "Epoch 38/100\n",
            "210/210 [==============================] - 1s 4ms/step - loss: 0.2693 - accuracy: 0.9161\n",
            "Epoch 39/100\n",
            "210/210 [==============================] - 1s 4ms/step - loss: 0.2706 - accuracy: 0.9167\n",
            "Epoch 40/100\n",
            "210/210 [==============================] - 1s 4ms/step - loss: 0.2648 - accuracy: 0.9173\n",
            "Epoch 41/100\n",
            "210/210 [==============================] - 1s 4ms/step - loss: 0.2614 - accuracy: 0.9191\n",
            "Epoch 42/100\n",
            "210/210 [==============================] - 1s 4ms/step - loss: 0.2612 - accuracy: 0.9172\n",
            "Epoch 43/100\n",
            "210/210 [==============================] - 1s 4ms/step - loss: 0.2472 - accuracy: 0.9229\n",
            "Epoch 44/100\n",
            "210/210 [==============================] - 1s 4ms/step - loss: 0.2456 - accuracy: 0.9233\n",
            "Epoch 45/100\n",
            "210/210 [==============================] - 1s 5ms/step - loss: 0.2436 - accuracy: 0.9237\n",
            "Epoch 46/100\n",
            "210/210 [==============================] - 1s 4ms/step - loss: 0.2376 - accuracy: 0.9264\n",
            "Epoch 47/100\n",
            "210/210 [==============================] - 1s 4ms/step - loss: 0.2438 - accuracy: 0.9239\n",
            "Epoch 48/100\n",
            "210/210 [==============================] - 1s 4ms/step - loss: 0.2324 - accuracy: 0.9271\n",
            "Epoch 49/100\n",
            "210/210 [==============================] - 1s 4ms/step - loss: 0.2381 - accuracy: 0.9260\n",
            "Epoch 50/100\n",
            "210/210 [==============================] - 1s 4ms/step - loss: 0.2288 - accuracy: 0.9280\n",
            "Epoch 51/100\n",
            "210/210 [==============================] - 1s 4ms/step - loss: 0.2237 - accuracy: 0.9301\n",
            "Epoch 52/100\n",
            "210/210 [==============================] - 1s 4ms/step - loss: 0.2222 - accuracy: 0.9311\n",
            "Epoch 53/100\n",
            "210/210 [==============================] - 1s 4ms/step - loss: 0.2212 - accuracy: 0.9316\n",
            "Epoch 54/100\n",
            "210/210 [==============================] - 1s 4ms/step - loss: 0.2146 - accuracy: 0.9335\n",
            "Epoch 55/100\n",
            "210/210 [==============================] - 1s 5ms/step - loss: 0.2109 - accuracy: 0.9342\n",
            "Epoch 56/100\n",
            "210/210 [==============================] - 1s 5ms/step - loss: 0.2106 - accuracy: 0.9335\n",
            "Epoch 57/100\n",
            "210/210 [==============================] - 1s 4ms/step - loss: 0.2075 - accuracy: 0.9364\n",
            "Epoch 58/100\n",
            "210/210 [==============================] - 1s 4ms/step - loss: 0.2065 - accuracy: 0.9354\n",
            "Epoch 59/100\n",
            "210/210 [==============================] - 1s 4ms/step - loss: 0.2069 - accuracy: 0.9350\n",
            "Epoch 60/100\n",
            "210/210 [==============================] - 1s 4ms/step - loss: 0.2048 - accuracy: 0.9360\n",
            "Epoch 61/100\n",
            "210/210 [==============================] - 1s 4ms/step - loss: 0.1999 - accuracy: 0.9372\n",
            "Epoch 62/100\n",
            "210/210 [==============================] - 1s 4ms/step - loss: 0.1921 - accuracy: 0.9394\n",
            "Epoch 63/100\n",
            "210/210 [==============================] - 1s 4ms/step - loss: 0.1934 - accuracy: 0.9397\n",
            "Epoch 64/100\n",
            "210/210 [==============================] - 1s 4ms/step - loss: 0.1942 - accuracy: 0.9387\n",
            "Epoch 65/100\n",
            "210/210 [==============================] - 1s 4ms/step - loss: 0.1914 - accuracy: 0.9397\n",
            "Epoch 66/100\n",
            "210/210 [==============================] - 1s 4ms/step - loss: 0.1866 - accuracy: 0.9425\n",
            "Epoch 67/100\n",
            "210/210 [==============================] - 1s 4ms/step - loss: 0.1854 - accuracy: 0.9426\n",
            "Epoch 68/100\n",
            "210/210 [==============================] - 1s 4ms/step - loss: 0.1795 - accuracy: 0.9447\n",
            "Epoch 69/100\n",
            "210/210 [==============================] - 1s 5ms/step - loss: 0.1838 - accuracy: 0.9424\n",
            "Epoch 70/100\n",
            "210/210 [==============================] - 1s 5ms/step - loss: 0.1796 - accuracy: 0.9443\n",
            "Epoch 71/100\n",
            "210/210 [==============================] - 1s 5ms/step - loss: 0.1783 - accuracy: 0.9437\n",
            "Epoch 72/100\n",
            "210/210 [==============================] - 1s 5ms/step - loss: 0.1779 - accuracy: 0.9433\n",
            "Epoch 73/100\n",
            "210/210 [==============================] - 1s 5ms/step - loss: 0.1733 - accuracy: 0.9454\n",
            "Epoch 74/100\n",
            "210/210 [==============================] - 1s 5ms/step - loss: 0.1762 - accuracy: 0.9437\n",
            "Epoch 75/100\n",
            "210/210 [==============================] - 1s 4ms/step - loss: 0.1662 - accuracy: 0.9480\n",
            "Epoch 76/100\n",
            "210/210 [==============================] - 1s 4ms/step - loss: 0.1708 - accuracy: 0.9465\n",
            "Epoch 77/100\n",
            "210/210 [==============================] - 1s 4ms/step - loss: 0.1639 - accuracy: 0.9478\n",
            "Epoch 78/100\n",
            "210/210 [==============================] - 1s 4ms/step - loss: 0.1701 - accuracy: 0.9450\n",
            "Epoch 79/100\n",
            "210/210 [==============================] - 1s 4ms/step - loss: 0.1638 - accuracy: 0.9493\n",
            "Epoch 80/100\n",
            "210/210 [==============================] - 1s 4ms/step - loss: 0.1597 - accuracy: 0.9491\n",
            "Epoch 81/100\n",
            "210/210 [==============================] - 1s 4ms/step - loss: 0.1543 - accuracy: 0.9524\n",
            "Epoch 82/100\n",
            "210/210 [==============================] - 1s 4ms/step - loss: 0.1620 - accuracy: 0.9480\n",
            "Epoch 83/100\n",
            "210/210 [==============================] - 1s 5ms/step - loss: 0.1577 - accuracy: 0.9504\n",
            "Epoch 84/100\n",
            "210/210 [==============================] - 1s 4ms/step - loss: 0.1504 - accuracy: 0.9532\n",
            "Epoch 85/100\n",
            "210/210 [==============================] - 1s 4ms/step - loss: 0.1550 - accuracy: 0.9512\n",
            "Epoch 86/100\n",
            "210/210 [==============================] - 1s 4ms/step - loss: 0.1547 - accuracy: 0.9497\n",
            "Epoch 87/100\n",
            "210/210 [==============================] - 1s 4ms/step - loss: 0.1478 - accuracy: 0.9528\n",
            "Epoch 88/100\n",
            "210/210 [==============================] - 1s 4ms/step - loss: 0.1507 - accuracy: 0.9516\n",
            "Epoch 89/100\n",
            "210/210 [==============================] - 1s 4ms/step - loss: 0.1426 - accuracy: 0.9555\n",
            "Epoch 90/100\n",
            "210/210 [==============================] - 1s 4ms/step - loss: 0.1484 - accuracy: 0.9531\n",
            "Epoch 91/100\n",
            "210/210 [==============================] - 1s 4ms/step - loss: 0.1440 - accuracy: 0.9539\n",
            "Epoch 92/100\n",
            "210/210 [==============================] - 1s 4ms/step - loss: 0.1460 - accuracy: 0.9537\n",
            "Epoch 93/100\n",
            "210/210 [==============================] - 1s 4ms/step - loss: 0.1406 - accuracy: 0.9552\n",
            "Epoch 94/100\n",
            "210/210 [==============================] - 1s 4ms/step - loss: 0.1431 - accuracy: 0.9544\n",
            "Epoch 95/100\n",
            "210/210 [==============================] - 1s 4ms/step - loss: 0.1369 - accuracy: 0.9565\n",
            "Epoch 96/100\n",
            "210/210 [==============================] - 1s 4ms/step - loss: 0.1387 - accuracy: 0.9554\n",
            "Epoch 97/100\n",
            "210/210 [==============================] - 1s 4ms/step - loss: 0.1389 - accuracy: 0.9549\n",
            "Epoch 98/100\n",
            "210/210 [==============================] - 1s 4ms/step - loss: 0.1396 - accuracy: 0.9568\n",
            "Epoch 99/100\n",
            "210/210 [==============================] - 1s 4ms/step - loss: 0.1312 - accuracy: 0.9586\n",
            "Epoch 100/100\n",
            "210/210 [==============================] - 1s 4ms/step - loss: 0.1338 - accuracy: 0.9574\n",
            "1875/1875 [==============================] - 5s 3ms/step - loss: 0.2811 - accuracy: 0.9338\n",
            "Try 3/100: Best_val_acc: [0.2810990512371063, 0.9337999820709229], lr: 0.0004544571470186765, Lambda: 0.0004061144128246624\n",
            "\n",
            "Epoch 1/100\n",
            "210/210 [==============================] - 1s 4ms/step - loss: 1.3829 - accuracy: 0.5417\n",
            "Epoch 2/100\n",
            "210/210 [==============================] - 1s 4ms/step - loss: 0.9020 - accuracy: 0.7162\n",
            "Epoch 3/100\n",
            "210/210 [==============================] - 1s 4ms/step - loss: 0.7444 - accuracy: 0.7674\n",
            "Epoch 4/100\n",
            "210/210 [==============================] - 1s 5ms/step - loss: 0.6712 - accuracy: 0.7896\n",
            "Epoch 5/100\n",
            "210/210 [==============================] - 1s 4ms/step - loss: 0.6167 - accuracy: 0.8072\n",
            "Epoch 6/100\n",
            "210/210 [==============================] - 1s 4ms/step - loss: 0.5771 - accuracy: 0.8186\n",
            "Epoch 7/100\n",
            "210/210 [==============================] - 1s 4ms/step - loss: 0.5407 - accuracy: 0.8315\n",
            "Epoch 8/100\n",
            "210/210 [==============================] - 1s 4ms/step - loss: 0.5259 - accuracy: 0.8365\n",
            "Epoch 9/100\n",
            "210/210 [==============================] - 1s 4ms/step - loss: 0.4927 - accuracy: 0.8429\n",
            "Epoch 10/100\n",
            "210/210 [==============================] - 1s 4ms/step - loss: 0.4732 - accuracy: 0.8518\n",
            "Epoch 11/100\n",
            "210/210 [==============================] - 1s 4ms/step - loss: 0.4545 - accuracy: 0.8568\n",
            "Epoch 12/100\n",
            "210/210 [==============================] - 1s 4ms/step - loss: 0.4439 - accuracy: 0.8591\n",
            "Epoch 13/100\n",
            "210/210 [==============================] - 1s 4ms/step - loss: 0.4246 - accuracy: 0.8672\n",
            "Epoch 14/100\n",
            "210/210 [==============================] - 1s 4ms/step - loss: 0.4110 - accuracy: 0.8700\n",
            "Epoch 15/100\n",
            "210/210 [==============================] - 1s 4ms/step - loss: 0.4027 - accuracy: 0.8713\n",
            "Epoch 16/100\n",
            "210/210 [==============================] - 1s 4ms/step - loss: 0.3953 - accuracy: 0.8725\n",
            "Epoch 17/100\n",
            "210/210 [==============================] - 1s 4ms/step - loss: 0.3730 - accuracy: 0.8807\n",
            "Epoch 18/100\n",
            "210/210 [==============================] - 1s 4ms/step - loss: 0.3642 - accuracy: 0.8841\n",
            "Epoch 19/100\n",
            "210/210 [==============================] - 1s 4ms/step - loss: 0.3491 - accuracy: 0.8870\n",
            "Epoch 20/100\n",
            "210/210 [==============================] - 1s 4ms/step - loss: 0.3518 - accuracy: 0.8860\n",
            "Epoch 21/100\n",
            "210/210 [==============================] - 1s 4ms/step - loss: 0.3363 - accuracy: 0.8921\n",
            "Epoch 22/100\n",
            "210/210 [==============================] - 1s 4ms/step - loss: 0.3275 - accuracy: 0.8945\n",
            "Epoch 23/100\n",
            "210/210 [==============================] - 1s 5ms/step - loss: 0.3218 - accuracy: 0.8962\n",
            "Epoch 24/100\n",
            "210/210 [==============================] - 1s 4ms/step - loss: 0.3117 - accuracy: 0.8985\n",
            "Epoch 25/100\n",
            "210/210 [==============================] - 1s 4ms/step - loss: 0.3159 - accuracy: 0.8971\n",
            "Epoch 26/100\n",
            "210/210 [==============================] - 1s 4ms/step - loss: 0.3030 - accuracy: 0.9023\n",
            "Epoch 27/100\n",
            "210/210 [==============================] - 1s 4ms/step - loss: 0.2907 - accuracy: 0.9036\n",
            "Epoch 28/100\n",
            "210/210 [==============================] - 1s 4ms/step - loss: 0.2865 - accuracy: 0.9054\n",
            "Epoch 29/100\n",
            "210/210 [==============================] - 1s 4ms/step - loss: 0.2738 - accuracy: 0.9108\n",
            "Epoch 30/100\n",
            "210/210 [==============================] - 1s 4ms/step - loss: 0.2840 - accuracy: 0.9060\n",
            "Epoch 31/100\n",
            "210/210 [==============================] - 1s 4ms/step - loss: 0.2705 - accuracy: 0.9115\n",
            "Epoch 32/100\n",
            "210/210 [==============================] - 1s 4ms/step - loss: 0.2612 - accuracy: 0.9142\n",
            "Epoch 33/100\n",
            "210/210 [==============================] - 1s 4ms/step - loss: 0.2500 - accuracy: 0.9172\n",
            "Epoch 34/100\n",
            "210/210 [==============================] - 1s 5ms/step - loss: 0.2650 - accuracy: 0.9146\n",
            "Epoch 35/100\n",
            "210/210 [==============================] - 1s 4ms/step - loss: 0.2568 - accuracy: 0.9157\n",
            "Epoch 36/100\n",
            "210/210 [==============================] - 1s 4ms/step - loss: 0.2505 - accuracy: 0.9167\n",
            "Epoch 37/100\n",
            "210/210 [==============================] - 1s 4ms/step - loss: 0.2397 - accuracy: 0.9217\n",
            "Epoch 38/100\n",
            "210/210 [==============================] - 1s 4ms/step - loss: 0.2357 - accuracy: 0.9215\n",
            "Epoch 39/100\n",
            "210/210 [==============================] - 1s 4ms/step - loss: 0.2357 - accuracy: 0.9219\n",
            "Epoch 40/100\n",
            "210/210 [==============================] - 1s 4ms/step - loss: 0.2252 - accuracy: 0.9245\n",
            "Epoch 41/100\n",
            "210/210 [==============================] - 1s 4ms/step - loss: 0.2242 - accuracy: 0.9251\n",
            "Epoch 42/100\n",
            "210/210 [==============================] - 1s 4ms/step - loss: 0.2187 - accuracy: 0.9269\n",
            "Epoch 43/100\n",
            "210/210 [==============================] - 1s 4ms/step - loss: 0.2173 - accuracy: 0.9268\n",
            "Epoch 44/100\n",
            "210/210 [==============================] - 1s 4ms/step - loss: 0.2154 - accuracy: 0.9279\n",
            "Epoch 45/100\n",
            "210/210 [==============================] - 1s 4ms/step - loss: 0.2162 - accuracy: 0.9273\n",
            "Epoch 46/100\n",
            "210/210 [==============================] - 1s 4ms/step - loss: 0.2002 - accuracy: 0.9343\n",
            "Epoch 47/100\n",
            "210/210 [==============================] - 1s 4ms/step - loss: 0.2081 - accuracy: 0.9299\n",
            "Epoch 48/100\n",
            "210/210 [==============================] - 1s 4ms/step - loss: 0.1980 - accuracy: 0.9331\n",
            "Epoch 49/100\n",
            "210/210 [==============================] - 1s 4ms/step - loss: 0.1955 - accuracy: 0.9362\n",
            "Epoch 50/100\n",
            "210/210 [==============================] - 1s 4ms/step - loss: 0.1921 - accuracy: 0.9349\n",
            "Epoch 51/100\n",
            "210/210 [==============================] - 1s 5ms/step - loss: 0.2009 - accuracy: 0.9332\n",
            "Epoch 52/100\n",
            "210/210 [==============================] - 1s 4ms/step - loss: 0.1936 - accuracy: 0.9343\n",
            "Epoch 53/100\n",
            "210/210 [==============================] - 1s 4ms/step - loss: 0.1862 - accuracy: 0.9369\n",
            "Epoch 54/100\n",
            "210/210 [==============================] - 1s 4ms/step - loss: 0.1842 - accuracy: 0.9371\n",
            "Epoch 55/100\n",
            "210/210 [==============================] - 1s 4ms/step - loss: 0.1836 - accuracy: 0.9376\n",
            "Epoch 56/100\n",
            "210/210 [==============================] - 1s 4ms/step - loss: 0.1728 - accuracy: 0.9412\n",
            "Epoch 57/100\n",
            "210/210 [==============================] - 1s 5ms/step - loss: 0.1713 - accuracy: 0.9417\n",
            "Epoch 58/100\n",
            "210/210 [==============================] - 1s 5ms/step - loss: 0.1680 - accuracy: 0.9434\n",
            "Epoch 59/100\n",
            "210/210 [==============================] - 1s 5ms/step - loss: 0.1761 - accuracy: 0.9406\n",
            "Epoch 60/100\n",
            "210/210 [==============================] - 1s 5ms/step - loss: 0.1736 - accuracy: 0.9421\n",
            "Epoch 61/100\n",
            "210/210 [==============================] - 1s 5ms/step - loss: 0.1725 - accuracy: 0.9431\n",
            "Epoch 62/100\n",
            "210/210 [==============================] - 1s 5ms/step - loss: 0.1624 - accuracy: 0.9457\n",
            "Epoch 63/100\n",
            "210/210 [==============================] - 1s 5ms/step - loss: 0.1695 - accuracy: 0.9416\n",
            "Epoch 64/100\n",
            "210/210 [==============================] - 1s 5ms/step - loss: 0.1607 - accuracy: 0.9454\n",
            "Epoch 65/100\n",
            "210/210 [==============================] - 1s 5ms/step - loss: 0.1578 - accuracy: 0.9469\n",
            "Epoch 66/100\n",
            "210/210 [==============================] - 1s 5ms/step - loss: 0.1677 - accuracy: 0.9422\n",
            "Epoch 67/100\n",
            "210/210 [==============================] - 1s 5ms/step - loss: 0.1546 - accuracy: 0.9482\n",
            "Epoch 68/100\n",
            "210/210 [==============================] - 1s 4ms/step - loss: 0.1638 - accuracy: 0.9444\n",
            "Epoch 69/100\n",
            "210/210 [==============================] - 1s 4ms/step - loss: 0.1461 - accuracy: 0.9506\n",
            "Epoch 70/100\n",
            "210/210 [==============================] - 1s 4ms/step - loss: 0.1541 - accuracy: 0.9479\n",
            "Epoch 71/100\n",
            "210/210 [==============================] - 1s 4ms/step - loss: 0.1521 - accuracy: 0.9483\n",
            "Epoch 72/100\n",
            "210/210 [==============================] - 1s 4ms/step - loss: 0.1479 - accuracy: 0.9495\n",
            "Epoch 73/100\n",
            "210/210 [==============================] - 1s 4ms/step - loss: 0.1470 - accuracy: 0.9492\n",
            "Epoch 74/100\n",
            "210/210 [==============================] - 1s 4ms/step - loss: 0.1455 - accuracy: 0.9513\n",
            "Epoch 75/100\n",
            "210/210 [==============================] - 1s 4ms/step - loss: 0.1435 - accuracy: 0.9509\n",
            "Epoch 76/100\n",
            "210/210 [==============================] - 1s 4ms/step - loss: 0.1427 - accuracy: 0.9512\n",
            "Epoch 77/100\n",
            "210/210 [==============================] - 1s 5ms/step - loss: 0.1502 - accuracy: 0.9478\n",
            "Epoch 78/100\n",
            "210/210 [==============================] - 1s 4ms/step - loss: 0.1356 - accuracy: 0.9538\n",
            "Epoch 79/100\n",
            "210/210 [==============================] - 1s 4ms/step - loss: 0.1356 - accuracy: 0.9531\n",
            "Epoch 80/100\n",
            "210/210 [==============================] - 1s 4ms/step - loss: 0.1361 - accuracy: 0.9535\n",
            "Epoch 81/100\n",
            "210/210 [==============================] - 1s 4ms/step - loss: 0.1421 - accuracy: 0.9508\n",
            "Epoch 82/100\n",
            "210/210 [==============================] - 1s 4ms/step - loss: 0.1383 - accuracy: 0.9524\n",
            "Epoch 83/100\n",
            "210/210 [==============================] - 1s 4ms/step - loss: 0.1276 - accuracy: 0.9570\n",
            "Epoch 84/100\n",
            "210/210 [==============================] - 1s 4ms/step - loss: 0.1313 - accuracy: 0.9549\n",
            "Epoch 85/100\n",
            "210/210 [==============================] - 1s 4ms/step - loss: 0.1329 - accuracy: 0.9539\n",
            "Epoch 86/100\n",
            "210/210 [==============================] - 1s 4ms/step - loss: 0.1338 - accuracy: 0.9535\n",
            "Epoch 87/100\n",
            "210/210 [==============================] - 1s 4ms/step - loss: 0.1311 - accuracy: 0.9544\n",
            "Epoch 88/100\n",
            "210/210 [==============================] - 1s 4ms/step - loss: 0.1273 - accuracy: 0.9569\n",
            "Epoch 89/100\n",
            "210/210 [==============================] - 1s 4ms/step - loss: 0.1218 - accuracy: 0.9582\n",
            "Epoch 90/100\n",
            "210/210 [==============================] - 1s 4ms/step - loss: 0.1310 - accuracy: 0.9550\n",
            "Epoch 91/100\n",
            "210/210 [==============================] - 1s 5ms/step - loss: 0.1307 - accuracy: 0.9557\n",
            "Epoch 92/100\n",
            "210/210 [==============================] - 1s 4ms/step - loss: 0.1291 - accuracy: 0.9549\n",
            "Epoch 93/100\n",
            "210/210 [==============================] - 1s 4ms/step - loss: 0.1183 - accuracy: 0.9591\n",
            "Epoch 94/100\n",
            "210/210 [==============================] - 1s 4ms/step - loss: 0.1261 - accuracy: 0.9573\n",
            "Epoch 95/100\n",
            "210/210 [==============================] - 1s 4ms/step - loss: 0.1188 - accuracy: 0.9592\n",
            "Epoch 96/100\n",
            "210/210 [==============================] - 1s 4ms/step - loss: 0.1141 - accuracy: 0.9602\n",
            "Epoch 97/100\n",
            "210/210 [==============================] - 1s 4ms/step - loss: 0.1101 - accuracy: 0.9625\n",
            "Epoch 98/100\n",
            "210/210 [==============================] - 1s 4ms/step - loss: 0.1270 - accuracy: 0.9557\n",
            "Epoch 99/100\n",
            "210/210 [==============================] - 1s 4ms/step - loss: 0.1239 - accuracy: 0.9567\n",
            "Epoch 100/100\n",
            "210/210 [==============================] - 1s 4ms/step - loss: 0.1147 - accuracy: 0.9609\n",
            "1875/1875 [==============================] - 5s 3ms/step - loss: 0.3639 - accuracy: 0.9340\n",
            "Try 4/100: Best_val_acc: [0.3638949990272522, 0.9339666962623596], lr: 0.007501927798773922, Lambda: 0.007266653109964178\n",
            "\n"
          ],
          "name": "stdout"
        }
      ]
    },
    {
      "cell_type": "markdown",
      "metadata": {
        "id": "-1uNPkYo3tgE",
        "colab_type": "text"
      },
      "source": [
        "# Final Model"
      ]
    },
    {
      "cell_type": "code",
      "metadata": {
        "id": "lbmhEkCvFIpn",
        "colab_type": "code",
        "colab": {}
      },
      "source": [
        "def mlp_model():\n",
        "    model = Sequential()\n",
        "    \n",
        "    model.add(Dense(128, input_shape = (1024, ), kernel_initializer='he_normal'))     # use he_normal initializer\n",
        "    model.add(BatchNormalization()) \n",
        "    model.add(Activation('relu'))    \n",
        "    model.add(Dense(128, kernel_initializer='he_normal'))                            # use he_normal initializer\n",
        "    model.add(BatchNormalization()) \n",
        "    model.add(Activation('relu'))    \n",
        "    model.add(Dense(10, kernel_initializer='he_normal'))                            # use he_normal initializer\n",
        "    model.add(Activation('softmax'))\n",
        "    \n",
        "    adam = optimizers.Adam(lr=1e-4, decay=1e-4)\n",
        "    model.compile(optimizer = adam, loss = 'categorical_crossentropy', metrics = ['accuracy'])\n",
        "    \n",
        "    return model"
      ],
      "execution_count": 41,
      "outputs": []
    },
    {
      "cell_type": "code",
      "metadata": {
        "id": "aLPhqFb8Grkm",
        "colab_type": "code",
        "colab": {
          "base_uri": "https://localhost:8080/",
          "height": 1000
        },
        "outputId": "a7e1274a-a90c-4099-df9b-d9441233e834"
      },
      "source": [
        "    # Fit the model\n",
        "    model.fit(X_train, y_train, epochs=100, batch_size=200, verbose= 1)\n",
        "    score = model.evaluate(X_val, y_val)"
      ],
      "execution_count": 42,
      "outputs": [
        {
          "output_type": "stream",
          "text": [
            "Epoch 1/100\n",
            "210/210 [==============================] - 1s 4ms/step - loss: 0.1164 - accuracy: 0.9607\n",
            "Epoch 2/100\n",
            "210/210 [==============================] - 1s 4ms/step - loss: 0.1172 - accuracy: 0.9600\n",
            "Epoch 3/100\n",
            "210/210 [==============================] - 1s 4ms/step - loss: 0.1067 - accuracy: 0.9640\n",
            "Epoch 4/100\n",
            "210/210 [==============================] - 1s 4ms/step - loss: 0.1090 - accuracy: 0.9627\n",
            "Epoch 5/100\n",
            "210/210 [==============================] - 1s 4ms/step - loss: 0.1068 - accuracy: 0.9649\n",
            "Epoch 6/100\n",
            "210/210 [==============================] - 1s 4ms/step - loss: 0.1057 - accuracy: 0.9651\n",
            "Epoch 7/100\n",
            "210/210 [==============================] - 1s 4ms/step - loss: 0.1013 - accuracy: 0.9669\n",
            "Epoch 8/100\n",
            "210/210 [==============================] - 1s 4ms/step - loss: 0.1004 - accuracy: 0.9665\n",
            "Epoch 9/100\n",
            "210/210 [==============================] - 1s 4ms/step - loss: 0.1142 - accuracy: 0.9621\n",
            "Epoch 10/100\n",
            "210/210 [==============================] - 1s 4ms/step - loss: 0.1092 - accuracy: 0.9634\n",
            "Epoch 11/100\n",
            "210/210 [==============================] - 1s 4ms/step - loss: 0.1054 - accuracy: 0.9651\n",
            "Epoch 12/100\n",
            "210/210 [==============================] - 1s 4ms/step - loss: 0.1031 - accuracy: 0.9656\n",
            "Epoch 13/100\n",
            "210/210 [==============================] - 1s 4ms/step - loss: 0.1002 - accuracy: 0.9653\n",
            "Epoch 14/100\n",
            "210/210 [==============================] - 1s 4ms/step - loss: 0.1071 - accuracy: 0.9639\n",
            "Epoch 15/100\n",
            "210/210 [==============================] - 1s 4ms/step - loss: 0.1011 - accuracy: 0.9664\n",
            "Epoch 16/100\n",
            "210/210 [==============================] - 1s 4ms/step - loss: 0.0969 - accuracy: 0.9676\n",
            "Epoch 17/100\n",
            "210/210 [==============================] - 1s 4ms/step - loss: 0.1028 - accuracy: 0.9655\n",
            "Epoch 18/100\n",
            "210/210 [==============================] - 1s 4ms/step - loss: 0.1042 - accuracy: 0.9645\n",
            "Epoch 19/100\n",
            "210/210 [==============================] - 1s 4ms/step - loss: 0.1017 - accuracy: 0.9651\n",
            "Epoch 20/100\n",
            "210/210 [==============================] - 1s 4ms/step - loss: 0.0940 - accuracy: 0.9683\n",
            "Epoch 21/100\n",
            "210/210 [==============================] - 1s 4ms/step - loss: 0.0950 - accuracy: 0.9683\n",
            "Epoch 22/100\n",
            "210/210 [==============================] - 1s 4ms/step - loss: 0.0935 - accuracy: 0.9690\n",
            "Epoch 23/100\n",
            "210/210 [==============================] - 1s 4ms/step - loss: 0.0963 - accuracy: 0.9686\n",
            "Epoch 24/100\n",
            "210/210 [==============================] - 1s 4ms/step - loss: 0.0972 - accuracy: 0.9677\n",
            "Epoch 25/100\n",
            "210/210 [==============================] - 1s 4ms/step - loss: 0.0963 - accuracy: 0.9680\n",
            "Epoch 26/100\n",
            "210/210 [==============================] - 1s 4ms/step - loss: 0.0950 - accuracy: 0.9680\n",
            "Epoch 27/100\n",
            "210/210 [==============================] - 1s 4ms/step - loss: 0.0888 - accuracy: 0.9706\n",
            "Epoch 28/100\n",
            "210/210 [==============================] - 1s 4ms/step - loss: 0.0956 - accuracy: 0.9682\n",
            "Epoch 29/100\n",
            "210/210 [==============================] - 1s 4ms/step - loss: 0.0936 - accuracy: 0.9687\n",
            "Epoch 30/100\n",
            "210/210 [==============================] - 1s 4ms/step - loss: 0.0925 - accuracy: 0.9688\n",
            "Epoch 31/100\n",
            "210/210 [==============================] - 1s 4ms/step - loss: 0.0943 - accuracy: 0.9684\n",
            "Epoch 32/100\n",
            "210/210 [==============================] - 1s 4ms/step - loss: 0.0932 - accuracy: 0.9695\n",
            "Epoch 33/100\n",
            "210/210 [==============================] - 1s 4ms/step - loss: 0.0880 - accuracy: 0.9707\n",
            "Epoch 34/100\n",
            "210/210 [==============================] - 1s 4ms/step - loss: 0.0902 - accuracy: 0.9695\n",
            "Epoch 35/100\n",
            "210/210 [==============================] - 1s 4ms/step - loss: 0.0861 - accuracy: 0.9710\n",
            "Epoch 36/100\n",
            "210/210 [==============================] - 1s 4ms/step - loss: 0.0901 - accuracy: 0.9704\n",
            "Epoch 37/100\n",
            "210/210 [==============================] - 1s 4ms/step - loss: 0.0859 - accuracy: 0.9707\n",
            "Epoch 38/100\n",
            "210/210 [==============================] - 1s 4ms/step - loss: 0.0852 - accuracy: 0.9715\n",
            "Epoch 39/100\n",
            "210/210 [==============================] - 1s 4ms/step - loss: 0.0870 - accuracy: 0.9700\n",
            "Epoch 40/100\n",
            "210/210 [==============================] - 1s 4ms/step - loss: 0.0800 - accuracy: 0.9735\n",
            "Epoch 41/100\n",
            "210/210 [==============================] - 1s 4ms/step - loss: 0.0897 - accuracy: 0.9697\n",
            "Epoch 42/100\n",
            "210/210 [==============================] - 1s 4ms/step - loss: 0.0912 - accuracy: 0.9693\n",
            "Epoch 43/100\n",
            "210/210 [==============================] - 1s 4ms/step - loss: 0.0831 - accuracy: 0.9719\n",
            "Epoch 44/100\n",
            "210/210 [==============================] - 1s 4ms/step - loss: 0.0795 - accuracy: 0.9733\n",
            "Epoch 45/100\n",
            "210/210 [==============================] - 1s 4ms/step - loss: 0.0784 - accuracy: 0.9737\n",
            "Epoch 46/100\n",
            "210/210 [==============================] - 1s 4ms/step - loss: 0.0867 - accuracy: 0.9703\n",
            "Epoch 47/100\n",
            "210/210 [==============================] - 1s 4ms/step - loss: 0.0859 - accuracy: 0.9708\n",
            "Epoch 48/100\n",
            "210/210 [==============================] - 1s 4ms/step - loss: 0.0794 - accuracy: 0.9730\n",
            "Epoch 49/100\n",
            "210/210 [==============================] - 1s 4ms/step - loss: 0.0850 - accuracy: 0.9713\n",
            "Epoch 50/100\n",
            "210/210 [==============================] - 1s 4ms/step - loss: 0.0750 - accuracy: 0.9745\n",
            "Epoch 51/100\n",
            "210/210 [==============================] - 1s 4ms/step - loss: 0.0829 - accuracy: 0.9718\n",
            "Epoch 52/100\n",
            "210/210 [==============================] - 1s 4ms/step - loss: 0.0861 - accuracy: 0.9704\n",
            "Epoch 53/100\n",
            "210/210 [==============================] - 1s 4ms/step - loss: 0.0806 - accuracy: 0.9729\n",
            "Epoch 54/100\n",
            "210/210 [==============================] - 1s 4ms/step - loss: 0.0887 - accuracy: 0.9694\n",
            "Epoch 55/100\n",
            "210/210 [==============================] - 1s 4ms/step - loss: 0.0828 - accuracy: 0.9717\n",
            "Epoch 56/100\n",
            "210/210 [==============================] - 1s 4ms/step - loss: 0.0704 - accuracy: 0.9767\n",
            "Epoch 57/100\n",
            "210/210 [==============================] - 1s 4ms/step - loss: 0.0816 - accuracy: 0.9727\n",
            "Epoch 58/100\n",
            "210/210 [==============================] - 1s 4ms/step - loss: 0.0829 - accuracy: 0.9720\n",
            "Epoch 59/100\n",
            "210/210 [==============================] - 1s 5ms/step - loss: 0.0695 - accuracy: 0.9767\n",
            "Epoch 60/100\n",
            "210/210 [==============================] - 1s 4ms/step - loss: 0.0731 - accuracy: 0.9760\n",
            "Epoch 61/100\n",
            "210/210 [==============================] - 1s 4ms/step - loss: 0.0711 - accuracy: 0.9761\n",
            "Epoch 62/100\n",
            "210/210 [==============================] - 1s 4ms/step - loss: 0.0766 - accuracy: 0.9743\n",
            "Epoch 63/100\n",
            "210/210 [==============================] - 1s 4ms/step - loss: 0.0766 - accuracy: 0.9741\n",
            "Epoch 64/100\n",
            "210/210 [==============================] - 1s 4ms/step - loss: 0.0786 - accuracy: 0.9738\n",
            "Epoch 65/100\n",
            "210/210 [==============================] - 1s 4ms/step - loss: 0.0779 - accuracy: 0.9737\n",
            "Epoch 66/100\n",
            "210/210 [==============================] - 1s 4ms/step - loss: 0.0685 - accuracy: 0.9771\n",
            "Epoch 67/100\n",
            "210/210 [==============================] - 1s 4ms/step - loss: 0.0706 - accuracy: 0.9753\n",
            "Epoch 68/100\n",
            "210/210 [==============================] - 1s 4ms/step - loss: 0.0722 - accuracy: 0.9760\n",
            "Epoch 69/100\n",
            "210/210 [==============================] - 1s 4ms/step - loss: 0.0764 - accuracy: 0.9742\n",
            "Epoch 70/100\n",
            "210/210 [==============================] - 1s 4ms/step - loss: 0.0729 - accuracy: 0.9756\n",
            "Epoch 71/100\n",
            "210/210 [==============================] - 1s 4ms/step - loss: 0.0686 - accuracy: 0.9766\n",
            "Epoch 72/100\n",
            "210/210 [==============================] - 1s 4ms/step - loss: 0.0710 - accuracy: 0.9761\n",
            "Epoch 73/100\n",
            "210/210 [==============================] - 1s 4ms/step - loss: 0.0741 - accuracy: 0.9755\n",
            "Epoch 74/100\n",
            "210/210 [==============================] - 1s 4ms/step - loss: 0.0748 - accuracy: 0.9750\n",
            "Epoch 75/100\n",
            "210/210 [==============================] - 1s 4ms/step - loss: 0.0715 - accuracy: 0.9761\n",
            "Epoch 76/100\n",
            "210/210 [==============================] - 1s 4ms/step - loss: 0.0683 - accuracy: 0.9771\n",
            "Epoch 77/100\n",
            "210/210 [==============================] - 1s 4ms/step - loss: 0.0712 - accuracy: 0.9762\n",
            "Epoch 78/100\n",
            "210/210 [==============================] - 1s 4ms/step - loss: 0.0687 - accuracy: 0.9768\n",
            "Epoch 79/100\n",
            "210/210 [==============================] - 1s 4ms/step - loss: 0.0747 - accuracy: 0.9742\n",
            "Epoch 80/100\n",
            "210/210 [==============================] - 1s 4ms/step - loss: 0.0681 - accuracy: 0.9773\n",
            "Epoch 81/100\n",
            "210/210 [==============================] - 1s 4ms/step - loss: 0.0669 - accuracy: 0.9774\n",
            "Epoch 82/100\n",
            "210/210 [==============================] - 1s 4ms/step - loss: 0.0703 - accuracy: 0.9756\n",
            "Epoch 83/100\n",
            "210/210 [==============================] - 1s 4ms/step - loss: 0.0704 - accuracy: 0.9755\n",
            "Epoch 84/100\n",
            "210/210 [==============================] - 1s 4ms/step - loss: 0.0758 - accuracy: 0.9742\n",
            "Epoch 85/100\n",
            "210/210 [==============================] - 1s 4ms/step - loss: 0.0672 - accuracy: 0.9771\n",
            "Epoch 86/100\n",
            "210/210 [==============================] - 1s 4ms/step - loss: 0.0629 - accuracy: 0.9779\n",
            "Epoch 87/100\n",
            "210/210 [==============================] - 1s 4ms/step - loss: 0.0649 - accuracy: 0.9781\n",
            "Epoch 88/100\n",
            "210/210 [==============================] - 1s 4ms/step - loss: 0.0709 - accuracy: 0.9759\n",
            "Epoch 89/100\n",
            "210/210 [==============================] - 1s 4ms/step - loss: 0.0646 - accuracy: 0.9782\n",
            "Epoch 90/100\n",
            "210/210 [==============================] - 1s 4ms/step - loss: 0.0722 - accuracy: 0.9747\n",
            "Epoch 91/100\n",
            "210/210 [==============================] - 1s 4ms/step - loss: 0.0648 - accuracy: 0.9774\n",
            "Epoch 92/100\n",
            "210/210 [==============================] - 1s 4ms/step - loss: 0.0599 - accuracy: 0.9800\n",
            "Epoch 93/100\n",
            "210/210 [==============================] - 1s 4ms/step - loss: 0.0651 - accuracy: 0.9780\n",
            "Epoch 94/100\n",
            "210/210 [==============================] - 1s 4ms/step - loss: 0.0640 - accuracy: 0.9783\n",
            "Epoch 95/100\n",
            "210/210 [==============================] - 1s 4ms/step - loss: 0.0737 - accuracy: 0.9750\n",
            "Epoch 96/100\n",
            "210/210 [==============================] - 1s 4ms/step - loss: 0.0653 - accuracy: 0.9776\n",
            "Epoch 97/100\n",
            "210/210 [==============================] - 1s 4ms/step - loss: 0.0653 - accuracy: 0.9775\n",
            "Epoch 98/100\n",
            "210/210 [==============================] - 1s 4ms/step - loss: 0.0610 - accuracy: 0.9796\n",
            "Epoch 99/100\n",
            "210/210 [==============================] - 1s 4ms/step - loss: 0.0714 - accuracy: 0.9757\n",
            "Epoch 100/100\n",
            "210/210 [==============================] - 1s 4ms/step - loss: 0.0598 - accuracy: 0.9796\n",
            "1875/1875 [==============================] - 5s 3ms/step - loss: 0.3267 - accuracy: 0.9489\n"
          ],
          "name": "stdout"
        }
      ]
    },
    {
      "cell_type": "code",
      "metadata": {
        "id": "tnt7lMaLDnIe",
        "colab_type": "code",
        "colab": {
          "base_uri": "https://localhost:8080/",
          "height": 51
        },
        "outputId": "e4f05b6f-9b6f-41a0-8cd7-fdbca513dac6"
      },
      "source": [
        "results = model.evaluate(X_val, y_val)\n",
        "print('Val_acc using NN Batch ADAM (Hyperparameters) : ', results[1])"
      ],
      "execution_count": 43,
      "outputs": [
        {
          "output_type": "stream",
          "text": [
            "1875/1875 [==============================] - 5s 3ms/step - loss: 0.3267 - accuracy: 0.9489\n",
            "Val_acc using NN Batch ADAM (Hyperparameters) :  0.9489166736602783\n"
          ],
          "name": "stdout"
        }
      ]
    },
    {
      "cell_type": "code",
      "metadata": {
        "id": "NPbTkMXmD0CB",
        "colab_type": "code",
        "colab": {
          "base_uri": "https://localhost:8080/",
          "height": 173
        },
        "outputId": "d3f587bc-45a8-486f-91a8-da98806b3f31"
      },
      "source": [
        "#Store the accuracy results for each model in a dataframe for final comparison\n",
        "tempResultsDf = pd.DataFrame({'Method':['NN Batch ADAM (Hyperparameters)'], 'accuracy': [results[1]]},index={'4'})\n",
        "results_on_val= pd.concat([results_on_val, tempResultsDf])\n",
        "results_on_val = results_on_val[['Method', 'accuracy']]\n",
        "results_on_val"
      ],
      "execution_count": 44,
      "outputs": [
        {
          "output_type": "execute_result",
          "data": {
            "text/html": [
              "<div>\n",
              "<style scoped>\n",
              "    .dataframe tbody tr th:only-of-type {\n",
              "        vertical-align: middle;\n",
              "    }\n",
              "\n",
              "    .dataframe tbody tr th {\n",
              "        vertical-align: top;\n",
              "    }\n",
              "\n",
              "    .dataframe thead th {\n",
              "        text-align: right;\n",
              "    }\n",
              "</style>\n",
              "<table border=\"1\" class=\"dataframe\">\n",
              "  <thead>\n",
              "    <tr style=\"text-align: right;\">\n",
              "      <th></th>\n",
              "      <th>Method</th>\n",
              "      <th>accuracy</th>\n",
              "    </tr>\n",
              "  </thead>\n",
              "  <tbody>\n",
              "    <tr>\n",
              "      <th>1</th>\n",
              "      <td>NN SDG</td>\n",
              "      <td>0.756950</td>\n",
              "    </tr>\n",
              "    <tr>\n",
              "      <th>2</th>\n",
              "      <td>NN SGD (Batch Normalization)</td>\n",
              "      <td>0.756967</td>\n",
              "    </tr>\n",
              "    <tr>\n",
              "      <th>3</th>\n",
              "      <td>NN ADAM (Batch Normalization)</td>\n",
              "      <td>0.939500</td>\n",
              "    </tr>\n",
              "    <tr>\n",
              "      <th>4</th>\n",
              "      <td>NN Batch ADAM (Hyperparameters)</td>\n",
              "      <td>0.948917</td>\n",
              "    </tr>\n",
              "  </tbody>\n",
              "</table>\n",
              "</div>"
            ],
            "text/plain": [
              "                            Method  accuracy\n",
              "1                           NN SDG  0.756950\n",
              "2     NN SGD (Batch Normalization)  0.756967\n",
              "3    NN ADAM (Batch Normalization)  0.939500\n",
              "4  NN Batch ADAM (Hyperparameters)  0.948917"
            ]
          },
          "metadata": {
            "tags": []
          },
          "execution_count": 44
        }
      ]
    },
    {
      "cell_type": "markdown",
      "metadata": {
        "id": "-AU6QkBYOy-N",
        "colab_type": "text"
      },
      "source": [
        "So the best accuracy comes to 85% where learning rate is 1e-4"
      ]
    },
    {
      "cell_type": "markdown",
      "metadata": {
        "id": "diCo6MebI8uj",
        "colab_type": "text"
      },
      "source": [
        "# Include Dropout to avoid overfit"
      ]
    },
    {
      "cell_type": "code",
      "metadata": {
        "id": "dkrL2N9cIuDt",
        "colab_type": "code",
        "colab": {}
      },
      "source": [
        "def mlp_model():\n",
        "    model = Sequential()\n",
        "    \n",
        "    model.add(Dense(128, input_shape = (1024, ), kernel_initializer='he_normal'))     # use he_normal initializer\n",
        "    model.add(BatchNormalization()) \n",
        "    model.add(Activation('relu'))\n",
        "    model.add(Dropout(0.2))  \n",
        "    model.add(Dense(128, kernel_initializer='he_normal'))                            # use he_normal initializer\n",
        "    model.add(BatchNormalization()) \n",
        "    model.add(Activation('relu'))\n",
        "    model.add(Dropout(0.2)) \n",
        "    model.add(Dense(10, kernel_initializer='he_normal'))                            # use he_normal initializer\n",
        "    model.add(Activation('softmax'))\n",
        "    \n",
        "    adam = optimizers.Adam(lr=1e-4, decay=1e-4)\n",
        "    model.compile(optimizer = adam, loss = 'categorical_crossentropy', metrics = ['accuracy'])\n",
        "    \n",
        "    return model"
      ],
      "execution_count": 45,
      "outputs": []
    },
    {
      "cell_type": "code",
      "metadata": {
        "id": "UoHLSP5zKwee",
        "colab_type": "code",
        "colab": {
          "base_uri": "https://localhost:8080/",
          "height": 425
        },
        "outputId": "32bb56e2-07c4-464c-e9d3-7adfe2271521"
      },
      "source": [
        "model.summary()"
      ],
      "execution_count": 46,
      "outputs": [
        {
          "output_type": "stream",
          "text": [
            "Model: \"sequential_4\"\n",
            "_________________________________________________________________\n",
            "Layer (type)                 Output Shape              Param #   \n",
            "=================================================================\n",
            "dense_12 (Dense)             (None, 128)               131200    \n",
            "_________________________________________________________________\n",
            "batch_normalization_2 (Batch (None, 128)               512       \n",
            "_________________________________________________________________\n",
            "activation_10 (Activation)   (None, 128)               0         \n",
            "_________________________________________________________________\n",
            "dense_13 (Dense)             (None, 128)               16512     \n",
            "_________________________________________________________________\n",
            "batch_normalization_3 (Batch (None, 128)               512       \n",
            "_________________________________________________________________\n",
            "activation_11 (Activation)   (None, 128)               0         \n",
            "_________________________________________________________________\n",
            "dense_14 (Dense)             (None, 10)                1290      \n",
            "_________________________________________________________________\n",
            "activation_12 (Activation)   (None, 10)                0         \n",
            "=================================================================\n",
            "Total params: 150,026\n",
            "Trainable params: 149,514\n",
            "Non-trainable params: 512\n",
            "_________________________________________________________________\n"
          ],
          "name": "stdout"
        }
      ]
    },
    {
      "cell_type": "code",
      "metadata": {
        "id": "mIVssdwrJgkr",
        "colab_type": "code",
        "colab": {
          "base_uri": "https://localhost:8080/",
          "height": 1000
        },
        "outputId": "a135c8ef-52c2-45a4-b11f-292ac9b2be98"
      },
      "source": [
        "    # Fit the model\n",
        "    model.fit(X_train, y_train, epochs=100, batch_size=200, verbose= 1)"
      ],
      "execution_count": 47,
      "outputs": [
        {
          "output_type": "stream",
          "text": [
            "Epoch 1/100\n",
            "210/210 [==============================] - 1s 4ms/step - loss: 0.0561 - accuracy: 0.9813\n",
            "Epoch 2/100\n",
            "210/210 [==============================] - 1s 4ms/step - loss: 0.0600 - accuracy: 0.9805\n",
            "Epoch 3/100\n",
            "210/210 [==============================] - 1s 4ms/step - loss: 0.0672 - accuracy: 0.9775\n",
            "Epoch 4/100\n",
            "210/210 [==============================] - 1s 4ms/step - loss: 0.0617 - accuracy: 0.9784\n",
            "Epoch 5/100\n",
            "210/210 [==============================] - 1s 4ms/step - loss: 0.0655 - accuracy: 0.9772\n",
            "Epoch 6/100\n",
            "210/210 [==============================] - 1s 4ms/step - loss: 0.0565 - accuracy: 0.9811\n",
            "Epoch 7/100\n",
            "210/210 [==============================] - 1s 4ms/step - loss: 0.0639 - accuracy: 0.9791\n",
            "Epoch 8/100\n",
            "210/210 [==============================] - 1s 4ms/step - loss: 0.0556 - accuracy: 0.9807\n",
            "Epoch 9/100\n",
            "210/210 [==============================] - 1s 4ms/step - loss: 0.0569 - accuracy: 0.9807\n",
            "Epoch 10/100\n",
            "210/210 [==============================] - 1s 4ms/step - loss: 0.0641 - accuracy: 0.9780\n",
            "Epoch 11/100\n",
            "210/210 [==============================] - 1s 4ms/step - loss: 0.0674 - accuracy: 0.9770\n",
            "Epoch 12/100\n",
            "210/210 [==============================] - 1s 4ms/step - loss: 0.0619 - accuracy: 0.9787\n",
            "Epoch 13/100\n",
            "210/210 [==============================] - 1s 4ms/step - loss: 0.0575 - accuracy: 0.9801\n",
            "Epoch 14/100\n",
            "210/210 [==============================] - 1s 4ms/step - loss: 0.0538 - accuracy: 0.9815\n",
            "Epoch 15/100\n",
            "210/210 [==============================] - 1s 4ms/step - loss: 0.0619 - accuracy: 0.9790\n",
            "Epoch 16/100\n",
            "210/210 [==============================] - 1s 4ms/step - loss: 0.0565 - accuracy: 0.9809\n",
            "Epoch 17/100\n",
            "210/210 [==============================] - 1s 4ms/step - loss: 0.0630 - accuracy: 0.9782\n",
            "Epoch 18/100\n",
            "210/210 [==============================] - 1s 4ms/step - loss: 0.0587 - accuracy: 0.9801\n",
            "Epoch 19/100\n",
            "210/210 [==============================] - 1s 4ms/step - loss: 0.0613 - accuracy: 0.9797\n",
            "Epoch 20/100\n",
            "210/210 [==============================] - 1s 4ms/step - loss: 0.0593 - accuracy: 0.9802\n",
            "Epoch 21/100\n",
            "210/210 [==============================] - 1s 4ms/step - loss: 0.0551 - accuracy: 0.9816\n",
            "Epoch 22/100\n",
            "210/210 [==============================] - 1s 4ms/step - loss: 0.0639 - accuracy: 0.9781\n",
            "Epoch 23/100\n",
            "210/210 [==============================] - 1s 4ms/step - loss: 0.0667 - accuracy: 0.9770\n",
            "Epoch 24/100\n",
            "210/210 [==============================] - 1s 4ms/step - loss: 0.0608 - accuracy: 0.9792\n",
            "Epoch 25/100\n",
            "210/210 [==============================] - 1s 4ms/step - loss: 0.0556 - accuracy: 0.9808\n",
            "Epoch 26/100\n",
            "210/210 [==============================] - 1s 4ms/step - loss: 0.0593 - accuracy: 0.9797\n",
            "Epoch 27/100\n",
            "210/210 [==============================] - 1s 4ms/step - loss: 0.0589 - accuracy: 0.9799\n",
            "Epoch 28/100\n",
            "210/210 [==============================] - 1s 4ms/step - loss: 0.0581 - accuracy: 0.9803\n",
            "Epoch 29/100\n",
            "210/210 [==============================] - 1s 4ms/step - loss: 0.0565 - accuracy: 0.9812\n",
            "Epoch 30/100\n",
            "210/210 [==============================] - 1s 4ms/step - loss: 0.0664 - accuracy: 0.9775\n",
            "Epoch 31/100\n",
            "210/210 [==============================] - 1s 4ms/step - loss: 0.0589 - accuracy: 0.9798\n",
            "Epoch 32/100\n",
            "210/210 [==============================] - 1s 4ms/step - loss: 0.0575 - accuracy: 0.9805\n",
            "Epoch 33/100\n",
            "210/210 [==============================] - 1s 4ms/step - loss: 0.0573 - accuracy: 0.9805\n",
            "Epoch 34/100\n",
            "210/210 [==============================] - 1s 4ms/step - loss: 0.0516 - accuracy: 0.9815\n",
            "Epoch 35/100\n",
            "210/210 [==============================] - 1s 4ms/step - loss: 0.0574 - accuracy: 0.9808\n",
            "Epoch 36/100\n",
            "210/210 [==============================] - 1s 4ms/step - loss: 0.0590 - accuracy: 0.9802\n",
            "Epoch 37/100\n",
            "210/210 [==============================] - 1s 4ms/step - loss: 0.0548 - accuracy: 0.9810\n",
            "Epoch 38/100\n",
            "210/210 [==============================] - 1s 4ms/step - loss: 0.0574 - accuracy: 0.9805\n",
            "Epoch 39/100\n",
            "210/210 [==============================] - 1s 4ms/step - loss: 0.0627 - accuracy: 0.9788\n",
            "Epoch 40/100\n",
            "210/210 [==============================] - 1s 4ms/step - loss: 0.0529 - accuracy: 0.9823\n",
            "Epoch 41/100\n",
            "210/210 [==============================] - 1s 4ms/step - loss: 0.0514 - accuracy: 0.9830\n",
            "Epoch 42/100\n",
            "210/210 [==============================] - 1s 4ms/step - loss: 0.0600 - accuracy: 0.9798\n",
            "Epoch 43/100\n",
            "210/210 [==============================] - 1s 4ms/step - loss: 0.0567 - accuracy: 0.9805\n",
            "Epoch 44/100\n",
            "210/210 [==============================] - 1s 4ms/step - loss: 0.0567 - accuracy: 0.9809\n",
            "Epoch 45/100\n",
            "210/210 [==============================] - 1s 4ms/step - loss: 0.0550 - accuracy: 0.9820\n",
            "Epoch 46/100\n",
            "210/210 [==============================] - 1s 4ms/step - loss: 0.0563 - accuracy: 0.9813\n",
            "Epoch 47/100\n",
            "210/210 [==============================] - 1s 4ms/step - loss: 0.0508 - accuracy: 0.9825\n",
            "Epoch 48/100\n",
            "210/210 [==============================] - 1s 4ms/step - loss: 0.0480 - accuracy: 0.9838\n",
            "Epoch 49/100\n",
            "210/210 [==============================] - 1s 4ms/step - loss: 0.0566 - accuracy: 0.9805\n",
            "Epoch 50/100\n",
            "210/210 [==============================] - 1s 4ms/step - loss: 0.0495 - accuracy: 0.9836\n",
            "Epoch 51/100\n",
            "210/210 [==============================] - 1s 4ms/step - loss: 0.0465 - accuracy: 0.9845\n",
            "Epoch 52/100\n",
            "210/210 [==============================] - 1s 4ms/step - loss: 0.0528 - accuracy: 0.9820\n",
            "Epoch 53/100\n",
            "210/210 [==============================] - 1s 4ms/step - loss: 0.0477 - accuracy: 0.9833\n",
            "Epoch 54/100\n",
            "210/210 [==============================] - 1s 4ms/step - loss: 0.0498 - accuracy: 0.9826\n",
            "Epoch 55/100\n",
            "210/210 [==============================] - 1s 4ms/step - loss: 0.0590 - accuracy: 0.9793\n",
            "Epoch 56/100\n",
            "210/210 [==============================] - 1s 4ms/step - loss: 0.0487 - accuracy: 0.9834\n",
            "Epoch 57/100\n",
            "210/210 [==============================] - 1s 4ms/step - loss: 0.0480 - accuracy: 0.9836\n",
            "Epoch 58/100\n",
            "210/210 [==============================] - 1s 4ms/step - loss: 0.0572 - accuracy: 0.9811\n",
            "Epoch 59/100\n",
            "210/210 [==============================] - 1s 4ms/step - loss: 0.0548 - accuracy: 0.9814\n",
            "Epoch 60/100\n",
            "210/210 [==============================] - 1s 4ms/step - loss: 0.0535 - accuracy: 0.9818\n",
            "Epoch 61/100\n",
            "210/210 [==============================] - 1s 4ms/step - loss: 0.0491 - accuracy: 0.9834\n",
            "Epoch 62/100\n",
            "210/210 [==============================] - 1s 4ms/step - loss: 0.0476 - accuracy: 0.9838\n",
            "Epoch 63/100\n",
            "210/210 [==============================] - 1s 4ms/step - loss: 0.0550 - accuracy: 0.9814\n",
            "Epoch 64/100\n",
            "210/210 [==============================] - 1s 4ms/step - loss: 0.0460 - accuracy: 0.9842\n",
            "Epoch 65/100\n",
            "210/210 [==============================] - 1s 4ms/step - loss: 0.0534 - accuracy: 0.9821\n",
            "Epoch 66/100\n",
            "210/210 [==============================] - 1s 4ms/step - loss: 0.0562 - accuracy: 0.9805\n",
            "Epoch 67/100\n",
            "210/210 [==============================] - 1s 4ms/step - loss: 0.0518 - accuracy: 0.9820\n",
            "Epoch 68/100\n",
            "210/210 [==============================] - 1s 4ms/step - loss: 0.0533 - accuracy: 0.9813\n",
            "Epoch 69/100\n",
            "210/210 [==============================] - 1s 4ms/step - loss: 0.0503 - accuracy: 0.9830\n",
            "Epoch 70/100\n",
            "210/210 [==============================] - 1s 4ms/step - loss: 0.0526 - accuracy: 0.9820\n",
            "Epoch 71/100\n",
            "210/210 [==============================] - 1s 4ms/step - loss: 0.0496 - accuracy: 0.9833\n",
            "Epoch 72/100\n",
            "210/210 [==============================] - 1s 4ms/step - loss: 0.0437 - accuracy: 0.9859\n",
            "Epoch 73/100\n",
            "210/210 [==============================] - 1s 4ms/step - loss: 0.0550 - accuracy: 0.9813\n",
            "Epoch 74/100\n",
            "210/210 [==============================] - 1s 4ms/step - loss: 0.0551 - accuracy: 0.9816\n",
            "Epoch 75/100\n",
            "210/210 [==============================] - 1s 4ms/step - loss: 0.0482 - accuracy: 0.9832\n",
            "Epoch 76/100\n",
            "210/210 [==============================] - 1s 5ms/step - loss: 0.0442 - accuracy: 0.9851\n",
            "Epoch 77/100\n",
            "210/210 [==============================] - 1s 5ms/step - loss: 0.0487 - accuracy: 0.9839\n",
            "Epoch 78/100\n",
            "210/210 [==============================] - 1s 5ms/step - loss: 0.0553 - accuracy: 0.9813\n",
            "Epoch 79/100\n",
            "210/210 [==============================] - 1s 5ms/step - loss: 0.0511 - accuracy: 0.9826\n",
            "Epoch 80/100\n",
            "210/210 [==============================] - 1s 5ms/step - loss: 0.0436 - accuracy: 0.9849\n",
            "Epoch 81/100\n",
            "210/210 [==============================] - 1s 4ms/step - loss: 0.0472 - accuracy: 0.9845\n",
            "Epoch 82/100\n",
            "210/210 [==============================] - 1s 4ms/step - loss: 0.0504 - accuracy: 0.9818\n",
            "Epoch 83/100\n",
            "210/210 [==============================] - 1s 4ms/step - loss: 0.0491 - accuracy: 0.9833\n",
            "Epoch 84/100\n",
            "210/210 [==============================] - 1s 4ms/step - loss: 0.0525 - accuracy: 0.9824\n",
            "Epoch 85/100\n",
            "210/210 [==============================] - 1s 4ms/step - loss: 0.0511 - accuracy: 0.9828\n",
            "Epoch 86/100\n",
            "210/210 [==============================] - 1s 4ms/step - loss: 0.0499 - accuracy: 0.9831\n",
            "Epoch 87/100\n",
            "210/210 [==============================] - 1s 4ms/step - loss: 0.0501 - accuracy: 0.9836\n",
            "Epoch 88/100\n",
            "210/210 [==============================] - 1s 4ms/step - loss: 0.0438 - accuracy: 0.9848\n",
            "Epoch 89/100\n",
            "210/210 [==============================] - 1s 4ms/step - loss: 0.0445 - accuracy: 0.9845\n",
            "Epoch 90/100\n",
            "210/210 [==============================] - 1s 4ms/step - loss: 0.0494 - accuracy: 0.9828\n",
            "Epoch 91/100\n",
            "210/210 [==============================] - 1s 4ms/step - loss: 0.0516 - accuracy: 0.9826\n",
            "Epoch 92/100\n",
            "210/210 [==============================] - 1s 4ms/step - loss: 0.0461 - accuracy: 0.9838\n",
            "Epoch 93/100\n",
            "210/210 [==============================] - 1s 4ms/step - loss: 0.0464 - accuracy: 0.9844\n",
            "Epoch 94/100\n",
            "210/210 [==============================] - 1s 4ms/step - loss: 0.0463 - accuracy: 0.9843\n",
            "Epoch 95/100\n",
            "210/210 [==============================] - 1s 4ms/step - loss: 0.0473 - accuracy: 0.9841\n",
            "Epoch 96/100\n",
            "210/210 [==============================] - 1s 4ms/step - loss: 0.0512 - accuracy: 0.9826\n",
            "Epoch 97/100\n",
            "210/210 [==============================] - 1s 4ms/step - loss: 0.0494 - accuracy: 0.9828\n",
            "Epoch 98/100\n",
            "210/210 [==============================] - 1s 4ms/step - loss: 0.0443 - accuracy: 0.9845\n",
            "Epoch 99/100\n",
            "210/210 [==============================] - 1s 4ms/step - loss: 0.0488 - accuracy: 0.9840\n",
            "Epoch 100/100\n",
            "210/210 [==============================] - 1s 4ms/step - loss: 0.0414 - accuracy: 0.9863\n"
          ],
          "name": "stdout"
        },
        {
          "output_type": "execute_result",
          "data": {
            "text/plain": [
              "<tensorflow.python.keras.callbacks.History at 0x7fc9ce1d8518>"
            ]
          },
          "metadata": {
            "tags": []
          },
          "execution_count": 47
        }
      ]
    },
    {
      "cell_type": "code",
      "metadata": {
        "id": "CcDVI579Jvre",
        "colab_type": "code",
        "colab": {
          "base_uri": "https://localhost:8080/",
          "height": 51
        },
        "outputId": "bf0a8f04-a634-499a-f354-eaad751782a7"
      },
      "source": [
        "results = model.evaluate(X_val, y_val)\n",
        "print('Val_acc using NN Batch ADAM (Dropout) : ', results[1])"
      ],
      "execution_count": 48,
      "outputs": [
        {
          "output_type": "stream",
          "text": [
            "1875/1875 [==============================] - 5s 3ms/step - loss: 0.3719 - accuracy: 0.9492\n",
            "Val_acc using NN Batch ADAM (Dropout) :  0.9491999745368958\n"
          ],
          "name": "stdout"
        }
      ]
    },
    {
      "cell_type": "code",
      "metadata": {
        "id": "22_0NujWJ1qn",
        "colab_type": "code",
        "colab": {
          "base_uri": "https://localhost:8080/",
          "height": 204
        },
        "outputId": "97fe0014-b8ee-4129-e77d-4e216cf90c61"
      },
      "source": [
        "#Store the accuracy results for each model in a dataframe for final comparison\n",
        "tempResultsDf = pd.DataFrame({'Method':['NN Batch ADAM (Dropout)'], 'accuracy': [results[1]]},index={'5'})\n",
        "results_on_val= pd.concat([results_on_val, tempResultsDf])\n",
        "results_on_val = results_on_val[['Method', 'accuracy']]\n",
        "results_on_val"
      ],
      "execution_count": 49,
      "outputs": [
        {
          "output_type": "execute_result",
          "data": {
            "text/html": [
              "<div>\n",
              "<style scoped>\n",
              "    .dataframe tbody tr th:only-of-type {\n",
              "        vertical-align: middle;\n",
              "    }\n",
              "\n",
              "    .dataframe tbody tr th {\n",
              "        vertical-align: top;\n",
              "    }\n",
              "\n",
              "    .dataframe thead th {\n",
              "        text-align: right;\n",
              "    }\n",
              "</style>\n",
              "<table border=\"1\" class=\"dataframe\">\n",
              "  <thead>\n",
              "    <tr style=\"text-align: right;\">\n",
              "      <th></th>\n",
              "      <th>Method</th>\n",
              "      <th>accuracy</th>\n",
              "    </tr>\n",
              "  </thead>\n",
              "  <tbody>\n",
              "    <tr>\n",
              "      <th>1</th>\n",
              "      <td>NN SDG</td>\n",
              "      <td>0.756950</td>\n",
              "    </tr>\n",
              "    <tr>\n",
              "      <th>2</th>\n",
              "      <td>NN SGD (Batch Normalization)</td>\n",
              "      <td>0.756967</td>\n",
              "    </tr>\n",
              "    <tr>\n",
              "      <th>3</th>\n",
              "      <td>NN ADAM (Batch Normalization)</td>\n",
              "      <td>0.939500</td>\n",
              "    </tr>\n",
              "    <tr>\n",
              "      <th>4</th>\n",
              "      <td>NN Batch ADAM (Hyperparameters)</td>\n",
              "      <td>0.948917</td>\n",
              "    </tr>\n",
              "    <tr>\n",
              "      <th>5</th>\n",
              "      <td>NN Batch ADAM (Dropout)</td>\n",
              "      <td>0.949200</td>\n",
              "    </tr>\n",
              "  </tbody>\n",
              "</table>\n",
              "</div>"
            ],
            "text/plain": [
              "                            Method  accuracy\n",
              "1                           NN SDG  0.756950\n",
              "2     NN SGD (Batch Normalization)  0.756967\n",
              "3    NN ADAM (Batch Normalization)  0.939500\n",
              "4  NN Batch ADAM (Hyperparameters)  0.948917\n",
              "5          NN Batch ADAM (Dropout)  0.949200"
            ]
          },
          "metadata": {
            "tags": []
          },
          "execution_count": 49
        }
      ]
    },
    {
      "cell_type": "markdown",
      "metadata": {
        "id": "QptJzI3NREDP",
        "colab_type": "text"
      },
      "source": [
        "## Evaluation - Using the Testing Data Set"
      ]
    },
    {
      "cell_type": "code",
      "metadata": {
        "id": "h3qdnFHgOJm4",
        "colab_type": "code",
        "colab": {
          "base_uri": "https://localhost:8080/",
          "height": 51
        },
        "outputId": "6381372e-3fca-4dc4-b83b-2045db817ebd"
      },
      "source": [
        "results = model.evaluate(X_test, y_test)\n",
        "print('Val_acc using NN Batch ADAM Dropout(Test_Data) : ', results[1])"
      ],
      "execution_count": 50,
      "outputs": [
        {
          "output_type": "stream",
          "text": [
            "563/563 [==============================] - 2s 3ms/step - loss: 1.1956 - accuracy: 0.8426\n",
            "Val_acc using NN Batch ADAM Dropout(Test_Data) :  0.8426111340522766\n"
          ],
          "name": "stdout"
        }
      ]
    },
    {
      "cell_type": "code",
      "metadata": {
        "id": "mk_H3AUdM6wu",
        "colab_type": "code",
        "colab": {
          "base_uri": "https://localhost:8080/",
          "height": 235
        },
        "outputId": "ef02826d-dd62-4529-cdc2-30cdc192ed4c"
      },
      "source": [
        "#Store the accuracy results for each model in a dataframe for final comparison\n",
        "tempResultsDf = pd.DataFrame({'Method':['NN Batch ADAM Dropout(Test_Data)'], 'accuracy': [results[1]]},index={'6'})\n",
        "results_on_val= pd.concat([results_on_val, tempResultsDf])\n",
        "results_on_val = results_on_val[['Method', 'accuracy']]\n",
        "results_on_val"
      ],
      "execution_count": 51,
      "outputs": [
        {
          "output_type": "execute_result",
          "data": {
            "text/html": [
              "<div>\n",
              "<style scoped>\n",
              "    .dataframe tbody tr th:only-of-type {\n",
              "        vertical-align: middle;\n",
              "    }\n",
              "\n",
              "    .dataframe tbody tr th {\n",
              "        vertical-align: top;\n",
              "    }\n",
              "\n",
              "    .dataframe thead th {\n",
              "        text-align: right;\n",
              "    }\n",
              "</style>\n",
              "<table border=\"1\" class=\"dataframe\">\n",
              "  <thead>\n",
              "    <tr style=\"text-align: right;\">\n",
              "      <th></th>\n",
              "      <th>Method</th>\n",
              "      <th>accuracy</th>\n",
              "    </tr>\n",
              "  </thead>\n",
              "  <tbody>\n",
              "    <tr>\n",
              "      <th>1</th>\n",
              "      <td>NN SDG</td>\n",
              "      <td>0.756950</td>\n",
              "    </tr>\n",
              "    <tr>\n",
              "      <th>2</th>\n",
              "      <td>NN SGD (Batch Normalization)</td>\n",
              "      <td>0.756967</td>\n",
              "    </tr>\n",
              "    <tr>\n",
              "      <th>3</th>\n",
              "      <td>NN ADAM (Batch Normalization)</td>\n",
              "      <td>0.939500</td>\n",
              "    </tr>\n",
              "    <tr>\n",
              "      <th>4</th>\n",
              "      <td>NN Batch ADAM (Hyperparameters)</td>\n",
              "      <td>0.948917</td>\n",
              "    </tr>\n",
              "    <tr>\n",
              "      <th>5</th>\n",
              "      <td>NN Batch ADAM (Dropout)</td>\n",
              "      <td>0.949200</td>\n",
              "    </tr>\n",
              "    <tr>\n",
              "      <th>6</th>\n",
              "      <td>NN Batch ADAM Dropout(Test_Data)</td>\n",
              "      <td>0.842611</td>\n",
              "    </tr>\n",
              "  </tbody>\n",
              "</table>\n",
              "</div>"
            ],
            "text/plain": [
              "                             Method  accuracy\n",
              "1                            NN SDG  0.756950\n",
              "2      NN SGD (Batch Normalization)  0.756967\n",
              "3     NN ADAM (Batch Normalization)  0.939500\n",
              "4   NN Batch ADAM (Hyperparameters)  0.948917\n",
              "5           NN Batch ADAM (Dropout)  0.949200\n",
              "6  NN Batch ADAM Dropout(Test_Data)  0.842611"
            ]
          },
          "metadata": {
            "tags": []
          },
          "execution_count": 51
        }
      ]
    },
    {
      "cell_type": "markdown",
      "metadata": {
        "id": "KhpMnm2cOyi5",
        "colab_type": "text"
      },
      "source": [
        "# Predicting Images using Testing Data Set"
      ]
    },
    {
      "cell_type": "code",
      "metadata": {
        "id": "6cs9Y-vsP-_A",
        "colab_type": "code",
        "colab": {
          "base_uri": "https://localhost:8080/",
          "height": 105
        },
        "outputId": "9596eb3f-3cd4-4e7d-a4c8-4673d009d79e"
      },
      "source": [
        "#Predicting for all images\n",
        "y_pred=model.predict_classes(X_test)\n",
        "print(y_pred)"
      ],
      "execution_count": 52,
      "outputs": [
        {
          "output_type": "stream",
          "text": [
            "WARNING:tensorflow:From <ipython-input-52-68ec98cdf36b>:2: Sequential.predict_classes (from tensorflow.python.keras.engine.sequential) is deprecated and will be removed after 2021-01-01.\n",
            "Instructions for updating:\n",
            "Please use instead:* `np.argmax(model.predict(x), axis=-1)`,   if your model does multi-class classification   (e.g. if it uses a `softmax` last-layer activation).* `(model.predict(x) > 0.5).astype(\"int32\")`,   if your model does binary classification   (e.g. if it uses a `sigmoid` last-layer activation).\n",
            "[1 7 2 ... 7 9 2]\n"
          ],
          "name": "stdout"
        }
      ]
    },
    {
      "cell_type": "markdown",
      "metadata": {
        "id": "cro4EbZmPBGx",
        "colab_type": "text"
      },
      "source": [
        "#### Image 1"
      ]
    },
    {
      "cell_type": "code",
      "metadata": {
        "id": "XYVwI7FtL47Y",
        "colab_type": "code",
        "colab": {
          "base_uri": "https://localhost:8080/",
          "height": 283
        },
        "outputId": "7d40b94d-93d6-4ce8-ca2f-6903c9a16047"
      },
      "source": [
        "#Showing the image\n",
        "plt.imshow(X_test[1].reshape(32,32),cmap='gray')"
      ],
      "execution_count": 53,
      "outputs": [
        {
          "output_type": "execute_result",
          "data": {
            "text/plain": [
              "<matplotlib.image.AxesImage at 0x7fc970fd1c50>"
            ]
          },
          "metadata": {
            "tags": []
          },
          "execution_count": 53
        },
        {
          "output_type": "display_data",
          "data": {
            "image/png": "[encoded data removed]",
            "text/plain": [
              "<Figure size 432x288 with 1 Axes>"
            ]
          },
          "metadata": {
            "tags": [],
            "needs_background": "light"
          }
        }
      ]
    },
    {
      "cell_type": "code",
      "metadata": {
        "id": "sSO-JDwXL7Wj",
        "colab_type": "code",
        "colab": {
          "base_uri": "https://localhost:8080/",
          "height": 34
        },
        "outputId": "47657844-1fa6-40f8-c622-2ddd759e910e"
      },
      "source": [
        "#Predicting the digits\n",
        "y_pred[1]"
      ],
      "execution_count": 54,
      "outputs": [
        {
          "output_type": "execute_result",
          "data": {
            "text/plain": [
              "7"
            ]
          },
          "metadata": {
            "tags": []
          },
          "execution_count": 54
        }
      ]
    },
    {
      "cell_type": "markdown",
      "metadata": {
        "id": "fyMAti9nPD_E",
        "colab_type": "text"
      },
      "source": [
        "#### Image 2"
      ]
    },
    {
      "cell_type": "code",
      "metadata": {
        "id": "PcjadSvyPDTg",
        "colab_type": "code",
        "colab": {
          "base_uri": "https://localhost:8080/",
          "height": 283
        },
        "outputId": "4aee0698-75bb-42d3-b6e4-69feaa327ad1"
      },
      "source": [
        "#Showing the image\n",
        "plt.imshow(X_test[12000].reshape(32,32),cmap='gray')"
      ],
      "execution_count": 55,
      "outputs": [
        {
          "output_type": "execute_result",
          "data": {
            "text/plain": [
              "<matplotlib.image.AxesImage at 0x7fc974ebaa90>"
            ]
          },
          "metadata": {
            "tags": []
          },
          "execution_count": 55
        },
        {
          "output_type": "display_data",
          "data": {
            "image/png": "[encoded data removed]",
            "text/plain": [
              "<Figure size 432x288 with 1 Axes>"
            ]
          },
          "metadata": {
            "tags": [],
            "needs_background": "light"
          }
        }
      ]
    },
    {
      "cell_type": "code",
      "metadata": {
        "id": "KPMtMimlPMDf",
        "colab_type": "code",
        "colab": {
          "base_uri": "https://localhost:8080/",
          "height": 34
        },
        "outputId": "5ef8573e-9d99-4494-896a-91a2a66fec57"
      },
      "source": [
        "#Predicting the digits\n",
        "y_pred[12000]"
      ],
      "execution_count": 56,
      "outputs": [
        {
          "output_type": "execute_result",
          "data": {
            "text/plain": [
              "3"
            ]
          },
          "metadata": {
            "tags": []
          },
          "execution_count": 56
        }
      ]
    },
    {
      "cell_type": "markdown",
      "metadata": {
        "id": "Xnf2JBfjPUr-",
        "colab_type": "text"
      },
      "source": [
        "#### Image 3"
      ]
    },
    {
      "cell_type": "code",
      "metadata": {
        "id": "HAoHR_AMPUGv",
        "colab_type": "code",
        "colab": {
          "base_uri": "https://localhost:8080/",
          "height": 283
        },
        "outputId": "9300a25e-c432-4db0-91b7-ede5b3ed83e0"
      },
      "source": [
        "#Showing the image\n",
        "plt.imshow(X_test[17999].reshape(32,32),cmap='gray')"
      ],
      "execution_count": 57,
      "outputs": [
        {
          "output_type": "execute_result",
          "data": {
            "text/plain": [
              "<matplotlib.image.AxesImage at 0x7fc974e708d0>"
            ]
          },
          "metadata": {
            "tags": []
          },
          "execution_count": 57
        },
        {
          "output_type": "display_data",
          "data": {
            "image/png": "[encoded data removed]",
            "text/plain": [
              "<Figure size 432x288 with 1 Axes>"
            ]
          },
          "metadata": {
            "tags": [],
            "needs_background": "light"
          }
        }
      ]
    },
    {
      "cell_type": "code",
      "metadata": {
        "id": "n2myD9dePhHm",
        "colab_type": "code",
        "colab": {
          "base_uri": "https://localhost:8080/",
          "height": 34
        },
        "outputId": "4c4c8c9d-42b3-40c7-a325-d4304f238db3"
      },
      "source": [
        "#Predicting the digits\n",
        "y_pred[17999]"
      ],
      "execution_count": 58,
      "outputs": [
        {
          "output_type": "execute_result",
          "data": {
            "text/plain": [
              "2"
            ]
          },
          "metadata": {
            "tags": []
          },
          "execution_count": 58
        }
      ]
    },
    {
      "cell_type": "markdown",
      "metadata": {
        "id": "5eJK9E9AU3yI",
        "colab_type": "text"
      },
      "source": [
        "#### Image 4"
      ]
    },
    {
      "cell_type": "code",
      "metadata": {
        "id": "ncckC85iU28t",
        "colab_type": "code",
        "colab": {
          "base_uri": "https://localhost:8080/",
          "height": 283
        },
        "outputId": "801b9583-98de-4fd4-bc21-299d5496d5c9"
      },
      "source": [
        "#Showing the image\n",
        "plt.imshow(X_test[3000].reshape(32,32),cmap='gray')"
      ],
      "execution_count": 59,
      "outputs": [
        {
          "output_type": "execute_result",
          "data": {
            "text/plain": [
              "<matplotlib.image.AxesImage at 0x7fc97509cf60>"
            ]
          },
          "metadata": {
            "tags": []
          },
          "execution_count": 59
        },
        {
          "output_type": "display_data",
          "data": {
            "image/png": "[encoded data removed]",
            "text/plain": [
              "<Figure size 432x288 with 1 Axes>"
            ]
          },
          "metadata": {
            "tags": [],
            "needs_background": "light"
          }
        }
      ]
    },
    {
      "cell_type": "code",
      "metadata": {
        "id": "59Rl8twEVES3",
        "colab_type": "code",
        "colab": {
          "base_uri": "https://localhost:8080/",
          "height": 34
        },
        "outputId": "196bb3e8-90e7-409f-d64c-66021a10ed7b"
      },
      "source": [
        "#Predicting the digits\n",
        "y_pred[3000]"
      ],
      "execution_count": 60,
      "outputs": [
        {
          "output_type": "execute_result",
          "data": {
            "text/plain": [
              "3"
            ]
          },
          "metadata": {
            "tags": []
          },
          "execution_count": 60
        }
      ]
    },
    {
      "cell_type": "markdown",
      "metadata": {
        "id": "KZ9APnsYTblh",
        "colab_type": "text"
      },
      "source": [
        "## Confusion matrix demonstrating the accuracy of the classifier"
      ]
    },
    {
      "cell_type": "code",
      "metadata": {
        "id": "weH82YuegoDR",
        "colab_type": "code",
        "colab": {
          "base_uri": "https://localhost:8080/",
          "height": 483
        },
        "outputId": "71fbd976-9b44-43da-a72c-fe8188be7a76"
      },
      "source": [
        "from sklearn.metrics import confusion_matrix\n",
        "import seaborn as sns\n",
        "\n",
        "# Set the figure size\n",
        "plt.figure(figsize=(12, 8))\n",
        "\n",
        "# Calculate the confusion matrix\n",
        "cm = confusion_matrix(y_true=np.argmax(y_test, axis=1), y_pred=y_pred)\n",
        "\n",
        "# Normalize the confusion matrix\n",
        "cm = cm.astype('float') / cm.sum(axis=1)[:, np.newaxis] * 100.0\n",
        "\n",
        "# Visualize the confusion matrix\n",
        "sns.heatmap(cm, annot=True, cmap='Reds', fmt='.1f', square=True);"
      ],
      "execution_count": 61,
      "outputs": [
        {
          "output_type": "display_data",
          "data": {
            "image/png": "[encoded data removed]",
            "text/plain": [
              "<Figure size 864x576 with 2 Axes>"
            ]
          },
          "metadata": {
            "tags": [],
            "needs_background": "light"
          }
        }
      ]
    },
    {
      "cell_type": "markdown",
      "metadata": {
        "id": "cCCYw4Nq-jFb",
        "colab_type": "text"
      },
      "source": [
        "## Classification Report demonstrating the accuracy of the classifier"
      ]
    },
    {
      "cell_type": "code",
      "metadata": {
        "id": "KY6QmWTU-Aym",
        "colab_type": "code",
        "colab": {
          "base_uri": "https://localhost:8080/",
          "height": 306
        },
        "outputId": "b3e0e1de-ea1e-4278-aee4-2b2a5b31e211"
      },
      "source": [
        "print(classification_report(y_true=np.argmax(y_test, axis=1), y_pred=y_pred))"
      ],
      "execution_count": 62,
      "outputs": [
        {
          "output_type": "stream",
          "text": [
            "              precision    recall  f1-score   support\n",
            "\n",
            "           0       0.85      0.88      0.87      1814\n",
            "           1       0.84      0.85      0.85      1828\n",
            "           2       0.90      0.85      0.87      1803\n",
            "           3       0.81      0.80      0.80      1719\n",
            "           4       0.89      0.87      0.88      1812\n",
            "           5       0.85      0.82      0.83      1768\n",
            "           6       0.78      0.84      0.81      1832\n",
            "           7       0.88      0.88      0.88      1808\n",
            "           8       0.79      0.82      0.80      1812\n",
            "           9       0.85      0.82      0.83      1804\n",
            "\n",
            "    accuracy                           0.84     18000\n",
            "   macro avg       0.84      0.84      0.84     18000\n",
            "weighted avg       0.84      0.84      0.84     18000\n",
            "\n"
          ],
          "name": "stdout"
        }
      ]
    },
    {
      "cell_type": "markdown",
      "metadata": {
        "id": "UiENKRQjTxcp",
        "colab_type": "text"
      },
      "source": [
        "# Conclusion"
      ]
    },
    {
      "cell_type": "markdown",
      "metadata": {
        "id": "qtD8tLvuDvDu",
        "colab_type": "text"
      },
      "source": [
        "* Neural Network model was trained with the Street View House Numbers (SVHN) Dataset.\n",
        "\n",
        "* Started with Simple Feed Forward Neural Network with Sigmoid and Optimizer as Stochastic Gradient Descent (SGD) with initialization weight which gave really low accuracy and high loss in training data.\n",
        "\n",
        "* Moved to RELU  and then with optimizer as ADAM which bumped up the accuracy and also reduced the loss.\n",
        "\n",
        "* Then tries with many hyperparameters(Hidden Layers, Hidden Units,learning Rate, Number of Epochs, activations Functions).\n",
        "\n",
        "* Using Deep Deural Betwork with Batch Normalization, hyper parameter tuning and 20% dropout  This resulted a tremendous improvement and finally got 85% accuracy on validation data and close to 80% accuracy on the Testing data set.\n",
        "\n",
        "* The predicting of the images from the testing data set depitcs the images correctly.\n",
        "\n",
        "* Classification report and Confusion matrix depicts clearly that single digit from SVHN is predicted with pretty high accuracy using the final model. "
      ]
    },
    {
      "cell_type": "markdown",
      "metadata": {
        "id": "qsYQGhKYYACP",
        "colab_type": "text"
      },
      "source": [
        "### Thank you"
      ]
    }
  ]
}